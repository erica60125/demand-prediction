{
 "cells": [
  {
   "cell_type": "code",
   "execution_count": null,
   "metadata": {},
   "outputs": [],
   "source": [
    "# 匯入所需的模組 [B]\n",
    "%matplotlib inline\n",
    "import time\n",
    "import matplotlib.pyplot as plt\n",
    "import numpy as np # Use numpy to convert to arrays\n",
    "import pandas as pd # 引用套件並縮寫為 pd\n",
    "import pmdarima as pm\n",
    "from statsmodels.graphics.tsaplots import plot_acf, plot_pacf \n",
    "from statsmodels.tsa.statespace.sarimax import SARIMAX\n",
    "from statsmodels.tsa.arima.model import ARIMA\n",
    "from statsmodels.tsa.arima_model import ARMAResults\n",
    "import pymysql\n",
    "from datetime import datetime, timedelta\n",
    "from meteocalc import Temp, dew_point, heat_index, wind_chill, feels_like\n",
    "from sklearn import preprocessing\n",
    "# 匯入所需的模組 [E]"
   ]
  },
  {
   "cell_type": "code",
   "execution_count": null,
   "metadata": {},
   "outputs": [],
   "source": [
    "# 參數宣告 [B]\n",
    "begin_date = '2017-06-08'\n",
    "end_date = '2021-06-08'\n",
    "train_begin_date = '2017-06-08'\n",
    "train_end_date = '2017-09-07'\n",
    "test_begin_date = '2019-06-08'\n",
    "test_end_date = '2020-06-07'\n",
    "predict_begin_date = '2020-06-08'\n",
    "predict_end_date = '2021-06-07'\n",
    "# 參數宣告 [E]"
   ]
  },
  {
   "cell_type": "code",
   "execution_count": null,
   "metadata": {
    "scrolled": true
   },
   "outputs": [],
   "source": [
    "# 正規化最大最小值 [B]\n",
    "temperature_range = np.array([0, 50])\n",
    "pres_range = np.array([0, 1500])\n",
    "wind_speed_range = np.array([0, 80])\n",
    "wind_dir_range = np.array([0, 360])\n",
    "r24_range = np.array([0, 400])\n",
    "huvi_range = np.array([0, 30])\n",
    "day_of_year_range = np.array([1, 366])\n",
    "week_range = np.array([1, 53])\n",
    "hour_range = np.array([0, 24])\n",
    "minute_range = np.array([0, 60])\n",
    "weekday_range = np.array([1, 7])\n",
    "minutes_of_the_day_range = np.array([0, 86400])\n",
    "demand_range = np.array([0, 700])\n",
    "# 正規化最大最小值 [B]"
   ]
  },
  {
   "cell_type": "code",
   "execution_count": null,
   "metadata": {},
   "outputs": [],
   "source": [
    "# 體感溫度計算 [B]\n",
    "def c_feel_like(temperature, wind_speed):\n",
    "    feels_like = int(13.12+(0.615*float(temperature))-(11.37*(float(wind_speed)*3.6)**0.16)+(0.3965*float(temperature))*((float(wind_speed)*3.6)**0.16))\n",
    "    return feels_like\n",
    "# 體感溫度計算 [E]"
   ]
  },
  {
   "cell_type": "code",
   "execution_count": null,
   "metadata": {},
   "outputs": [],
   "source": [
    "# 撈取需量資料 [B]\n",
    "try: \n",
    "    conn  =  pymysql.connect ( host = ' ' ,  user = ' ' ,  passwd = \" \" ,  db = 'ncku_demand' ) \n",
    "    cur  =  conn.cursor() \n",
    "    select_sql = '''SELECT `id`, `demand_min`, `demand_quarter`, `Total_value`, `Temperature`, \n",
    "                    `humd`, `pres`, `w_DSD`, `w_DIR`, `h_FX`, `24R`, `h_UVI`, `T_Min`, `T_Max`, \n",
    "                    `day_of_year`, `data_week`, `data_date`, `data_hour`, `data_minute`, `data_weekday`, \n",
    "                    `minutes_of_the_day`, `datetime`\n",
    "                    FROM `demand_with_weather_data` \n",
    "                    WHERE `datetime` >= '{}' AND `datetime` < '{}'\n",
    "                    ORDER BY `datetime` '''.format(begin_date, end_date)\n",
    "    result_object = cur.execute(select_sql)\n",
    "    results_values_list = cur.fetchall()\n",
    "    result_key_list = [i[0] for i in cur.description]\n",
    "    \n",
    "    demand_dataframe = pd.DataFrame(results_values_list)\n",
    "    demand_dataframe.columns = result_key_list\n",
    "    timestamp = pd.to_datetime(demand_dataframe.datetime, infer_datetime_format=True).values.astype(float)\n",
    "    demand_dataframe['timestamp'] = timestamp.tolist()\n",
    "    demand_dataframe = demand_dataframe.set_index('datetime')\n",
    "    cur.close () \n",
    "    conn.close()\n",
    "except Exception as e:\n",
    "    print(e)\n",
    "# 撈取需量資料 [E]"
   ]
  },
  {
   "cell_type": "code",
   "execution_count": null,
   "metadata": {},
   "outputs": [],
   "source": [
    "# 補缺失值 [B]\n",
    "demand_dataframe = demand_dataframe.interpolate(method=\"linear\") \n",
    "# 補缺失值 [E]"
   ]
  },
  {
   "cell_type": "code",
   "execution_count": null,
   "metadata": {},
   "outputs": [],
   "source": [
    "# 體感溫度計算 [B]\n",
    "demand_dataframe['apparent_temp'] = demand_dataframe.apply(lambda demand_dataframe: c_feel_like(demand_dataframe['Temperature'], demand_dataframe['humd'], demand_dataframe['w_DSD']), axis=1)\n",
    "# 體感溫度計算 [E]"
   ]
  },
  {
   "cell_type": "code",
   "execution_count": null,
   "metadata": {},
   "outputs": [],
   "source": [
    "# 資料正規化 [B]\n",
    "# 宣告實例 [B]\n",
    "temperature_zscore = preprocessing.MinMaxScaler()\n",
    "pres_zscore = preprocessing.MinMaxScaler()\n",
    "wind_speed_zscore = preprocessing.MinMaxScaler()\n",
    "wind_dir_zscore = preprocessing.MinMaxScaler()\n",
    "max_wind_zscore = preprocessing.MinMaxScaler()\n",
    "r24_zscore = preprocessing.MinMaxScaler()\n",
    "huvi_zscore = preprocessing.MinMaxScaler()\n",
    "apparent_temp_zscore = preprocessing.MinMaxScaler()\n",
    "T_Min_zscore = preprocessing.MinMaxScaler()\n",
    "T_Max_zscore = preprocessing.MinMaxScaler() \n",
    "day_of_year_zscore = preprocessing.MinMaxScaler() \n",
    "data_week_zscore = preprocessing.MinMaxScaler() \n",
    "data_hour_zscore = preprocessing.MinMaxScaler() \n",
    "data_minute_zscore = preprocessing.MinMaxScaler() \n",
    "data_weekday_zscore = preprocessing.MinMaxScaler() \n",
    "minutes_of_the_day_zscore = preprocessing.MinMaxScaler()\n",
    "demand_zscore = preprocessing.MinMaxScaler() \n",
    "# 宣告實例 [E]\n",
    "# 資料 reshape [B]\n",
    "temperature_reshape_data = demand_dataframe['Temperature'].values.reshape(-1, 1)\n",
    "pres_reshape_data = demand_dataframe['pres'].values.reshape(-1, 1)\n",
    "wind_speed_reshape_data = demand_dataframe['w_DSD'].values.reshape(-1, 1)\n",
    "wind_dir_reshape_data = demand_dataframe['w_DIR'].values.reshape(-1, 1)\n",
    "max_wind_reshape_data = demand_dataframe['h_FX'].values.reshape(-1, 1)\n",
    "r24_reshape_data = demand_dataframe['24R'].values.reshape(-1, 1)\n",
    "huvi_reshape_data = demand_dataframe['h_UVI'].values.reshape(-1, 1)\n",
    "apparent_temp_reshape_data = demand_dataframe['apparent_temp'].values.reshape(-1, 1)\n",
    "T_Min_reshape_data = demand_dataframe['T_Min'].values.reshape(-1, 1)\n",
    "T_Max_reshape_data = demand_dataframe['T_Max'].values.reshape(-1, 1)\n",
    "day_of_year_reshape_data = demand_dataframe['day_of_year'].values.reshape(-1, 1)\n",
    "data_week_reshape_data = demand_dataframe['data_week'].values.reshape(-1, 1)\n",
    "data_hour_reshape_data = demand_dataframe['data_hour'].values.reshape(-1, 1)\n",
    "data_minute_reshape_data = demand_dataframe['data_minute'].values.reshape(-1, 1)\n",
    "data_weekday_reshape_data = demand_dataframe['data_weekday'].values.reshape(-1, 1)\n",
    "minutes_of_the_day_reshape_data = demand_dataframe['minutes_of_the_day'].values.reshape(-1, 1)\n",
    "demand_reshape_data = demand_dataframe['demand_quarter'].values.reshape(-1, 1)\n",
    "# 資料 reshape [E]\n",
    "# 部分計算 [B]\n",
    "temperature_zscore.partial_fit(temperature_range.reshape(-1, 1))\n",
    "pres_zscore.partial_fit(pres_range.reshape(-1, 1))\n",
    "wind_speed_zscore.partial_fit(wind_speed_range.reshape(-1, 1))\n",
    "wind_dir_zscore.partial_fit(wind_dir_range.reshape(-1, 1))\n",
    "max_wind_zscore.partial_fit(wind_speed_range.reshape(-1, 1))\n",
    "r24_zscore.partial_fit(r24_range.reshape(-1, 1))\n",
    "huvi_zscore.partial_fit(huvi_range.reshape(-1, 1))\n",
    "apparent_temp_zscore.partial_fit(temperature_range.reshape(-1, 1))\n",
    "T_Min_zscore.partial_fit(temperature_range.reshape(-1, 1))\n",
    "T_Max_zscore.partial_fit(temperature_range.reshape(-1, 1))\n",
    "day_of_year_zscore.partial_fit(day_of_year_range.reshape(-1, 1))\n",
    "data_week_zscore.partial_fit(week_range.reshape(-1, 1))\n",
    "data_hour_zscore.partial_fit(hour_range.reshape(-1, 1))\n",
    "data_minute_zscore.partial_fit(minute_range.reshape(-1, 1))\n",
    "data_weekday_zscore.partial_fit(weekday_range.reshape(-1, 1))\n",
    "minutes_of_the_day_zscore.partial_fit(minutes_of_the_day_range.reshape(-1, 1))\n",
    "demand_zscore.partial_fit(demand_range.reshape(-1, 1))\n",
    "# 部分計算 [E]\n",
    "# 將部分計算得結果先做正規化 [B]\n",
    "demand_dataframe['Temperature'] = temperature_zscore.fit_transform(temperature_reshape_data)\n",
    "demand_dataframe['pres'] = pres_zscore.fit_transform(pres_reshape_data)\n",
    "demand_dataframe['w_DSD'] = wind_speed_zscore.fit_transform(wind_speed_reshape_data)\n",
    "demand_dataframe['w_DIR'] = wind_dir_zscore.fit_transform(wind_dir_reshape_data)\n",
    "demand_dataframe['h_FX'] = max_wind_zscore.fit_transform(max_wind_reshape_data)\n",
    "demand_dataframe['24R'] = r24_zscore.fit_transform(r24_reshape_data)\n",
    "demand_dataframe['h_UVI'] = huvi_zscore.fit_transform(huvi_reshape_data)\n",
    "demand_dataframe['apparent_temp'] = apparent_temp_zscore.fit_transform(apparent_temp_reshape_data)\n",
    "\n",
    "demand_dataframe['T_Min'] = T_Min_zscore.fit_transform(T_Min_reshape_data)\n",
    "demand_dataframe['T_Max'] = T_Max_zscore.fit_transform(T_Max_reshape_data)\n",
    "demand_dataframe['day_of_year'] = day_of_year_zscore.fit_transform(day_of_year_reshape_data)\n",
    "demand_dataframe['data_week'] = data_week_zscore.fit_transform(data_week_reshape_data)\n",
    "demand_dataframe['data_hour'] = data_hour_zscore.fit_transform(data_hour_reshape_data)\n",
    "demand_dataframe['data_minute'] = data_minute_zscore.fit_transform(data_minute_reshape_data)\n",
    "demand_dataframe['data_weekday'] = data_weekday_zscore.fit_transform(data_weekday_reshape_data)\n",
    "demand_dataframe['minutes_of_the_day'] = minutes_of_the_day_zscore.fit_transform(minutes_of_the_day_reshape_data)\n",
    "demand_dataframe['demand_quarter_1'] = demand_zscore.fit_transform(demand_reshape_data)\n",
    "# 將部分計算得結果先做正規化 [E]\n",
    "# 資料正規化 [E]"
   ]
  },
  {
   "cell_type": "code",
   "execution_count": null,
   "metadata": {},
   "outputs": [],
   "source": [
    "# 將資料分為訓練集與測試集 [B]\n",
    "selected_column = ['Temperature', 'humd', 'pres', 'w_DSD', 'w_DIR', 'h_FX', '24R', 'h_UVI',\n",
    "                   'T_Min', 'T_Max', 'day_of_year', 'data_week', 'data_hour',\n",
    "                   'data_minute', 'minutes_of_the_day', 'apparent_temp', 'data_weekday']\n",
    "all_train_features = demand_dataframe.loc[train_begin_date:train_end_date, selected_column]\n",
    "all_train_labels = demand_dataframe.loc[train_begin_date:train_end_date, 'demand_quarter_1']\n",
    "\n",
    "all_test_features = demand_dataframe.loc[test_begin_date:test_end_date, selected_column]\n",
    "all_test_labels = demand_dataframe.loc[test_begin_date:test_end_date, 'demand_quarter_1']\n",
    "\n",
    "all_predict_features = demand_dataframe.loc[predict_begin_date:predict_end_date, selected_column]\n",
    "all_predict_labels = demand_dataframe.loc[predict_begin_date:predict_end_date, 'demand_quarter_1']\n",
    "# 將資料分為訓練集與測試集 [E]"
   ]
  },
  {
   "cell_type": "code",
   "execution_count": null,
   "metadata": {},
   "outputs": [],
   "source": [
    "# 將 dataframe 轉為 np 陣列 [B]\n",
    "all_train_features = np.array(all_train_features)\n",
    "all_test_features = np.array(all_test_features)\n",
    "all_predict_features = np.array(all_predict_features)\n",
    "# origin_data = np.array(list(data[\"hospitalizations_num\"]))\n",
    "# features = np.array([\n",
    "#                 list(data['dayweight']),\n",
    "#                 list(data['MAX_PM2_5']),\n",
    "#                 list(data['hPa']),\n",
    "#                 list(data['temperature']),\n",
    "#                 list(data['relative_humidity']),\n",
    "#                 list(data['wind_speed']),\n",
    "#                 list(data['precipitation']),\n",
    "#             ])\n",
    "# 將 dataframe 轉為 np 陣列 [E]"
   ]
  },
  {
   "cell_type": "code",
   "execution_count": null,
   "metadata": {},
   "outputs": [],
   "source": [
    "# 使用 AUTO ARIMA 來讓模型自動找出 p、d、q，並訓練模型 [B]\n",
    "model = pm.auto_arima(all_train_labels, X=all_train_features, start_p=0, d=1, start_q=0, max_p=5, max_d=5, max_q=5, start_P=0,\n",
    "                       D=1, start_Q=0, max_P=5, max_D=5, max_Q=5, m=12, seasonal=True,\n",
    "                       error_action='warn', trace=True, suppress_warnings=True, stepwise=True, random_state=20,\n",
    "                       n_fits=30)\n",
    "\n",
    "print(model.summary())\n",
    "# 使用 AUTO ARIMA 來讓模型自動找出 p、d、q，並訓練模型 [E]"
   ]
  },
  {
   "cell_type": "code",
   "execution_count": null,
   "metadata": {},
   "outputs": [],
   "source": [
    "# 使用 SARIMAX 來讓模型自動找出 p、d、q [B]\n",
    "arima2 = SARIMAX(y_train, order=(1, 1, 3))\n",
    "# 使用 SARIMAX 來讓模型自動找出 p、d、q [E]"
   ]
  },
  {
   "cell_type": "code",
   "execution_count": null,
   "metadata": {
    "scrolled": true
   },
   "outputs": [],
   "source": [
    "# 用訓練好的模型做預測 [B]\n",
    "res = arima2.fit(disp=False)\n",
    "print(res.summary())\n",
    "# 用訓練好的模型做預測 [E]"
   ]
  },
  {
   "cell_type": "markdown",
   "metadata": {},
   "source": [
    "------------"
   ]
  },
  {
   "cell_type": "code",
   "execution_count": null,
   "metadata": {},
   "outputs": [],
   "source": [
    "arima1 = SARIMAX(y_train, order=(10, 0, 3))"
   ]
  },
  {
   "cell_type": "code",
   "execution_count": null,
   "metadata": {
    "scrolled": true
   },
   "outputs": [],
   "source": [
    "res = arima1.fit(disp=False)\n",
    "print(res.summary())"
   ]
  },
  {
   "cell_type": "code",
   "execution_count": null,
   "metadata": {},
   "outputs": [],
   "source": [
    "arima3 = SARIMAX(y_train, order=(10, 0, 10), initialization='approximate_diffuse')"
   ]
  },
  {
   "cell_type": "code",
   "execution_count": null,
   "metadata": {},
   "outputs": [],
   "source": [
    "res = arima3.fit(disp=False)\n",
    "print(res.summary())"
   ]
  }
 ],
 "metadata": {
  "kernelspec": {
   "display_name": "Python 3 (ipykernel)",
   "language": "python",
   "name": "python3"
  },
  "language_info": {
   "codemirror_mode": {
    "name": "ipython",
    "version": 3
   },
   "file_extension": ".py",
   "mimetype": "text/x-python",
   "name": "python",
   "nbconvert_exporter": "python",
   "pygments_lexer": "ipython3",
   "version": "3.9.7"
  }
 },
 "nbformat": 4,
 "nbformat_minor": 4
}
