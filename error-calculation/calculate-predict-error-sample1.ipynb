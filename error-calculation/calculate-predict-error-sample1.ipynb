{
 "cells": [
  {
   "cell_type": "code",
   "execution_count": 1,
   "id": "9eb17e1e",
   "metadata": {},
   "outputs": [],
   "source": [
    "# 匯入需要的模組 [B]\n",
    "%matplotlib inline\n",
    "import time\n",
    "import matplotlib.pyplot as plt\n",
    "import numpy as np # Use numpy to convert to arrays\n",
    "import pandas as pd # 引用套件並縮寫為 pd\n",
    "import pmdarima as pm\n",
    "import pymysql\n",
    "from datetime import datetime, timedelta\n",
    "from math import sqrt\n",
    "from sklearn.metrics import mean_absolute_error, mean_squared_error, r2_score\n",
    "import tensorflow as tf\n",
    "# 匯入需要的模組 [E]"
   ]
  },
  {
   "cell_type": "code",
   "execution_count": 2,
   "id": "cc87344c",
   "metadata": {},
   "outputs": [],
   "source": [
    "# 計算相對誤差 [B]\n",
    "def rel_error(actual, pred): # x is a row of df\n",
    "    return abs(float(actual)-float(pred))/float(actual)\n",
    "# 計算相對誤差 [E]"
   ]
  },
  {
   "cell_type": "code",
   "execution_count": 3,
   "id": "6a4f6712",
   "metadata": {},
   "outputs": [],
   "source": [
    "# 計算 平均絕對百分比誤差 [B]\n",
    "def mape(actual, pred): \n",
    "    actual, pred = np.array(actual).astype('float32'), np.array(pred).astype('float32')\n",
    "    return np.mean(np.abs((actual - pred) / actual)) * 100\n",
    "# 計算 平均絕對百分比誤差 [E]"
   ]
  },
  {
   "cell_type": "code",
   "execution_count": 4,
   "id": "f54705e1",
   "metadata": {},
   "outputs": [],
   "source": [
    "# 計算相對誤差 [B]\n",
    "def positive_negative_error(actual, pred, dataframe):\n",
    "    positive_error_list = [0 for number in range(0, 24)]# 低估\n",
    "    negative_error_list = [0 for number in range(0, 24)] # 高估\n",
    "    positive_relative_error_list = [0 for number in range(0, 24)]# 低估\n",
    "    negative_relative_error_list = [0 for number in range(0, 24)] # 高估\n",
    "    relative_error_list = [0 for number in range(0, 24)]\n",
    "\n",
    "    positive_error_count_list = [0 for number in range(0, 24)]\n",
    "    negative_error_count_list = [0 for number in range(0, 24)]\n",
    "    error_count_list = [0 for number in range(0, 24)]\n",
    "    \n",
    "    for i,data_info in dataframe.iterrows():\n",
    "        error = actual[i] - pred[i]\n",
    "        error_rate = (actual[i] - pred[i])/actual[i]\n",
    "        if error > 0:\n",
    "            positive_relative_error_list[data_info['data_hour'] - 1] += error_rate\n",
    "            positive_error_list[data_info['data_hour'] - 1] += error\n",
    "            positive_error_count_list[data_info['data_hour'] - 1] += 1\n",
    "        elif error < 0:\n",
    "            negative_relative_error_list[data_info['data_hour'] - 1] += error_rate\n",
    "            negative_error_list[data_info['data_hour'] - 1] += error\n",
    "            negative_error_count_list[data_info['data_hour'] - 1] += 1\n",
    "        relative_error_list[data_info['data_hour'] - 1] += abs(error_rate)\n",
    "        error_count_list[data_info['data_hour'] - 1] += 1\n",
    "    \n",
    "#     positive_error_all_list = [float(value)/float(positive_error_count_list[i]) for i, value in enumerate(positive_error_list)]\n",
    "#     negative_error_all_list = [float(value)/float(negative_error_count_list[i]) for i, value in enumerate(negative_error_list)]\n",
    "#     positive_error_all_count_list = [value/(positive_error_count_list[i] + negative_error_count_list[i]) for i, value in enumerate(positive_error_count_list)]\n",
    "#     negative_error_all_count_list = [value/(positive_error_count_list[i] + negative_error_count_list[i]) for i, value in enumerate(negative_error_count_list)]\n",
    "#     positive_error_rate = [value/len(actual) for i, value in enumerate(positive_error_count_list)]\n",
    "#     negative_error_rate = [value/len(actual) for i, value in enumerate(negative_error_count_list)]\n",
    "#     positive_relative_error_rate = [value/(positive_error_count_list[i]) for i, value in enumerate(positive_relative_error_list)]\n",
    "#     negative_relative_error_rate = [value/(negative_error_count_list[i]) for i, value in enumerate(negative_relative_error_list)]\n",
    "    relative_error_rate = [value/error_count_list[i] for i, value in enumerate(relative_error_list)]\n",
    "\n",
    "    return relative_error_rate\n",
    "# 計算相對誤差 [E]"
   ]
  },
  {
   "cell_type": "code",
   "execution_count": 5,
   "id": "3f0876d8",
   "metadata": {},
   "outputs": [],
   "source": [
    "# 計算平均需量 [B]\n",
    "def demand_avg(actual, dataframe):\n",
    "    positive_error_list = [0 for number in range(0, 24)]# 低估\n",
    "    positive_error_count_list = [0 for number in range(0, 24)]\n",
    "    negative_error_list = [0 for number in range(0, 24)] # 高估\n",
    "    negative_error_count_list = [0 for number in range(0, 24)]\n",
    "    for i,data_info in dataframe.iterrows():\n",
    "        positive_error_list[data_info['data_hour'] - 1] += actual[i]\n",
    "        positive_error_count_list[data_info['data_hour'] - 1] += 1\n",
    "    positive_error_all_list = [float(value)/float(positive_error_count_list[i]) for i, value in enumerate(positive_error_list)]\n",
    "    return positive_error_all_list\n",
    "# 計算平均需量 [E]"
   ]
  },
  {
   "cell_type": "code",
   "execution_count": 6,
   "id": "b7f924fb",
   "metadata": {},
   "outputs": [],
   "source": [
    "# 計算每個同星期的相對誤差 [B]\n",
    "def positive_negative_error_weekday(actual, pred, dataframe):\n",
    "    weekday_holiday_list = {\n",
    "        1: 0,\n",
    "        2: 0,\n",
    "        3: 0,\n",
    "        4: 0,\n",
    "        5: 0,\n",
    "        6: 1,\n",
    "        7: 1\n",
    "    }\n",
    "    relative_error_list = [0, 0]\n",
    "    positive_relative_error_list = [0,0]# 低估\n",
    "    negative_relative_error_list = [0,0] # 高估\n",
    "    relative_error_count_list = [0,0]\n",
    "    positive_error_count_list = [0,0]\n",
    "    negative_error_count_list = [0,0]\n",
    "    \n",
    "    for i,data_info in dataframe.iterrows():\n",
    "        error = actual[i] - pred[i]\n",
    "        error_rate = (actual[i] - pred[i])/actual[i]\n",
    "        abs_error_rate = abs((actual[i] - pred[i])/actual[i])\n",
    "        if error > 0:\n",
    "            positive_relative_error_list[weekday_holiday_list[data_info['data_weekday']]] += error_rate\n",
    "            positive_error_count_list[weekday_holiday_list[data_info['data_weekday']]] += 1\n",
    "        elif error < 0:\n",
    "            negative_relative_error_list[weekday_holiday_list[data_info['data_weekday']]] += error_rate\n",
    "            negative_error_count_list[weekday_holiday_list[data_info['data_weekday']]] += 1\n",
    "        relative_error_list[weekday_holiday_list[data_info['data_weekday']]] += abs_error_rate\n",
    "        relative_error_count_list[weekday_holiday_list[data_info['data_weekday']]] += 1\n",
    "#     positive_relative_error_rate = [value/(positive_error_count_list[i]) for i, value in enumerate(positive_relative_error_list)]\n",
    "#     negative_relative_error_rate = [value/(negative_error_count_list[i]) for i, value in enumerate(negative_relative_error_list)]\n",
    "    \n",
    "    relative_error_rate = [value/(relative_error_count_list[i]) for i, value in enumerate(relative_error_list)]\n",
    "    return relative_error_rate\n",
    "# 計算每個同星期的相對誤差 [E]"
   ]
  },
  {
   "cell_type": "code",
   "execution_count": 7,
   "id": "5d76819d",
   "metadata": {},
   "outputs": [],
   "source": [
    "# 參數設定 [B]\n",
    "predict_begin_date = '2021-01-01'\n",
    "predict_end_date = '2022-01-01'\n",
    "# predict_begin_date = '2020-07-06'\n",
    "# predict_end_date = '2020-07-12'\n",
    "# predict_begin_date = '2020-11-30'\n",
    "# predict_end_date = '2020-12-06'\n",
    "# 參數設定 [E]"
   ]
  },
  {
   "cell_type": "markdown",
   "id": "c6fa7f78",
   "metadata": {},
   "source": [
    "vanilla_demand_predict_weekdayholiday\n",
    "==========\n"
   ]
  },
  {
   "cell_type": "code",
   "execution_count": 9,
   "id": "b439c8e7",
   "metadata": {},
   "outputs": [],
   "source": [
    "# 撈取需量資料 [B]\n",
    "try: \n",
    "    conn  =  pymysql.connect ( host = ' ' ,  user = ' ' ,  passwd = \" \" ,  db = ' ' ) \n",
    "    cur  =  conn.cursor() \n",
    "    select_sql = '''SELECT `dp`.`prediction_1`, `dp`.`prediction_2`, `dp`.`prediction_3`, `dp`.`prediction_4`, `dwwd`.`demand_quarter`, `dp`.`created_at`, `dwwd`.`data_hour`, `dwwd`.`data_weekday` \n",
    "                    FROM  `vanilla_demand_predict_weekholiday_24hr` AS `dp`\n",
    "                    INNER JOIN `demand_with_weather_data` AS `dwwd` ON(`dp`.`created_at` = `dwwd`.`datetime`)\n",
    "                    WHERE `dwwd`.`data_date` >='{}' AND `dwwd`.`data_date` <='{}' \n",
    "                    ORDER BY `dp`.`created_at` '''.format(predict_begin_date, predict_end_date)\n",
    "    result_object = cur.execute(select_sql)\n",
    "    results_values_list = cur.fetchall()\n",
    "    result_key_list = [i[0] for i in cur.description]\n",
    "    \n",
    "    demand_dataframe = pd.DataFrame(results_values_list)\n",
    "    demand_dataframe.columns = result_key_list\n",
    "    cur.close () \n",
    "    conn.close()\n",
    "except Exception as e:\n",
    "    print(e)\n",
    "# 撈取需量資料 [E]"
   ]
  },
  {
   "cell_type": "code",
   "execution_count": 10,
   "id": "e03be14c",
   "metadata": {
    "scrolled": true
   },
   "outputs": [
    {
     "name": "stdout",
     "output_type": "stream",
     "text": [
      "mean_absolute_error: 29.468179357022\n",
      "mean_squared_error: 1847.9155660575298\n",
      "rmse: 42.9873884535631\n",
      "r2 score: 0.7236789314274599\n",
      "MRE: 13.257297179289107\n",
      "MAPE: 13.25729638338089\n"
     ]
    }
   ],
   "source": [
    "demand_dataframe_4 = demand_dataframe.dropna(subset=['prediction_4'])\n",
    "mean_rel_error = demand_dataframe_4.apply(lambda demand_dataframe_4: rel_error(demand_dataframe_4['demand_quarter'],demand_dataframe_4['prediction_4']), axis=1).sum()/demand_dataframe_4['prediction_4'].count()\n",
    "print(\"mean_absolute_error:\",mean_absolute_error(demand_dataframe_4['demand_quarter'],demand_dataframe_4['prediction_4']))\n",
    "print(\"mean_squared_error:\",mean_squared_error(demand_dataframe_4['demand_quarter'],demand_dataframe_4['prediction_4']))\n",
    "print(\"rmse:\",sqrt(mean_squared_error(demand_dataframe_4['demand_quarter'],demand_dataframe_4['prediction_4'])))\n",
    "print(\"r2 score:\",r2_score(demand_dataframe_4['demand_quarter'],demand_dataframe_4['prediction_4']))\n",
    "print(\"MRE:\",mean_rel_error*100)\n",
    "print(\"MAPE:\",mape(demand_dataframe_4['demand_quarter'],demand_dataframe_4['prediction_4']))"
   ]
  },
  {
   "cell_type": "markdown",
   "id": "0bfe7ff4",
   "metadata": {},
   "source": [
    "vanilla_demand_predict_no_weather\n",
    "==========\n"
   ]
  },
  {
   "cell_type": "code",
   "execution_count": 39,
   "id": "99cf9ca0",
   "metadata": {},
   "outputs": [],
   "source": [
    "# 撈取需量資料 [B]\n",
    "try: \n",
    "    conn  =  pymysql.connect ( host = ' ' ,  user = ' ' ,  passwd = \" \" ,  db = ' ' ) \n",
    "    cur  =  conn.cursor() \n",
    "    select_sql = '''SELECT `dp`.`prediction_1`, `dp`.`prediction_2`, `dp`.`prediction_3`, `dp`.`prediction_4`, `dwwd`.`demand_quarter`, `dp`.`created_at`, `dwwd`.`data_hour`, `dwwd`.`data_weekday` \n",
    "                    FROM  `vanilla_demand_predict_96_noweather` AS `dp`\n",
    "                    INNER JOIN `demand_with_weather_data` AS `dwwd` ON(`dp`.`created_at` = `dwwd`.`datetime`)\n",
    "                    WHERE `dwwd`.`data_date` >='{}' AND `dwwd`.`data_date` <='{}' \n",
    "                    ORDER BY `dp`.`created_at` '''.format(predict_begin_date, predict_end_date)\n",
    "    result_object = cur.execute(select_sql)\n",
    "    results_values_list = cur.fetchall()\n",
    "    result_key_list = [i[0] for i in cur.description]\n",
    "    \n",
    "    demand_dataframe = pd.DataFrame(results_values_list)\n",
    "    demand_dataframe.columns = result_key_list\n",
    "    cur.close () \n",
    "    conn.close()\n",
    "except Exception as e:\n",
    "    print(e)\n",
    "# 撈取需量資料 [E]"
   ]
  },
  {
   "cell_type": "code",
   "execution_count": 40,
   "id": "7f4e6e9b",
   "metadata": {},
   "outputs": [
    {
     "name": "stdout",
     "output_type": "stream",
     "text": [
      "mean_absolute_error: 40.26413461538461\n",
      "mean_squared_error: 2598.2391581521733\n",
      "rmse: 50.97292573663173\n",
      "r2 score: 0.6284801563367463\n",
      "MRE: 17.472781640883117\n",
      "MAPE: 17.472781240940094\n"
     ]
    }
   ],
   "source": [
    "demand_dataframe_4 = demand_dataframe.dropna(subset=['prediction_4'])\n",
    "mean_rel_error = demand_dataframe_4.apply(lambda demand_dataframe_4: rel_error(demand_dataframe_4['demand_quarter'],demand_dataframe_4['prediction_4']), axis=1).sum()/demand_dataframe_4['prediction_4'].count()\n",
    "print(\"mean_absolute_error:\",mean_absolute_error(demand_dataframe_4['demand_quarter'],demand_dataframe_4['prediction_4']))\n",
    "print(\"mean_squared_error:\",mean_squared_error(demand_dataframe_4['demand_quarter'],demand_dataframe_4['prediction_4']))\n",
    "print(\"rmse:\",sqrt(mean_squared_error(demand_dataframe_4['demand_quarter'],demand_dataframe_4['prediction_4'])))\n",
    "print(\"r2 score:\",r2_score(demand_dataframe_4['demand_quarter'],demand_dataframe_4['prediction_4']))\n",
    "print(\"MRE:\",mean_rel_error*100)\n",
    "print(\"MAPE:\",mape(demand_dataframe_4['demand_quarter'],demand_dataframe_4['prediction_4']))"
   ]
  },
  {
   "cell_type": "markdown",
   "id": "7ac36b77",
   "metadata": {},
   "source": [
    "vanilla_demand_predict_1hr\n",
    "==========\n"
   ]
  },
  {
   "cell_type": "code",
   "execution_count": 88,
   "id": "b212bfb6",
   "metadata": {},
   "outputs": [],
   "source": [
    "# 撈取需量資料 [B]\n",
    "try: \n",
    "    conn  =  pymysql.connect ( host = ' ' ,  user = ' ' ,  passwd = \" \" ,  db = ' ' ) \n",
    "    cur  =  conn.cursor() \n",
    "    select_sql = '''SELECT `dp`.`prediction_1`, `dp`.`prediction_2`, `dp`.`prediction_3`, `dp`.`prediction_4`, `dwwd`.`demand_quarter`, `dp`.`created_at`, `dwwd`.`data_hour`, `dwwd`.`data_weekday` \n",
    "                    FROM  `vanilla_demand_predict_4step` AS `dp`\n",
    "                    INNER JOIN `demand_with_weather_data` AS `dwwd` ON(`dp`.`created_at` = `dwwd`.`datetime`)\n",
    "                    WHERE `dwwd`.`data_date` >='{}' AND `dwwd`.`data_date` <='{}' \n",
    "                    ORDER BY `dp`.`created_at` '''.format(predict_begin_date, predict_end_date)\n",
    "    result_object = cur.execute(select_sql)\n",
    "    results_values_list = cur.fetchall()\n",
    "    result_key_list = [i[0] for i in cur.description]\n",
    "    \n",
    "    demand_dataframe = pd.DataFrame(results_values_list)\n",
    "    demand_dataframe.columns = result_key_list\n",
    "    cur.close () \n",
    "    conn.close()\n",
    "except Exception as e:\n",
    "    print(e)\n",
    "# 撈取需量資料 [E]"
   ]
  },
  {
   "cell_type": "markdown",
   "id": "71540703",
   "metadata": {},
   "source": [
    "predict_1\n",
    "-------------"
   ]
  },
  {
   "cell_type": "code",
   "execution_count": 89,
   "id": "b72cef1f",
   "metadata": {},
   "outputs": [
    {
     "name": "stdout",
     "output_type": "stream",
     "text": [
      "mean_absolute_error: 40.35209216279853\n",
      "mean_squared_error: 2881.094555835856\n",
      "rmse: 53.675828413130766\n",
      "r2 score: 0.5672145167657056\n",
      "MRE: 18.614385127609427\n",
      "MAPE: 18.614384531974792\n"
     ]
    }
   ],
   "source": [
    "demand_dataframe_1 = demand_dataframe.dropna(subset=['prediction_1'])\n",
    "mean_rel_error = demand_dataframe_1.apply(lambda demand_dataframe_1: rel_error(demand_dataframe_1['demand_quarter'],demand_dataframe_1['prediction_1']), axis=1).sum()/demand_dataframe_1['prediction_1'].count()\n",
    "print(\"mean_absolute_error:\",mean_absolute_error(demand_dataframe_1['demand_quarter'],demand_dataframe_1['prediction_1']))\n",
    "print(\"mean_squared_error:\",mean_squared_error(demand_dataframe_1['demand_quarter'],demand_dataframe_1['prediction_1']))\n",
    "print(\"rmse:\",sqrt(mean_squared_error(demand_dataframe_1['demand_quarter'],demand_dataframe_1['prediction_1'])))\n",
    "print(\"r2 score:\",r2_score(demand_dataframe_1['demand_quarter'],demand_dataframe_1['prediction_1']))\n",
    "print(\"MRE:\",mean_rel_error*100)\n",
    "print(\"MAPE:\",mape(demand_dataframe_1['demand_quarter'],demand_dataframe_1['prediction_1']))"
   ]
  },
  {
   "cell_type": "markdown",
   "id": "402bc89b",
   "metadata": {},
   "source": [
    "predict_2\n",
    "-------------"
   ]
  },
  {
   "cell_type": "code",
   "execution_count": 90,
   "id": "97173b70",
   "metadata": {},
   "outputs": [
    {
     "name": "stdout",
     "output_type": "stream",
     "text": [
      "mean_absolute_error: 40.2218472409152\n",
      "mean_squared_error: 2866.8654286339165\n",
      "rmse: 53.5431174721263\n",
      "r2 score: 0.5694634879655995\n",
      "MRE: 18.561879818419687\n",
      "MAPE: 18.56187880039215\n"
     ]
    }
   ],
   "source": [
    "demand_dataframe_2 = demand_dataframe.dropna(subset=['prediction_2'])\n",
    "mean_rel_error = demand_dataframe_2.apply(lambda demand_dataframe_2: rel_error(demand_dataframe_2['demand_quarter'],demand_dataframe_2['prediction_2']), axis=1).sum()/demand_dataframe_2['prediction_2'].count()\n",
    "print(\"mean_absolute_error:\",mean_absolute_error(demand_dataframe_2['demand_quarter'],demand_dataframe_2['prediction_2']))\n",
    "print(\"mean_squared_error:\",mean_squared_error(demand_dataframe_2['demand_quarter'],demand_dataframe_2['prediction_2']))\n",
    "print(\"rmse:\",sqrt(mean_squared_error(demand_dataframe_2['demand_quarter'],demand_dataframe_2['prediction_2'])))\n",
    "print(\"r2 score:\",r2_score(demand_dataframe_2['demand_quarter'],demand_dataframe_2['prediction_2']))\n",
    "print(\"MRE:\",mean_rel_error*100)\n",
    "print(\"MAPE:\",mape(demand_dataframe_2['demand_quarter'],demand_dataframe_2['prediction_2']))"
   ]
  },
  {
   "cell_type": "markdown",
   "id": "14ad794d",
   "metadata": {},
   "source": [
    "predict_3\n",
    "-------------"
   ]
  },
  {
   "cell_type": "code",
   "execution_count": 91,
   "id": "91d71fcc",
   "metadata": {},
   "outputs": [
    {
     "name": "stdout",
     "output_type": "stream",
     "text": [
      "mean_absolute_error: 40.15150790979468\n",
      "mean_squared_error: 2849.8973968697405\n",
      "rmse: 53.38443028514719\n",
      "r2 score: 0.5721084410462596\n",
      "MRE: 18.553022908811577\n",
      "MAPE: 18.553023040294647\n"
     ]
    }
   ],
   "source": [
    "demand_dataframe_3 = demand_dataframe.dropna(subset=['prediction_3'])\n",
    "mean_rel_error = demand_dataframe_3.apply(lambda demand_dataframe_3: rel_error(demand_dataframe_3['demand_quarter'],demand_dataframe_3['prediction_3']), axis=1).sum()/demand_dataframe_3['prediction_3'].count()\n",
    "print(\"mean_absolute_error:\",mean_absolute_error(demand_dataframe_3['demand_quarter'],demand_dataframe_3['prediction_3']))\n",
    "print(\"mean_squared_error:\",mean_squared_error(demand_dataframe_3['demand_quarter'],demand_dataframe_3['prediction_3']))\n",
    "print(\"rmse:\",sqrt(mean_squared_error(demand_dataframe_3['demand_quarter'],demand_dataframe_3['prediction_3'])))\n",
    "print(\"r2 score:\",r2_score(demand_dataframe_3['demand_quarter'],demand_dataframe_3['prediction_3']))\n",
    "print(\"MRE:\",mean_rel_error*100)\n",
    "print(\"MAPE:\",mape(demand_dataframe_3['demand_quarter'],demand_dataframe_3['prediction_3']))"
   ]
  },
  {
   "cell_type": "markdown",
   "id": "c3c7f621",
   "metadata": {},
   "source": [
    "predict_4\n",
    "-------------"
   ]
  },
  {
   "cell_type": "code",
   "execution_count": 92,
   "id": "0a23e896",
   "metadata": {},
   "outputs": [
    {
     "name": "stdout",
     "output_type": "stream",
     "text": [
      "mean_absolute_error: 40.215632996633\n",
      "mean_squared_error: 2848.0940431986533\n",
      "rmse: 53.367537353700826\n",
      "r2 score: 0.5724629723775773\n",
      "MRE: 18.59823949338063\n",
      "MAPE: 18.59823763370514\n"
     ]
    }
   ],
   "source": [
    "demand_dataframe_4 = demand_dataframe.dropna(subset=['prediction_4'])\n",
    "mean_rel_error = demand_dataframe_4.apply(lambda demand_dataframe_4: rel_error(demand_dataframe_4['demand_quarter'],demand_dataframe_4['prediction_4']), axis=1).sum()/demand_dataframe_4['prediction_4'].count()\n",
    "print(\"mean_absolute_error:\",mean_absolute_error(demand_dataframe_4['demand_quarter'],demand_dataframe_4['prediction_4']))\n",
    "print(\"mean_squared_error:\",mean_squared_error(demand_dataframe_4['demand_quarter'],demand_dataframe_4['prediction_4']))\n",
    "print(\"rmse:\",sqrt(mean_squared_error(demand_dataframe_4['demand_quarter'],demand_dataframe_4['prediction_4'])))\n",
    "print(\"r2 score:\",r2_score(demand_dataframe_4['demand_quarter'],demand_dataframe_4['prediction_4']))\n",
    "print(\"MRE:\",mean_rel_error*100)\n",
    "print(\"MAPE:\",mape(demand_dataframe_4['demand_quarter'],demand_dataframe_4['prediction_4']))"
   ]
  },
  {
   "cell_type": "markdown",
   "id": "1efef4d1",
   "metadata": {},
   "source": [
    "vanilla_demand_predict_12hr\n",
    "==========\n"
   ]
  },
  {
   "cell_type": "code",
   "execution_count": 96,
   "id": "cd218959",
   "metadata": {},
   "outputs": [],
   "source": [
    "# 撈取需量資料 [B]\n",
    "try: \n",
    "    conn  =  pymysql.connect ( host = ' ' ,  user = ' ' ,  passwd = \" \" ,  db = ' ' ) \n",
    "    cur  =  conn.cursor() \n",
    "    select_sql = '''SELECT `dp`.`prediction_1`, `dp`.`prediction_2`, `dp`.`prediction_3`, `dp`.`prediction_4`, `dwwd`.`demand_quarter`, `dp`.`created_at`, `dwwd`.`data_hour`, `dwwd`.`data_weekday` \n",
    "                    FROM  `vanilla_demand_predict_48step` AS `dp`\n",
    "                    INNER JOIN `demand_with_weather_data` AS `dwwd` ON(`dp`.`created_at` = `dwwd`.`datetime`)\n",
    "                    WHERE `dwwd`.`data_date` >='{}' AND `dwwd`.`data_date` <='{}' \n",
    "                    ORDER BY `dp`.`created_at` '''.format(predict_begin_date, predict_end_date)\n",
    "    result_object = cur.execute(select_sql)\n",
    "    results_values_list = cur.fetchall()\n",
    "    result_key_list = [i[0] for i in cur.description]\n",
    "    \n",
    "    demand_dataframe = pd.DataFrame(results_values_list)\n",
    "    demand_dataframe.columns = result_key_list\n",
    "    cur.close () \n",
    "    conn.close()\n",
    "except Exception as e:\n",
    "    print(e)\n",
    "# 撈取需量資料 [E]"
   ]
  },
  {
   "cell_type": "markdown",
   "id": "f9688d7c",
   "metadata": {},
   "source": [
    "predict_1\n",
    "-------------"
   ]
  },
  {
   "cell_type": "code",
   "execution_count": 97,
   "id": "657ef30f",
   "metadata": {},
   "outputs": [
    {
     "name": "stdout",
     "output_type": "stream",
     "text": [
      "mean_absolute_error: 32.275786819098855\n",
      "mean_squared_error: 1941.0693012441156\n",
      "rmse: 44.05756803596989\n",
      "r2 score: 0.7083854237850401\n",
      "MRE: 14.483789677949105\n",
      "MAPE: 14.4837886095047\n"
     ]
    }
   ],
   "source": [
    "demand_dataframe_1 = demand_dataframe.dropna(subset=['prediction_1'])\n",
    "mean_rel_error = demand_dataframe_1.apply(lambda demand_dataframe_1: rel_error(demand_dataframe_1['demand_quarter'],demand_dataframe_1['prediction_1']), axis=1).sum()/demand_dataframe_1['prediction_1'].count()\n",
    "print(\"mean_absolute_error:\",mean_absolute_error(demand_dataframe_1['demand_quarter'],demand_dataframe_1['prediction_1']))\n",
    "print(\"mean_squared_error:\",mean_squared_error(demand_dataframe_1['demand_quarter'],demand_dataframe_1['prediction_1']))\n",
    "print(\"rmse:\",sqrt(mean_squared_error(demand_dataframe_1['demand_quarter'],demand_dataframe_1['prediction_1'])))\n",
    "print(\"r2 score:\",r2_score(demand_dataframe_1['demand_quarter'],demand_dataframe_1['prediction_1']))\n",
    "print(\"MRE:\",mean_rel_error*100)\n",
    "print(\"MAPE:\",mape(demand_dataframe_1['demand_quarter'],demand_dataframe_1['prediction_1']))"
   ]
  },
  {
   "cell_type": "markdown",
   "id": "68510d95",
   "metadata": {},
   "source": [
    "predict_2\n",
    "-------------"
   ]
  },
  {
   "cell_type": "code",
   "execution_count": 98,
   "id": "1907e032",
   "metadata": {},
   "outputs": [
    {
     "name": "stdout",
     "output_type": "stream",
     "text": [
      "mean_absolute_error: 32.00454759502186\n",
      "mean_squared_error: 1900.1014577194753\n",
      "rmse: 43.59015321972929\n",
      "r2 score: 0.7145750298588391\n",
      "MRE: 14.416121173057729\n",
      "MAPE: 14.416122436523438\n"
     ]
    }
   ],
   "source": [
    "demand_dataframe_2 = demand_dataframe.dropna(subset=['prediction_2'])\n",
    "mean_rel_error = demand_dataframe_2.apply(lambda demand_dataframe_2: rel_error(demand_dataframe_2['demand_quarter'],demand_dataframe_2['prediction_2']), axis=1).sum()/demand_dataframe_2['prediction_2'].count()\n",
    "print(\"mean_absolute_error:\",mean_absolute_error(demand_dataframe_2['demand_quarter'],demand_dataframe_2['prediction_2']))\n",
    "print(\"mean_squared_error:\",mean_squared_error(demand_dataframe_2['demand_quarter'],demand_dataframe_2['prediction_2']))\n",
    "print(\"rmse:\",sqrt(mean_squared_error(demand_dataframe_2['demand_quarter'],demand_dataframe_2['prediction_2'])))\n",
    "print(\"r2 score:\",r2_score(demand_dataframe_2['demand_quarter'],demand_dataframe_2['prediction_2']))\n",
    "print(\"MRE:\",mean_rel_error*100)\n",
    "print(\"MAPE:\",mape(demand_dataframe_2['demand_quarter'],demand_dataframe_2['prediction_2']))"
   ]
  },
  {
   "cell_type": "markdown",
   "id": "ded094b4",
   "metadata": {},
   "source": [
    "predict_3\n",
    "-------------"
   ]
  },
  {
   "cell_type": "code",
   "execution_count": 99,
   "id": "c4dff5ee",
   "metadata": {},
   "outputs": [
    {
     "name": "stdout",
     "output_type": "stream",
     "text": [
      "mean_absolute_error: 32.08628869448182\n",
      "mean_squared_error: 1893.274627624495\n",
      "rmse: 43.51177573513284\n",
      "r2 score: 0.71567418325279\n",
      "MRE: 14.483410788443141\n",
      "MAPE: 14.483410120010376\n"
     ]
    }
   ],
   "source": [
    "demand_dataframe_3 = demand_dataframe.dropna(subset=['prediction_3'])\n",
    "mean_rel_error = demand_dataframe_3.apply(lambda demand_dataframe_3: rel_error(demand_dataframe_3['demand_quarter'],demand_dataframe_3['prediction_3']), axis=1).sum()/demand_dataframe_3['prediction_3'].count()\n",
    "print(\"mean_absolute_error:\",mean_absolute_error(demand_dataframe_3['demand_quarter'],demand_dataframe_3['prediction_3']))\n",
    "print(\"mean_squared_error:\",mean_squared_error(demand_dataframe_3['demand_quarter'],demand_dataframe_3['prediction_3']))\n",
    "print(\"rmse:\",sqrt(mean_squared_error(demand_dataframe_3['demand_quarter'],demand_dataframe_3['prediction_3'])))\n",
    "print(\"r2 score:\",r2_score(demand_dataframe_3['demand_quarter'],demand_dataframe_3['prediction_3']))\n",
    "print(\"MRE:\",mean_rel_error*100)\n",
    "print(\"MAPE:\",mape(demand_dataframe_3['demand_quarter'],demand_dataframe_3['prediction_3']))"
   ]
  },
  {
   "cell_type": "markdown",
   "id": "45264a3b",
   "metadata": {},
   "source": [
    "predict_4\n",
    "-------------"
   ]
  },
  {
   "cell_type": "code",
   "execution_count": 100,
   "id": "1695e9d2",
   "metadata": {},
   "outputs": [
    {
     "name": "stdout",
     "output_type": "stream",
     "text": [
      "mean_absolute_error: 32.27493099966342\n",
      "mean_squared_error: 1891.5327734096263\n",
      "rmse: 43.49175523486752\n",
      "r2 score: 0.7159999836782436\n",
      "MRE: 14.60811440221369\n",
      "MAPE: 14.608114957809448\n"
     ]
    }
   ],
   "source": [
    "demand_dataframe_4 = demand_dataframe.dropna(subset=['prediction_4'])\n",
    "mean_rel_error = demand_dataframe_4.apply(lambda demand_dataframe_4: rel_error(demand_dataframe_4['demand_quarter'],demand_dataframe_4['prediction_4']), axis=1).sum()/demand_dataframe_4['prediction_4'].count()\n",
    "print(\"mean_absolute_error:\",mean_absolute_error(demand_dataframe_4['demand_quarter'],demand_dataframe_4['prediction_4']))\n",
    "print(\"mean_squared_error:\",mean_squared_error(demand_dataframe_4['demand_quarter'],demand_dataframe_4['prediction_4']))\n",
    "print(\"rmse:\",sqrt(mean_squared_error(demand_dataframe_4['demand_quarter'],demand_dataframe_4['prediction_4'])))\n",
    "print(\"r2 score:\",r2_score(demand_dataframe_4['demand_quarter'],demand_dataframe_4['prediction_4']))\n",
    "print(\"MRE:\",mean_rel_error*100)\n",
    "print(\"MAPE:\",mape(demand_dataframe_4['demand_quarter'],demand_dataframe_4['prediction_4']))"
   ]
  },
  {
   "cell_type": "markdown",
   "id": "374cac4e",
   "metadata": {},
   "source": [
    "vanilla_demand_predict_24hr\n",
    "==========\n"
   ]
  },
  {
   "cell_type": "code",
   "execution_count": 17,
   "id": "f15863c7",
   "metadata": {},
   "outputs": [],
   "source": [
    "# 撈取需量資料 [B]\n",
    "try: \n",
    "    conn  =  pymysql.connect ( host = ' ' ,  user = ' ' ,  passwd = \" \" ,  db = ' ' ) \n",
    "    cur  =  conn.cursor() \n",
    "    select_sql = '''SELECT `dp`.`prediction_1`, `dp`.`prediction_2`, `dp`.`prediction_3`, `dp`.`prediction_4`, `dwwd`.`demand_quarter`, `dp`.`created_at`, `dwwd`.`data_hour`, `dwwd`.`data_weekday` \n",
    "                    FROM  `vanilla_demand_predict_96step` AS `dp`\n",
    "                    INNER JOIN `demand_with_weather_data` AS `dwwd` ON(`dp`.`created_at` = `dwwd`.`datetime`)\n",
    "                    WHERE `dwwd`.`data_date` >='{}' AND `dwwd`.`data_date` <='{}' \n",
    "                    ORDER BY `dp`.`created_at` '''.format(predict_begin_date, predict_end_date)\n",
    "    result_object = cur.execute(select_sql)\n",
    "    results_values_list = cur.fetchall()\n",
    "    result_key_list = [i[0] for i in cur.description]\n",
    "    \n",
    "    demand_dataframe = pd.DataFrame(results_values_list)\n",
    "    demand_dataframe.columns = result_key_list\n",
    "    cur.close () \n",
    "    conn.close()\n",
    "except Exception as e:\n",
    "    print(e)\n",
    "# 撈取需量資料 [E]"
   ]
  },
  {
   "cell_type": "markdown",
   "id": "20ecf325",
   "metadata": {},
   "source": [
    "predict_1\n",
    "-------------"
   ]
  },
  {
   "cell_type": "code",
   "execution_count": 106,
   "id": "b4a0340b",
   "metadata": {},
   "outputs": [],
   "source": [
    "demand_dataframe_1 = demand_dataframe.dropna(subset=['prediction_1'])"
   ]
  },
  {
   "cell_type": "code",
   "execution_count": 107,
   "id": "45847127",
   "metadata": {
    "scrolled": true
   },
   "outputs": [
    {
     "name": "stdout",
     "output_type": "stream",
     "text": [
      "mean_absolute_error: 29.309350824083417\n",
      "mean_squared_error: 1859.7163218298017\n",
      "rmse: 43.124428365252584\n",
      "r2 score: 0.7206415091821546\n",
      "MRE: 12.951875748292696\n",
      "MAPE: 12.95187622308731\n"
     ]
    }
   ],
   "source": [
    "mean_rel_error = demand_dataframe_1.apply(lambda demand_dataframe_1: rel_error(demand_dataframe_1['demand_quarter'],demand_dataframe_1['prediction_1']), axis=1).sum()/demand_dataframe_1['prediction_1'].count()\n",
    "print(\"mean_absolute_error:\",mean_absolute_error(demand_dataframe_1['demand_quarter'],demand_dataframe_1['prediction_1']))\n",
    "print(\"mean_squared_error:\",mean_squared_error(demand_dataframe_1['demand_quarter'],demand_dataframe_1['prediction_1']))\n",
    "print(\"rmse:\",sqrt(mean_squared_error(demand_dataframe_1['demand_quarter'],demand_dataframe_1['prediction_1'])))\n",
    "print(\"r2 score:\",r2_score(demand_dataframe_1['demand_quarter'],demand_dataframe_1['prediction_1']))\n",
    "print(\"MRE:\",mean_rel_error*100)\n",
    "print(\"MAPE:\",mape(demand_dataframe_1['demand_quarter'],demand_dataframe_1['prediction_1']))"
   ]
  },
  {
   "cell_type": "code",
   "execution_count": 23,
   "id": "628ced54",
   "metadata": {},
   "outputs": [],
   "source": [
    "c = positive_negative_error(demand_dataframe_1['demand_quarter'].astype('float32'),demand_dataframe_1['prediction_1'].astype('float32'), demand_dataframe_1)\n",
    "\n",
    "pd.DataFrame(data=c).to_csv('第一次預測-20220717.csv', index=False)"
   ]
  },
  {
   "cell_type": "markdown",
   "id": "5753e67d",
   "metadata": {},
   "source": [
    "predict_2\n",
    "-------------"
   ]
  },
  {
   "cell_type": "code",
   "execution_count": 104,
   "id": "ee6f8394",
   "metadata": {
    "scrolled": true
   },
   "outputs": [
    {
     "name": "stdout",
     "output_type": "stream",
     "text": [
      "mean_absolute_error: 30.30962314939434\n",
      "mean_squared_error: 1916.9962711978465\n",
      "rmse: 43.78351597573962\n",
      "r2 score: 0.7121117440877747\n",
      "MRE: 13.512744803544196\n",
      "MAPE: 13.512744009494781\n"
     ]
    }
   ],
   "source": [
    "demand_dataframe_2 = demand_dataframe.dropna(subset=['prediction_2'])\n",
    "mean_rel_error = demand_dataframe_2.apply(lambda demand_dataframe_2: rel_error(demand_dataframe_2['demand_quarter'],demand_dataframe_2['prediction_2']), axis=1).sum()/demand_dataframe_2['prediction_2'].count()\n",
    "print(\"mean_absolute_error:\",mean_absolute_error(demand_dataframe_2['demand_quarter'],demand_dataframe_2['prediction_2']))\n",
    "print(\"mean_squared_error:\",mean_squared_error(demand_dataframe_2['demand_quarter'],demand_dataframe_2['prediction_2']))\n",
    "print(\"rmse:\",sqrt(mean_squared_error(demand_dataframe_2['demand_quarter'],demand_dataframe_2['prediction_2'])))\n",
    "print(\"r2 score:\",r2_score(demand_dataframe_2['demand_quarter'],demand_dataframe_2['prediction_2']))\n",
    "print(\"MRE:\",mean_rel_error*100)\n",
    "print(\"MAPE:\",mape(demand_dataframe_2['demand_quarter'],demand_dataframe_2['prediction_2']))"
   ]
  },
  {
   "cell_type": "code",
   "execution_count": 309,
   "id": "da342606",
   "metadata": {},
   "outputs": [],
   "source": [
    "c = positive_negative_error(demand_dataframe_2['demand_quarter'].astype('float32'),demand_dataframe_2['prediction_2'].astype('float32'), demand_dataframe_2)\n",
    "\n",
    "pd.DataFrame(data=c).to_csv('畢業典禮24小時誤差-2.csv', index=False)"
   ]
  },
  {
   "cell_type": "markdown",
   "id": "3518a4b4",
   "metadata": {},
   "source": [
    "predict_3\n",
    "-------------"
   ]
  },
  {
   "cell_type": "code",
   "execution_count": 25,
   "id": "187a19bc",
   "metadata": {
    "scrolled": true
   },
   "outputs": [
    {
     "name": "stdout",
     "output_type": "stream",
     "text": [
      "mean_absolute_error: 28.860824638168964\n",
      "mean_squared_error: 1802.31597694379\n",
      "rmse: 42.45369214737147\n",
      "r2 score: 0.7293952428081183\n",
      "MRE: 12.867064249405487\n",
      "MAPE: 12.867063283920288\n"
     ]
    }
   ],
   "source": [
    "demand_dataframe_3 = demand_dataframe.dropna(subset=['prediction_3'])\n",
    "mean_rel_error = demand_dataframe_3.apply(lambda demand_dataframe_3: rel_error(demand_dataframe_3['demand_quarter'],demand_dataframe_3['prediction_3']), axis=1).sum()/demand_dataframe_3['prediction_3'].count()\n",
    "print(\"mean_absolute_error:\",mean_absolute_error(demand_dataframe_3['demand_quarter'],demand_dataframe_3['prediction_3']))\n",
    "print(\"mean_squared_error:\",mean_squared_error(demand_dataframe_3['demand_quarter'],demand_dataframe_3['prediction_3']))\n",
    "print(\"rmse:\",sqrt(mean_squared_error(demand_dataframe_3['demand_quarter'],demand_dataframe_3['prediction_3'])))\n",
    "print(\"r2 score:\",r2_score(demand_dataframe_3['demand_quarter'],demand_dataframe_3['prediction_3']))\n",
    "print(\"MRE:\",mean_rel_error*100)\n",
    "print(\"MAPE:\",mape(demand_dataframe_3['demand_quarter'],demand_dataframe_3['prediction_3']))"
   ]
  },
  {
   "cell_type": "code",
   "execution_count": 311,
   "id": "3e816197",
   "metadata": {},
   "outputs": [],
   "source": [
    "c = positive_negative_error(demand_dataframe_3['demand_quarter'].astype('float32'),demand_dataframe_3['prediction_3'].astype('float32'), demand_dataframe_3)"
   ]
  },
  {
   "cell_type": "code",
   "execution_count": 312,
   "id": "9ee5729b",
   "metadata": {},
   "outputs": [],
   "source": [
    "pd.DataFrame(data=c).to_csv('畢業典禮24小時誤差-3.csv', index=False)"
   ]
  },
  {
   "cell_type": "markdown",
   "id": "03affc9c",
   "metadata": {},
   "source": [
    "predict_4\n",
    "-------------"
   ]
  },
  {
   "cell_type": "code",
   "execution_count": 28,
   "id": "b8a29e1a",
   "metadata": {
    "scrolled": false
   },
   "outputs": [
    {
     "name": "stdout",
     "output_type": "stream",
     "text": [
      "mean_absolute_error: 28.820239057239057\n",
      "mean_squared_error: 1787.4249957912455\n",
      "rmse: 42.27794928554654\n",
      "r2 score: 0.7316835897243199\n",
      "MRE: 12.920228000183828\n",
      "MAPE: 12.920227646827698\n"
     ]
    }
   ],
   "source": [
    "demand_dataframe_4 = demand_dataframe.dropna(subset=['prediction_4'])\n",
    "mean_rel_error = demand_dataframe_4.apply(lambda demand_dataframe_4: rel_error(demand_dataframe_4['demand_quarter'],demand_dataframe_4['prediction_4']), axis=1).sum()/demand_dataframe_4['prediction_4'].count()\n",
    "print(\"mean_absolute_error:\",mean_absolute_error(demand_dataframe_4['demand_quarter'],demand_dataframe_4['prediction_4']))\n",
    "print(\"mean_squared_error:\",mean_squared_error(demand_dataframe_4['demand_quarter'],demand_dataframe_4['prediction_4']))\n",
    "print(\"rmse:\",sqrt(mean_squared_error(demand_dataframe_4['demand_quarter'],demand_dataframe_4['prediction_4'])))\n",
    "print(\"r2 score:\",r2_score(demand_dataframe_4['demand_quarter'],demand_dataframe_4['prediction_4']))\n",
    "print(\"MRE:\",mean_rel_error*100)\n",
    "print(\"MAPE:\",mape(demand_dataframe_4['demand_quarter'],demand_dataframe_4['prediction_4']))"
   ]
  },
  {
   "cell_type": "markdown",
   "id": "3dea1e92",
   "metadata": {},
   "source": [
    "vanilla_demand_predict_self_attention_y1\n",
    "=========="
   ]
  },
  {
   "cell_type": "code",
   "execution_count": 10,
   "id": "b0308af3",
   "metadata": {},
   "outputs": [],
   "source": [
    "# 撈取需量資料 [B]\n",
    "try: \n",
    "    conn  =  pymysql.connect ( host = ' ' ,  user = ' ' ,  passwd = \" \" ,  db = ' ' ) \n",
    "    cur  =  conn.cursor() \n",
    "    select_sql = '''SELECT `dp`.`prediction_1`, `dp`.`prediction_2`, `dp`.`prediction_3`, `dp`.`prediction_4`, `dwwd`.`demand_quarter`, `dp`.`created_at`, `dwwd`.`data_hour`, `dwwd`.`data_weekday` \n",
    "                    FROM  `vanilla_demand_predict_self_attention_y1` AS `dp`\n",
    "                    INNER JOIN `demand_with_weather_data` AS `dwwd` ON(`dp`.`created_at` = `dwwd`.`datetime`)\n",
    "                    WHERE `dwwd`.`data_date` >='{}' AND `dwwd`.`data_date` <='{}' \n",
    "                    ORDER BY `dp`.`created_at` '''.format(predict_begin_date, predict_end_date)\n",
    "    result_object = cur.execute(select_sql)\n",
    "    results_values_list = cur.fetchall()\n",
    "    result_key_list = [i[0] for i in cur.description]\n",
    "    \n",
    "    demand_dataframe = pd.DataFrame(results_values_list)\n",
    "    demand_dataframe.columns = result_key_list\n",
    "    cur.close () \n",
    "    conn.close()\n",
    "except Exception as e:\n",
    "    print(e)\n",
    "# 撈取需量資料 [E]"
   ]
  },
  {
   "cell_type": "markdown",
   "id": "82bc647f",
   "metadata": {},
   "source": [
    "predict_1\n",
    "-------------"
   ]
  },
  {
   "cell_type": "code",
   "execution_count": 11,
   "id": "227b6ee0",
   "metadata": {},
   "outputs": [
    {
     "name": "stdout",
     "output_type": "stream",
     "text": [
      "mean_absolute_error: 13.851632927702218\n",
      "mean_squared_error: 354.20372095060844\n",
      "rmse: 18.82030076674144\n",
      "r2 score: 0.9420205719919207\n",
      "MRE: 10.387336827486083\n",
      "MAPE: 10.38733646273613\n"
     ]
    }
   ],
   "source": [
    "demand_dataframe_1 = demand_dataframe.dropna(subset=['prediction_1'])\n",
    "\n",
    "mean_rel_error = demand_dataframe_1.apply(lambda demand_dataframe_1: rel_error(demand_dataframe_1['demand_quarter'],demand_dataframe_1['prediction_1']), axis=1).sum()/demand_dataframe_1['prediction_1'].count()\n",
    "\n",
    "print(\"mean_absolute_error:\",mean_absolute_error(demand_dataframe_1['demand_quarter'],demand_dataframe_1['prediction_1']))\n",
    "print(\"mean_squared_error:\",mean_squared_error(demand_dataframe_1['demand_quarter'],demand_dataframe_1['prediction_1']))\n",
    "print(\"rmse:\",sqrt(mean_squared_error(demand_dataframe_1['demand_quarter'],demand_dataframe_1['prediction_1'])))\n",
    "print(\"r2 score:\",r2_score(demand_dataframe_1['demand_quarter'],demand_dataframe_1['prediction_1']))\n",
    "print(\"MRE:\",mean_rel_error*100)\n",
    "print(\"MAPE:\",mape(demand_dataframe_1['demand_quarter'],demand_dataframe_1['prediction_1']))"
   ]
  },
  {
   "cell_type": "markdown",
   "id": "4aad9009",
   "metadata": {},
   "source": [
    "predict_2\n",
    "-------------"
   ]
  },
  {
   "cell_type": "code",
   "execution_count": 12,
   "id": "80241074",
   "metadata": {},
   "outputs": [
    {
     "name": "stdout",
     "output_type": "stream",
     "text": [
      "mean_absolute_error: 12.566932195624785\n",
      "mean_squared_error: 289.64770471881803\n",
      "rmse: 17.019039476974545\n",
      "r2 score: 0.9525859827002816\n",
      "MRE: 9.546188458990738\n",
      "MAPE: 9.54618826508522\n"
     ]
    }
   ],
   "source": [
    "demand_dataframe_2 = demand_dataframe.dropna(subset=['prediction_2'])\n",
    "mean_rel_error = demand_dataframe_2.apply(lambda demand_dataframe_2: rel_error(demand_dataframe_2['demand_quarter'],demand_dataframe_2['prediction_2']), axis=1).sum()/demand_dataframe_2['prediction_2'].count()\n",
    "print(\"mean_absolute_error:\",mean_absolute_error(demand_dataframe_2['demand_quarter'],demand_dataframe_2['prediction_2']))\n",
    "print(\"mean_squared_error:\",mean_squared_error(demand_dataframe_2['demand_quarter'],demand_dataframe_2['prediction_2']))\n",
    "print(\"rmse:\",sqrt(mean_squared_error(demand_dataframe_2['demand_quarter'],demand_dataframe_2['prediction_2'])))\n",
    "print(\"r2 score:\",r2_score(demand_dataframe_2['demand_quarter'],demand_dataframe_2['prediction_2']))\n",
    "print(\"MRE:\",mean_rel_error*100)\n",
    "print(\"MAPE:\",mape(demand_dataframe_2['demand_quarter'],demand_dataframe_2['prediction_2']))"
   ]
  },
  {
   "cell_type": "markdown",
   "id": "ebbf2eab",
   "metadata": {},
   "source": [
    "predict_3\n",
    "-------------"
   ]
  },
  {
   "cell_type": "code",
   "execution_count": 13,
   "id": "8ff2b7e3",
   "metadata": {},
   "outputs": [
    {
     "name": "stdout",
     "output_type": "stream",
     "text": [
      "mean_absolute_error: 11.031901325773845\n",
      "mean_squared_error: 220.50862219454226\n",
      "rmse: 14.849532726471303\n",
      "r2 score: 0.9639020378816017\n",
      "MRE: 8.48476728265607\n",
      "MAPE: 8.484767377376556\n"
     ]
    }
   ],
   "source": [
    "demand_dataframe_3 = demand_dataframe.dropna(subset=['prediction_3'])\n",
    "mean_rel_error = demand_dataframe_3.apply(lambda demand_dataframe_3: rel_error(demand_dataframe_3['demand_quarter'],demand_dataframe_3['prediction_3']), axis=1).sum()/demand_dataframe_3['prediction_3'].count()\n",
    "print(\"mean_absolute_error:\",mean_absolute_error(demand_dataframe_3['demand_quarter'],demand_dataframe_3['prediction_3']))\n",
    "print(\"mean_squared_error:\",mean_squared_error(demand_dataframe_3['demand_quarter'],demand_dataframe_3['prediction_3']))\n",
    "print(\"rmse:\",sqrt(mean_squared_error(demand_dataframe_3['demand_quarter'],demand_dataframe_3['prediction_3'])))\n",
    "print(\"r2 score:\",r2_score(demand_dataframe_3['demand_quarter'],demand_dataframe_3['prediction_3']))\n",
    "print(\"MRE:\",mean_rel_error*100)\n",
    "print(\"MAPE:\",mape(demand_dataframe_3['demand_quarter'],demand_dataframe_3['prediction_3']))"
   ]
  },
  {
   "cell_type": "markdown",
   "id": "5d55413e",
   "metadata": {},
   "source": [
    "predict_4\n",
    "-------------"
   ]
  },
  {
   "cell_type": "code",
   "execution_count": 14,
   "id": "f05c8498",
   "metadata": {},
   "outputs": [
    {
     "name": "stdout",
     "output_type": "stream",
     "text": [
      "mean_absolute_error: 9.15638193688792\n",
      "mean_squared_error: 148.8091353559361\n",
      "rmse: 12.198734989987122\n",
      "r2 score: 0.9756384500730965\n",
      "MRE: 7.228865645856382\n",
      "MAPE: 7.228865474462509\n"
     ]
    }
   ],
   "source": [
    "demand_dataframe_4 = demand_dataframe.dropna(subset=['prediction_4'])\n",
    "mean_rel_error = demand_dataframe_4.apply(lambda demand_dataframe_4: rel_error(demand_dataframe_4['demand_quarter'],demand_dataframe_4['prediction_4']), axis=1).sum()/demand_dataframe_4['prediction_4'].count()\n",
    "print(\"mean_absolute_error:\",mean_absolute_error(demand_dataframe_4['demand_quarter'],demand_dataframe_4['prediction_4']))\n",
    "print(\"mean_squared_error:\",mean_squared_error(demand_dataframe_4['demand_quarter'],demand_dataframe_4['prediction_4']))\n",
    "print(\"rmse:\",sqrt(mean_squared_error(demand_dataframe_4['demand_quarter'],demand_dataframe_4['prediction_4'])))\n",
    "print(\"r2 score:\",r2_score(demand_dataframe_4['demand_quarter'],demand_dataframe_4['prediction_4']))\n",
    "print(\"MRE:\",mean_rel_error*100)\n",
    "print(\"MAPE:\",mape(demand_dataframe_4['demand_quarter'],demand_dataframe_4['prediction_4']))"
   ]
  },
  {
   "cell_type": "markdown",
   "id": "d161f73e",
   "metadata": {},
   "source": [
    "vanilla_demand_predict_self_attention_y2\n",
    "=========="
   ]
  },
  {
   "cell_type": "code",
   "execution_count": 16,
   "id": "69643a51",
   "metadata": {},
   "outputs": [],
   "source": [
    "# 撈取需量資料 [B]\n",
    "try: \n",
    "    conn  =  pymysql.connect ( host = ' ' ,  user = ' ' ,  passwd = \" \" ,  db = ' ' ) \n",
    "    cur  =  conn.cursor() \n",
    "    select_sql = '''SELECT `dp`.`prediction_1`, `dp`.`prediction_2`, `dp`.`prediction_3`, `dp`.`prediction_4`, `dwwd`.`demand_quarter`, `dp`.`created_at`, `dwwd`.`data_hour`, `dwwd`.`data_weekday` \n",
    "                    FROM  `vanilla_demand_predict_self_attention_y2` AS `dp`\n",
    "                    INNER JOIN `demand_with_weather_data` AS `dwwd` ON(`dp`.`created_at` = `dwwd`.`datetime`)\n",
    "                    WHERE `dwwd`.`data_date` >='{}' AND `dwwd`.`data_date` <='{}' \n",
    "                    ORDER BY `dp`.`created_at` '''.format(predict_begin_date, predict_end_date)\n",
    "    result_object = cur.execute(select_sql)\n",
    "    results_values_list = cur.fetchall()\n",
    "    result_key_list = [i[0] for i in cur.description]\n",
    "    \n",
    "    demand_dataframe = pd.DataFrame(results_values_list)\n",
    "    demand_dataframe.columns = result_key_list\n",
    "    cur.close () \n",
    "    conn.close()\n",
    "except Exception as e:\n",
    "    print(e)\n",
    "# 撈取需量資料 [E]"
   ]
  },
  {
   "cell_type": "markdown",
   "id": "623effb7",
   "metadata": {},
   "source": [
    "predict_1\n",
    "-------------"
   ]
  },
  {
   "cell_type": "code",
   "execution_count": 17,
   "id": "f2482d81",
   "metadata": {},
   "outputs": [
    {
     "name": "stdout",
     "output_type": "stream",
     "text": [
      "mean_absolute_error: 13.584818897637794\n",
      "mean_squared_error: 373.08266157766644\n",
      "rmse: 19.315347824402917\n",
      "r2 score: 0.9389302877452796\n",
      "MRE: 9.94492026561987\n",
      "MAPE: 9.944919496774673\n"
     ]
    }
   ],
   "source": [
    "demand_dataframe_1 = demand_dataframe.dropna(subset=['prediction_1'])\n",
    "mean_rel_error = demand_dataframe_1.apply(lambda demand_dataframe_1: rel_error(demand_dataframe_1['demand_quarter'],demand_dataframe_1['prediction_1']), axis=1).sum()/demand_dataframe_1['prediction_1'].count()\n",
    "print(\"mean_absolute_error:\",mean_absolute_error(demand_dataframe_1['demand_quarter'],demand_dataframe_1['prediction_1']))\n",
    "print(\"mean_squared_error:\",mean_squared_error(demand_dataframe_1['demand_quarter'],demand_dataframe_1['prediction_1']))\n",
    "print(\"rmse:\",sqrt(mean_squared_error(demand_dataframe_1['demand_quarter'],demand_dataframe_1['prediction_1'])))\n",
    "print(\"r2 score:\",r2_score(demand_dataframe_1['demand_quarter'],demand_dataframe_1['prediction_1']))\n",
    "print(\"MRE:\",mean_rel_error*100)\n",
    "print(\"MAPE:\",mape(demand_dataframe_1['demand_quarter'],demand_dataframe_1['prediction_1']))"
   ]
  },
  {
   "cell_type": "markdown",
   "id": "d7de6bf9",
   "metadata": {},
   "source": [
    "predict_2\n",
    "-------------"
   ]
  },
  {
   "cell_type": "code",
   "execution_count": 18,
   "id": "e342e0e2",
   "metadata": {},
   "outputs": [
    {
     "name": "stdout",
     "output_type": "stream",
     "text": [
      "mean_absolute_error: 12.187388901614938\n",
      "mean_squared_error: 295.1820348671401\n",
      "rmse: 17.18086245993315\n",
      "r2 score: 0.9516800379228161\n",
      "MRE: 8.99160868303638\n",
      "MAPE: 8.991608768701553\n"
     ]
    }
   ],
   "source": [
    "demand_dataframe_2 = demand_dataframe.dropna(subset=['prediction_2'])\n",
    "mean_rel_error = demand_dataframe_2.apply(lambda demand_dataframe_2: rel_error(demand_dataframe_2['demand_quarter'],demand_dataframe_2['prediction_2']), axis=1).sum()/demand_dataframe_2['prediction_2'].count()\n",
    "print(\"mean_absolute_error:\",mean_absolute_error(demand_dataframe_2['demand_quarter'],demand_dataframe_2['prediction_2']))\n",
    "print(\"mean_squared_error:\",mean_squared_error(demand_dataframe_2['demand_quarter'],demand_dataframe_2['prediction_2']))\n",
    "print(\"rmse:\",sqrt(mean_squared_error(demand_dataframe_2['demand_quarter'],demand_dataframe_2['prediction_2'])))\n",
    "print(\"r2 score:\",r2_score(demand_dataframe_2['demand_quarter'],demand_dataframe_2['prediction_2']))\n",
    "print(\"MRE:\",mean_rel_error*100)\n",
    "print(\"MAPE:\",mape(demand_dataframe_2['demand_quarter'],demand_dataframe_2['prediction_2']))"
   ]
  },
  {
   "cell_type": "markdown",
   "id": "e258cc8c",
   "metadata": {},
   "source": [
    "predict_3\n",
    "-------------"
   ]
  },
  {
   "cell_type": "code",
   "execution_count": 19,
   "id": "d243ce96",
   "metadata": {},
   "outputs": [
    {
     "name": "stdout",
     "output_type": "stream",
     "text": [
      "mean_absolute_error: 10.597426624287719\n",
      "mean_squared_error: 219.05633732210865\n",
      "rmse: 14.80055192626642\n",
      "r2 score: 0.9641397815298477\n",
      "MRE: 7.882929362477507\n",
      "MAPE: 7.882929593324661\n"
     ]
    }
   ],
   "source": [
    "demand_dataframe_3 = demand_dataframe.dropna(subset=['prediction_3'])\n",
    "mean_rel_error = demand_dataframe_3.apply(lambda demand_dataframe_3: rel_error(demand_dataframe_3['demand_quarter'],demand_dataframe_3['prediction_3']), axis=1).sum()/demand_dataframe_3['prediction_3'].count()\n",
    "print(\"mean_absolute_error:\",mean_absolute_error(demand_dataframe_3['demand_quarter'],demand_dataframe_3['prediction_3']))\n",
    "print(\"mean_squared_error:\",mean_squared_error(demand_dataframe_3['demand_quarter'],demand_dataframe_3['prediction_3']))\n",
    "print(\"rmse:\",sqrt(mean_squared_error(demand_dataframe_3['demand_quarter'],demand_dataframe_3['prediction_3'])))\n",
    "print(\"r2 score:\",r2_score(demand_dataframe_3['demand_quarter'],demand_dataframe_3['prediction_3']))\n",
    "print(\"MRE:\",mean_rel_error*100)\n",
    "print(\"MAPE:\",mape(demand_dataframe_3['demand_quarter'],demand_dataframe_3['prediction_3']))"
   ]
  },
  {
   "cell_type": "markdown",
   "id": "5bcdaa96",
   "metadata": {},
   "source": [
    "predict_4\n",
    "-------------"
   ]
  },
  {
   "cell_type": "code",
   "execution_count": 20,
   "id": "f821a3e1",
   "metadata": {},
   "outputs": [
    {
     "name": "stdout",
     "output_type": "stream",
     "text": [
      "mean_absolute_error: 8.72536739018384\n",
      "mean_squared_error: 145.44294987686845\n",
      "rmse: 12.059973046274543\n",
      "r2 score: 0.9761895284421453\n",
      "MRE: 6.593034724364098\n",
      "MAPE: 6.593034416437149\n"
     ]
    }
   ],
   "source": [
    "demand_dataframe_4 = demand_dataframe.dropna(subset=['prediction_4'])\n",
    "mean_rel_error = demand_dataframe_4.apply(lambda demand_dataframe_4: rel_error(demand_dataframe_4['demand_quarter'],demand_dataframe_4['prediction_4']), axis=1).sum()/demand_dataframe_4['prediction_4'].count()\n",
    "print(\"mean_absolute_error:\",mean_absolute_error(demand_dataframe_4['demand_quarter'],demand_dataframe_4['prediction_4']))\n",
    "print(\"mean_squared_error:\",mean_squared_error(demand_dataframe_4['demand_quarter'],demand_dataframe_4['prediction_4']))\n",
    "print(\"rmse:\",sqrt(mean_squared_error(demand_dataframe_4['demand_quarter'],demand_dataframe_4['prediction_4'])))\n",
    "print(\"r2 score:\",r2_score(demand_dataframe_4['demand_quarter'],demand_dataframe_4['prediction_4']))\n",
    "print(\"MRE:\",mean_rel_error*100)\n",
    "print(\"MAPE:\",mape(demand_dataframe_4['demand_quarter'],demand_dataframe_4['prediction_4']))"
   ]
  },
  {
   "cell_type": "markdown",
   "id": "06daa6e0",
   "metadata": {},
   "source": [
    "vanilla_demand_predict_self_attention_y3\n",
    "=========="
   ]
  },
  {
   "cell_type": "code",
   "execution_count": 21,
   "id": "95ff5d80",
   "metadata": {},
   "outputs": [],
   "source": [
    "# 撈取需量資料 [B]\n",
    "try: \n",
    "    conn  =  pymysql.connect ( host = ' ' ,  user = ' ' ,  passwd = \" \" ,  db = ' ' ) \n",
    "    cur  =  conn.cursor() \n",
    "    select_sql = '''SELECT `dp`.`prediction_1`, `dp`.`prediction_2`, `dp`.`prediction_3`, `dp`.`prediction_4`, `dwwd`.`demand_quarter`, `dp`.`created_at`, `dwwd`.`data_hour`, `dwwd`.`data_weekday` \n",
    "                    FROM  `vanilla_demand_predict_self_attention_y3` AS `dp`\n",
    "                    INNER JOIN `demand_with_weather_data` AS `dwwd` ON(`dp`.`created_at` = `dwwd`.`datetime`)\n",
    "                    WHERE `dwwd`.`data_date` >='{}' AND `dwwd`.`data_date` <='{}' \n",
    "                    ORDER BY `dp`.`created_at` '''.format(predict_begin_date, predict_end_date)\n",
    "    result_object = cur.execute(select_sql)\n",
    "    results_values_list = cur.fetchall()\n",
    "    result_key_list = [i[0] for i in cur.description]\n",
    "    \n",
    "    demand_dataframe = pd.DataFrame(results_values_list)\n",
    "    demand_dataframe.columns = result_key_list\n",
    "    cur.close () \n",
    "    conn.close()\n",
    "except Exception as e:\n",
    "    print(e)\n",
    "# 撈取需量資料 [E]"
   ]
  },
  {
   "cell_type": "markdown",
   "id": "53d45e67",
   "metadata": {},
   "source": [
    "predict_1\n",
    "-------------"
   ]
  },
  {
   "cell_type": "code",
   "execution_count": 22,
   "id": "9ab0fb51",
   "metadata": {},
   "outputs": [
    {
     "name": "stdout",
     "output_type": "stream",
     "text": [
      "mean_absolute_error: 14.723139584824624\n",
      "mean_squared_error: 446.69548145168216\n",
      "rmse: 21.13517166837502\n",
      "r2 score: 0.926880642476442\n",
      "MRE: 10.415056855948713\n",
      "MAPE: 10.415057092905045\n"
     ]
    }
   ],
   "source": [
    "demand_dataframe_1 = demand_dataframe.dropna(subset=['prediction_1'])\n",
    "mean_rel_error = demand_dataframe_1.apply(lambda demand_dataframe_1: rel_error(demand_dataframe_1['demand_quarter'],demand_dataframe_1['prediction_1']), axis=1).sum()/demand_dataframe_1['prediction_1'].count()\n",
    "print(\"mean_absolute_error:\",mean_absolute_error(demand_dataframe_1['demand_quarter'],demand_dataframe_1['prediction_1']))\n",
    "print(\"mean_squared_error:\",mean_squared_error(demand_dataframe_1['demand_quarter'],demand_dataframe_1['prediction_1']))\n",
    "print(\"rmse:\",sqrt(mean_squared_error(demand_dataframe_1['demand_quarter'],demand_dataframe_1['prediction_1'])))\n",
    "print(\"r2 score:\",r2_score(demand_dataframe_1['demand_quarter'],demand_dataframe_1['prediction_1']))\n",
    "print(\"MRE:\",mean_rel_error*100)\n",
    "print(\"MAPE:\",mape(demand_dataframe_1['demand_quarter'],demand_dataframe_1['prediction_1']))"
   ]
  },
  {
   "cell_type": "markdown",
   "id": "db9fcb63",
   "metadata": {},
   "source": [
    "predict_2\n",
    "-------------"
   ]
  },
  {
   "cell_type": "code",
   "execution_count": 23,
   "id": "1d942baa",
   "metadata": {},
   "outputs": [
    {
     "name": "stdout",
     "output_type": "stream",
     "text": [
      "mean_absolute_error: 13.029853109609439\n",
      "mean_squared_error: 338.86171513285996\n",
      "rmse: 18.4081969549671\n",
      "r2 score: 0.9445298721109534\n",
      "MRE: 9.399844505860843\n",
      "MAPE: 9.399844706058502\n"
     ]
    }
   ],
   "source": [
    "demand_dataframe_2 = demand_dataframe.dropna(subset=['prediction_2'])\n",
    "mean_rel_error = demand_dataframe_2.apply(lambda demand_dataframe_2: rel_error(demand_dataframe_2['demand_quarter'],demand_dataframe_2['prediction_2']), axis=1).sum()/demand_dataframe_2['prediction_2'].count()\n",
    "print(\"mean_absolute_error:\",mean_absolute_error(demand_dataframe_2['demand_quarter'],demand_dataframe_2['prediction_2']))\n",
    "print(\"mean_squared_error:\",mean_squared_error(demand_dataframe_2['demand_quarter'],demand_dataframe_2['prediction_2']))\n",
    "print(\"rmse:\",sqrt(mean_squared_error(demand_dataframe_2['demand_quarter'],demand_dataframe_2['prediction_2'])))\n",
    "print(\"r2 score:\",r2_score(demand_dataframe_2['demand_quarter'],demand_dataframe_2['prediction_2']))\n",
    "print(\"MRE:\",mean_rel_error*100)\n",
    "print(\"MAPE:\",mape(demand_dataframe_2['demand_quarter'],demand_dataframe_2['prediction_2']))"
   ]
  },
  {
   "cell_type": "markdown",
   "id": "1f6c3343",
   "metadata": {},
   "source": [
    "predict_3\n",
    "-------------"
   ]
  },
  {
   "cell_type": "code",
   "execution_count": 24,
   "id": "0273cab0",
   "metadata": {},
   "outputs": [
    {
     "name": "stdout",
     "output_type": "stream",
     "text": [
      "mean_absolute_error: 11.208039400967845\n",
      "mean_squared_error: 242.27685182258114\n",
      "rmse: 15.565244997191055\n",
      "r2 score: 0.9603385095230403\n",
      "MRE: 8.249683269321768\n",
      "MAPE: 8.249683678150177\n"
     ]
    }
   ],
   "source": [
    "demand_dataframe_3 = demand_dataframe.dropna(subset=['prediction_3'])\n",
    "mean_rel_error = demand_dataframe_3.apply(lambda demand_dataframe_3: rel_error(demand_dataframe_3['demand_quarter'],demand_dataframe_3['prediction_3']), axis=1).sum()/demand_dataframe_3['prediction_3'].count()\n",
    "print(\"mean_absolute_error:\",mean_absolute_error(demand_dataframe_3['demand_quarter'],demand_dataframe_3['prediction_3']))\n",
    "print(\"mean_squared_error:\",mean_squared_error(demand_dataframe_3['demand_quarter'],demand_dataframe_3['prediction_3']))\n",
    "print(\"rmse:\",sqrt(mean_squared_error(demand_dataframe_3['demand_quarter'],demand_dataframe_3['prediction_3'])))\n",
    "print(\"r2 score:\",r2_score(demand_dataframe_3['demand_quarter'],demand_dataframe_3['prediction_3']))\n",
    "print(\"MRE:\",mean_rel_error*100)\n",
    "print(\"MAPE:\",mape(demand_dataframe_3['demand_quarter'],demand_dataframe_3['prediction_3']))"
   ]
  },
  {
   "cell_type": "markdown",
   "id": "dafc10bb",
   "metadata": {},
   "source": [
    "predict_4\n",
    "-------------"
   ]
  },
  {
   "cell_type": "code",
   "execution_count": 25,
   "id": "2152a27f",
   "metadata": {
    "scrolled": false
   },
   "outputs": [
    {
     "name": "stdout",
     "output_type": "stream",
     "text": [
      "mean_absolute_error: 9.007921653971708\n",
      "mean_squared_error: 150.33187280797205\n",
      "rmse: 12.26098987879739\n",
      "r2 score: 0.9753891626595609\n",
      "MRE: 6.8781157043509085\n",
      "MAPE: 6.8781159818172455\n"
     ]
    }
   ],
   "source": [
    "demand_dataframe_4 = demand_dataframe.dropna(subset=['prediction_4'])\n",
    "mean_rel_error = demand_dataframe_4.apply(lambda demand_dataframe_4: rel_error(demand_dataframe_4['demand_quarter'],demand_dataframe_4['prediction_4']), axis=1).sum()/demand_dataframe_4['prediction_4'].count()\n",
    "print(\"mean_absolute_error:\",mean_absolute_error(demand_dataframe_4['demand_quarter'],demand_dataframe_4['prediction_4']))\n",
    "print(\"mean_squared_error:\",mean_squared_error(demand_dataframe_4['demand_quarter'],demand_dataframe_4['prediction_4']))\n",
    "print(\"rmse:\",sqrt(mean_squared_error(demand_dataframe_4['demand_quarter'],demand_dataframe_4['prediction_4'])))\n",
    "print(\"r2 score:\",r2_score(demand_dataframe_4['demand_quarter'],demand_dataframe_4['prediction_4']))\n",
    "print(\"MRE:\",mean_rel_error*100)\n",
    "print(\"MAPE:\",mape(demand_dataframe_4['demand_quarter'],demand_dataframe_4['prediction_4']))"
   ]
  },
  {
   "cell_type": "markdown",
   "id": "45f07782",
   "metadata": {},
   "source": [
    "vanilla_demand_predict_self_attention_4t\n",
    "========="
   ]
  },
  {
   "cell_type": "code",
   "execution_count": 10,
   "id": "97110f22",
   "metadata": {},
   "outputs": [],
   "source": [
    "# 撈取需量資料 [B]\n",
    "try: \n",
    "    conn  =  pymysql.connect ( host = ' ' ,  user = ' ' ,  passwd = \" \" ,  db = ' ' ) \n",
    "    cur  =  conn.cursor() \n",
    "    select_sql = '''SELECT `dp`.`prediction_1`, `dp`.`prediction_2`, `dp`.`prediction_3`, `dp`.`prediction_4`, `dwwd`.`demand_quarter`, `dp`.`created_at`, `dwwd`.`data_hour`, `dwwd`.`data_weekday` \n",
    "                    FROM  `vanilla_demand_predict_self_attention_4t` AS `dp`\n",
    "                    INNER JOIN `demand_with_weather_data` AS `dwwd` ON(`dp`.`created_at` = `dwwd`.`datetime`)\n",
    "                    WHERE `dwwd`.`data_date` >='{}' AND `dwwd`.`data_date` <='{}' \n",
    "                    ORDER BY `dp`.`created_at` '''.format(predict_begin_date, predict_end_date)\n",
    "    result_object = cur.execute(select_sql)\n",
    "    results_values_list = cur.fetchall()\n",
    "    result_key_list = [i[0] for i in cur.description]\n",
    "    \n",
    "    demand_dataframe = pd.DataFrame(results_values_list)\n",
    "    demand_dataframe.columns = result_key_list\n",
    "    cur.close () \n",
    "    conn.close()\n",
    "except Exception as e:\n",
    "    print(e)\n",
    "# 撈取需量資料 [E]"
   ]
  },
  {
   "cell_type": "markdown",
   "id": "077fea55",
   "metadata": {},
   "source": [
    "predict_1\n",
    "-------------"
   ]
  },
  {
   "cell_type": "code",
   "execution_count": 11,
   "id": "dd3ce71e",
   "metadata": {},
   "outputs": [
    {
     "name": "stdout",
     "output_type": "stream",
     "text": [
      "mean_absolute_error: 23.80705798138869\n",
      "mean_squared_error: 1132.4505445382963\n",
      "rmse: 33.65190253965289\n",
      "r2 score: 0.8146297428961113\n",
      "MRE: 20.47220423046903\n",
      "MAPE: 20.4722061753273\n"
     ]
    }
   ],
   "source": [
    "demand_dataframe_1 = demand_dataframe.dropna(subset=['prediction_1'])\n",
    "mean_rel_error = demand_dataframe_1.apply(lambda demand_dataframe_1: rel_error(demand_dataframe_1['demand_quarter'],demand_dataframe_1['prediction_1']), axis=1).sum()/demand_dataframe_1['prediction_1'].count()\n",
    "print(\"mean_absolute_error:\",mean_absolute_error(demand_dataframe_1['demand_quarter'],demand_dataframe_1['prediction_1']))\n",
    "print(\"mean_squared_error:\",mean_squared_error(demand_dataframe_1['demand_quarter'],demand_dataframe_1['prediction_1']))\n",
    "print(\"rmse:\",sqrt(mean_squared_error(demand_dataframe_1['demand_quarter'],demand_dataframe_1['prediction_1'])))\n",
    "print(\"r2 score:\",r2_score(demand_dataframe_1['demand_quarter'],demand_dataframe_1['prediction_1']))\n",
    "print(\"MRE:\",mean_rel_error*100)\n",
    "print(\"MAPE:\",mape(demand_dataframe_1['demand_quarter'],demand_dataframe_1['prediction_1']))"
   ]
  },
  {
   "cell_type": "markdown",
   "id": "7227a286",
   "metadata": {},
   "source": [
    "predict_2\n",
    "-------------"
   ]
  },
  {
   "cell_type": "code",
   "execution_count": 12,
   "id": "73da50f4",
   "metadata": {},
   "outputs": [
    {
     "name": "stdout",
     "output_type": "stream",
     "text": [
      "mean_absolute_error: 18.869475718703473\n",
      "mean_squared_error: 682.478191681938\n",
      "rmse: 26.12428356303648\n",
      "r2 score: 0.8882814113148206\n",
      "MRE: 16.178117181787897\n",
      "MAPE: 16.17811620235443\n"
     ]
    }
   ],
   "source": [
    "demand_dataframe_2 = demand_dataframe.dropna(subset=['prediction_2'])\n",
    "mean_rel_error = demand_dataframe_2.apply(lambda demand_dataframe_2: rel_error(demand_dataframe_2['demand_quarter'],demand_dataframe_2['prediction_2']), axis=1).sum()/demand_dataframe_2['prediction_2'].count()\n",
    "print(\"mean_absolute_error:\",mean_absolute_error(demand_dataframe_2['demand_quarter'],demand_dataframe_2['prediction_2']))\n",
    "print(\"mean_squared_error:\",mean_squared_error(demand_dataframe_2['demand_quarter'],demand_dataframe_2['prediction_2']))\n",
    "print(\"rmse:\",sqrt(mean_squared_error(demand_dataframe_2['demand_quarter'],demand_dataframe_2['prediction_2'])))\n",
    "print(\"r2 score:\",r2_score(demand_dataframe_2['demand_quarter'],demand_dataframe_2['prediction_2']))\n",
    "print(\"MRE:\",mean_rel_error*100)\n",
    "print(\"MAPE:\",mape(demand_dataframe_2['demand_quarter'],demand_dataframe_2['prediction_2']))"
   ]
  },
  {
   "cell_type": "markdown",
   "id": "a831473d",
   "metadata": {},
   "source": [
    "predict_3\n",
    "------------"
   ]
  },
  {
   "cell_type": "code",
   "execution_count": 13,
   "id": "dc403aad",
   "metadata": {},
   "outputs": [
    {
     "name": "stdout",
     "output_type": "stream",
     "text": [
      "mean_absolute_error: 15.037726999398679\n",
      "mean_squared_error: 431.29784208115\n",
      "rmse: 20.767711527300015\n",
      "r2 score: 0.9293951728043692\n",
      "MRE: 13.047348414722162\n",
      "MAPE: 13.047347962856293\n"
     ]
    }
   ],
   "source": [
    "demand_dataframe_3 = demand_dataframe.dropna(subset=['prediction_3'])\n",
    "mean_rel_error = demand_dataframe_3.apply(lambda demand_dataframe_3: rel_error(demand_dataframe_3['demand_quarter'],demand_dataframe_3['prediction_3']), axis=1).sum()/demand_dataframe_3['prediction_3'].count()\n",
    "print(\"mean_absolute_error:\",mean_absolute_error(demand_dataframe_3['demand_quarter'],demand_dataframe_3['prediction_3']))\n",
    "print(\"mean_squared_error:\",mean_squared_error(demand_dataframe_3['demand_quarter'],demand_dataframe_3['prediction_3']))\n",
    "print(\"rmse:\",sqrt(mean_squared_error(demand_dataframe_3['demand_quarter'],demand_dataframe_3['prediction_3'])))\n",
    "print(\"r2 score:\",r2_score(demand_dataframe_3['demand_quarter'],demand_dataframe_3['prediction_3']))\n",
    "print(\"MRE:\",mean_rel_error*100)\n",
    "print(\"MAPE:\",mape(demand_dataframe_3['demand_quarter'],demand_dataframe_3['prediction_3']))"
   ]
  },
  {
   "cell_type": "markdown",
   "id": "8e416782",
   "metadata": {},
   "source": [
    "predict_4\n",
    "-------------"
   ]
  },
  {
   "cell_type": "code",
   "execution_count": 14,
   "id": "e7651347",
   "metadata": {},
   "outputs": [
    {
     "name": "stdout",
     "output_type": "stream",
     "text": [
      "mean_absolute_error: 11.142911058931332\n",
      "mean_squared_error: 237.01389500601343\n",
      "rmse: 15.395255600541793\n",
      "r2 score: 0.9611984450904307\n",
      "MRE: 9.619345422931385\n",
      "MAPE: 9.619346261024475\n"
     ]
    }
   ],
   "source": [
    "demand_dataframe_4 = demand_dataframe.dropna(subset=['prediction_4'])\n",
    "mean_rel_error = demand_dataframe_4.apply(lambda demand_dataframe_4: rel_error(demand_dataframe_4['demand_quarter'],demand_dataframe_4['prediction_4']), axis=1).sum()/demand_dataframe_4['prediction_4'].count()\n",
    "print(\"mean_absolute_error:\",mean_absolute_error(demand_dataframe_4['demand_quarter'],demand_dataframe_4['prediction_4']))\n",
    "print(\"mean_squared_error:\",mean_squared_error(demand_dataframe_4['demand_quarter'],demand_dataframe_4['prediction_4']))\n",
    "print(\"rmse:\",sqrt(mean_squared_error(demand_dataframe_4['demand_quarter'],demand_dataframe_4['prediction_4'])))\n",
    "print(\"r2 score:\",r2_score(demand_dataframe_4['demand_quarter'],demand_dataframe_4['prediction_4']))\n",
    "print(\"MRE:\",mean_rel_error*100)\n",
    "print(\"MAPE:\",mape(demand_dataframe_4['demand_quarter'],demand_dataframe_4['prediction_4']))"
   ]
  },
  {
   "cell_type": "markdown",
   "id": "d6863092",
   "metadata": {},
   "source": [
    "vanilla_demand_predict_self_attention_48t\n",
    "========="
   ]
  },
  {
   "cell_type": "code",
   "execution_count": 16,
   "id": "3c518ee9",
   "metadata": {},
   "outputs": [],
   "source": [
    "# 撈取需量資料 [B]\n",
    "try: \n",
    "    conn  =  pymysql.connect ( host = ' ' ,  user = ' ' ,  passwd = \" \" ,  db = ' ' ) \n",
    "    cur  =  conn.cursor() \n",
    "    select_sql = '''SELECT `dp`.`prediction_1`, `dp`.`prediction_2`, `dp`.`prediction_3`, `dp`.`prediction_4`, `dwwd`.`demand_quarter`, `dp`.`created_at`, `dwwd`.`data_hour`, `dwwd`.`data_weekday` \n",
    "                    FROM  `vanilla_demand_predict_self_attention_48t` AS `dp`\n",
    "                    INNER JOIN `demand_with_weather_data` AS `dwwd` ON(`dp`.`created_at` = `dwwd`.`datetime`)\n",
    "                    WHERE `dwwd`.`data_date` >='{}' AND `dwwd`.`data_date` <='{}' \n",
    "                    ORDER BY `dp`.`created_at` '''.format(predict_begin_date, predict_end_date)\n",
    "    result_object = cur.execute(select_sql)\n",
    "    results_values_list = cur.fetchall()\n",
    "    result_key_list = [i[0] for i in cur.description]\n",
    "    \n",
    "    demand_dataframe = pd.DataFrame(results_values_list)\n",
    "    demand_dataframe.columns = result_key_list\n",
    "    cur.close () \n",
    "    conn.close()\n",
    "except Exception as e:\n",
    "    print(e)\n",
    "# 撈取需量資料 [E]"
   ]
  },
  {
   "cell_type": "markdown",
   "id": "cd3f6ed7",
   "metadata": {},
   "source": [
    "predict_1\n",
    "-------------"
   ]
  },
  {
   "cell_type": "code",
   "execution_count": 17,
   "id": "861305a3",
   "metadata": {},
   "outputs": [
    {
     "name": "stdout",
     "output_type": "stream",
     "text": [
      "mean_absolute_error: 15.290934001431639\n",
      "mean_squared_error: 466.80508045526125\n",
      "rmse: 21.605672413865328\n",
      "r2 score: 0.9235889123823305\n",
      "MRE: 11.110780945293262\n",
      "MAPE: 11.110781133174896\n"
     ]
    }
   ],
   "source": [
    "demand_dataframe_1 = demand_dataframe.dropna(subset=['prediction_1'])\n",
    "mean_rel_error = demand_dataframe_1.apply(lambda demand_dataframe_1: rel_error(demand_dataframe_1['demand_quarter'],demand_dataframe_1['prediction_1']), axis=1).sum()/demand_dataframe_1['prediction_1'].count()\n",
    "print(\"mean_absolute_error:\",mean_absolute_error(demand_dataframe_1['demand_quarter'],demand_dataframe_1['prediction_1']))\n",
    "print(\"mean_squared_error:\",mean_squared_error(demand_dataframe_1['demand_quarter'],demand_dataframe_1['prediction_1']))\n",
    "print(\"rmse:\",sqrt(mean_squared_error(demand_dataframe_1['demand_quarter'],demand_dataframe_1['prediction_1'])))\n",
    "print(\"r2 score:\",r2_score(demand_dataframe_1['demand_quarter'],demand_dataframe_1['prediction_1']))\n",
    "print(\"MRE:\",mean_rel_error*100)\n",
    "print(\"MAPE:\",mape(demand_dataframe_1['demand_quarter'],demand_dataframe_1['prediction_1']))"
   ]
  },
  {
   "cell_type": "markdown",
   "id": "d0e37ba0",
   "metadata": {},
   "source": [
    "predict_2\n",
    "-------------"
   ]
  },
  {
   "cell_type": "code",
   "execution_count": 18,
   "id": "c3c2a587",
   "metadata": {},
   "outputs": [
    {
     "name": "stdout",
     "output_type": "stream",
     "text": [
      "mean_absolute_error: 13.830771961974571\n",
      "mean_squared_error: 387.19907404077424\n",
      "rmse: 19.67737467348666\n",
      "r2 score: 0.9366172654023747\n",
      "MRE: 10.202945504931234\n",
      "MAPE: 10.20294576883316\n"
     ]
    }
   ],
   "source": [
    "demand_dataframe_2 = demand_dataframe.dropna(subset=['prediction_2'])\n",
    "mean_rel_error = demand_dataframe_2.apply(lambda demand_dataframe_2: rel_error(demand_dataframe_2['demand_quarter'],demand_dataframe_2['prediction_2']), axis=1).sum()/demand_dataframe_2['prediction_2'].count()\n",
    "print(\"mean_absolute_error:\",mean_absolute_error(demand_dataframe_2['demand_quarter'],demand_dataframe_2['prediction_2']))\n",
    "print(\"mean_squared_error:\",mean_squared_error(demand_dataframe_2['demand_quarter'],demand_dataframe_2['prediction_2']))\n",
    "print(\"rmse:\",sqrt(mean_squared_error(demand_dataframe_2['demand_quarter'],demand_dataframe_2['prediction_2'])))\n",
    "print(\"r2 score:\",r2_score(demand_dataframe_2['demand_quarter'],demand_dataframe_2['prediction_2']))\n",
    "print(\"MRE:\",mean_rel_error*100)\n",
    "print(\"MAPE:\",mape(demand_dataframe_2['demand_quarter'],demand_dataframe_2['prediction_2']))"
   ]
  },
  {
   "cell_type": "markdown",
   "id": "bbd24f71",
   "metadata": {},
   "source": [
    "predict_3\n",
    "-------------"
   ]
  },
  {
   "cell_type": "code",
   "execution_count": 19,
   "id": "76e439da",
   "metadata": {},
   "outputs": [
    {
     "name": "stdout",
     "output_type": "stream",
     "text": [
      "mean_absolute_error: 11.894026572745755\n",
      "mean_squared_error: 286.7628974229018\n",
      "rmse: 16.934075038894264\n",
      "r2 score: 0.9530560025040588\n",
      "MRE: 8.864461860158784\n",
      "MAPE: 8.86446163058281\n"
     ]
    }
   ],
   "source": [
    "demand_dataframe_3 = demand_dataframe.dropna(subset=['prediction_3'])\n",
    "mean_rel_error = demand_dataframe_3.apply(lambda demand_dataframe_3: rel_error(demand_dataframe_3['demand_quarter'],demand_dataframe_3['prediction_3']), axis=1).sum()/demand_dataframe_3['prediction_3'].count()\n",
    "print(\"mean_absolute_error:\",mean_absolute_error(demand_dataframe_3['demand_quarter'],demand_dataframe_3['prediction_3']))\n",
    "print(\"mean_squared_error:\",mean_squared_error(demand_dataframe_3['demand_quarter'],demand_dataframe_3['prediction_3']))\n",
    "print(\"rmse:\",sqrt(mean_squared_error(demand_dataframe_3['demand_quarter'],demand_dataframe_3['prediction_3'])))\n",
    "print(\"r2 score:\",r2_score(demand_dataframe_3['demand_quarter'],demand_dataframe_3['prediction_3']))\n",
    "print(\"MRE:\",mean_rel_error*100)\n",
    "print(\"MAPE:\",mape(demand_dataframe_3['demand_quarter'],demand_dataframe_3['prediction_3']))"
   ]
  },
  {
   "cell_type": "markdown",
   "id": "be5d1a34",
   "metadata": {},
   "source": [
    "predict_4\n",
    "-------------"
   ]
  },
  {
   "cell_type": "code",
   "execution_count": 20,
   "id": "d2f575c0",
   "metadata": {},
   "outputs": [
    {
     "name": "stdout",
     "output_type": "stream",
     "text": [
      "mean_absolute_error: 9.202364698470877\n",
      "mean_squared_error: 167.4201184410973\n",
      "rmse: 12.9390926436554\n",
      "r2 score: 0.97259164523458\n",
      "MRE: 6.909778964090846\n",
      "MAPE: 6.909778714179993\n"
     ]
    }
   ],
   "source": [
    "demand_dataframe_4 = demand_dataframe.dropna(subset=['prediction_4'])\n",
    "mean_rel_error = demand_dataframe_4.apply(lambda demand_dataframe_4: rel_error(demand_dataframe_4['demand_quarter'],demand_dataframe_4['prediction_4']), axis=1).sum()/demand_dataframe_4['prediction_4'].count()\n",
    "print(\"mean_absolute_error:\",mean_absolute_error(demand_dataframe_4['demand_quarter'],demand_dataframe_4['prediction_4']))\n",
    "print(\"mean_squared_error:\",mean_squared_error(demand_dataframe_4['demand_quarter'],demand_dataframe_4['prediction_4']))\n",
    "print(\"rmse:\",sqrt(mean_squared_error(demand_dataframe_4['demand_quarter'],demand_dataframe_4['prediction_4'])))\n",
    "print(\"r2 score:\",r2_score(demand_dataframe_4['demand_quarter'],demand_dataframe_4['prediction_4']))\n",
    "print(\"MRE:\",mean_rel_error*100)\n",
    "print(\"MAPE:\",mape(demand_dataframe_4['demand_quarter'],demand_dataframe_4['prediction_4']))"
   ]
  },
  {
   "cell_type": "markdown",
   "id": "476ff610",
   "metadata": {},
   "source": [
    "vanilla_demand_predict_self_attention_192t\n",
    "========="
   ]
  },
  {
   "cell_type": "code",
   "execution_count": 31,
   "id": "79d53c48",
   "metadata": {},
   "outputs": [
    {
     "name": "stdout",
     "output_type": "stream",
     "text": [
      "(2003, \"Can't connect to MySQL server on 'localhost' ([WinError 10061] 無法連線，因為目標電腦拒絕連線。)\")\n"
     ]
    }
   ],
   "source": [
    "# 撈取需量資料 [B]\n",
    "try: \n",
    "    conn  =  pymysql.connect ( host = ' ' ,  user = ' ' ,  passwd = \" \" ,  db = ' ' ) \n",
    "    cur  =  conn.cursor() \n",
    "    select_sql = '''SELECT `dp`.`prediction_1`, `dp`.`prediction_2`, `dp`.`prediction_3`, `dp`.`prediction_4`, `dwwd`.`demand_quarter`, `dp`.`created_at`, `dwwd`.`data_hour`, `dwwd`.`data_weekday` \n",
    "                    FROM  `vanilla_demand_predict_self_attention_192t` AS `dp`\n",
    "                    INNER JOIN `demand_with_weather_data` AS `dwwd` ON(`dp`.`created_at` = `dwwd`.`datetime`)\n",
    "                    WHERE `dwwd`.`data_date` >='{}' AND `dwwd`.`data_date` <='{}' \n",
    "                    ORDER BY `dp`.`created_at` '''.format(predict_begin_date, predict_end_date)\n",
    "    result_object = cur.execute(select_sql)\n",
    "    results_values_list = cur.fetchall()\n",
    "    result_key_list = [i[0] for i in cur.description]\n",
    "    \n",
    "    demand_dataframe = pd.DataFrame(results_values_list)\n",
    "    demand_dataframe.columns = result_key_list\n",
    "    cur.close () \n",
    "    conn.close()\n",
    "except Exception as e:\n",
    "    print(e)\n",
    "# 撈取需量資料 [E]"
   ]
  },
  {
   "cell_type": "markdown",
   "id": "6b20f3c5",
   "metadata": {},
   "source": [
    "predict_1\n",
    "-------------"
   ]
  },
  {
   "cell_type": "code",
   "execution_count": 32,
   "id": "280beacd",
   "metadata": {},
   "outputs": [
    {
     "name": "stdout",
     "output_type": "stream",
     "text": [
      "mean_absolute_error: 15.290934001431639\n",
      "mean_squared_error: 466.80508045526125\n",
      "rmse: 21.605672413865328\n",
      "r2 score: 0.9235889123823305\n",
      "MRE: 11.110780945293262\n",
      "MAPE: 11.110781133174896\n"
     ]
    }
   ],
   "source": [
    "demand_dataframe_1 = demand_dataframe.dropna(subset=['prediction_1'])\n",
    "mean_rel_error = demand_dataframe_1.apply(lambda demand_dataframe_1: rel_error(demand_dataframe_1['demand_quarter'],demand_dataframe_1['prediction_1']), axis=1).sum()/demand_dataframe_1['prediction_1'].count()\n",
    "print(\"mean_absolute_error:\",mean_absolute_error(demand_dataframe_1['demand_quarter'],demand_dataframe_1['prediction_1']))\n",
    "print(\"mean_squared_error:\",mean_squared_error(demand_dataframe_1['demand_quarter'],demand_dataframe_1['prediction_1']))\n",
    "print(\"rmse:\",sqrt(mean_squared_error(demand_dataframe_1['demand_quarter'],demand_dataframe_1['prediction_1'])))\n",
    "print(\"r2 score:\",r2_score(demand_dataframe_1['demand_quarter'],demand_dataframe_1['prediction_1']))\n",
    "print(\"MRE:\",mean_rel_error*100)\n",
    "print(\"MAPE:\",mape(demand_dataframe_1['demand_quarter'],demand_dataframe_1['prediction_1']))"
   ]
  },
  {
   "cell_type": "markdown",
   "id": "76619e39",
   "metadata": {},
   "source": [
    "predict_2\n",
    "-------------"
   ]
  },
  {
   "cell_type": "code",
   "execution_count": 33,
   "id": "0d6ecfd8",
   "metadata": {},
   "outputs": [
    {
     "name": "stdout",
     "output_type": "stream",
     "text": [
      "mean_absolute_error: 13.830771961974571\n",
      "mean_squared_error: 387.19907404077424\n",
      "rmse: 19.67737467348666\n",
      "r2 score: 0.9366172654023747\n",
      "MRE: 10.202945504931234\n",
      "MAPE: 10.20294576883316\n"
     ]
    }
   ],
   "source": [
    "demand_dataframe_2 = demand_dataframe.dropna(subset=['prediction_2'])\n",
    "mean_rel_error = demand_dataframe_2.apply(lambda demand_dataframe_2: rel_error(demand_dataframe_2['demand_quarter'],demand_dataframe_2['prediction_2']), axis=1).sum()/demand_dataframe_2['prediction_2'].count()\n",
    "print(\"mean_absolute_error:\",mean_absolute_error(demand_dataframe_2['demand_quarter'],demand_dataframe_2['prediction_2']))\n",
    "print(\"mean_squared_error:\",mean_squared_error(demand_dataframe_2['demand_quarter'],demand_dataframe_2['prediction_2']))\n",
    "print(\"rmse:\",sqrt(mean_squared_error(demand_dataframe_2['demand_quarter'],demand_dataframe_2['prediction_2'])))\n",
    "print(\"r2 score:\",r2_score(demand_dataframe_2['demand_quarter'],demand_dataframe_2['prediction_2']))\n",
    "print(\"MRE:\",mean_rel_error*100)\n",
    "print(\"MAPE:\",mape(demand_dataframe_2['demand_quarter'],demand_dataframe_2['prediction_2']))"
   ]
  },
  {
   "cell_type": "markdown",
   "id": "ade02457",
   "metadata": {},
   "source": [
    "predict_3\n",
    "-------------"
   ]
  },
  {
   "cell_type": "code",
   "execution_count": 34,
   "id": "dfa7d1c7",
   "metadata": {},
   "outputs": [
    {
     "name": "stdout",
     "output_type": "stream",
     "text": [
      "mean_absolute_error: 11.894026572745755\n",
      "mean_squared_error: 286.7628974229018\n",
      "rmse: 16.934075038894264\n",
      "r2 score: 0.9530560025040588\n",
      "MRE: 8.864461860158784\n",
      "MAPE: 8.86446163058281\n"
     ]
    }
   ],
   "source": [
    "demand_dataframe_3 = demand_dataframe.dropna(subset=['prediction_3'])\n",
    "mean_rel_error = demand_dataframe_3.apply(lambda demand_dataframe_3: rel_error(demand_dataframe_3['demand_quarter'],demand_dataframe_3['prediction_3']), axis=1).sum()/demand_dataframe_3['prediction_3'].count()\n",
    "print(\"mean_absolute_error:\",mean_absolute_error(demand_dataframe_3['demand_quarter'],demand_dataframe_3['prediction_3']))\n",
    "print(\"mean_squared_error:\",mean_squared_error(demand_dataframe_3['demand_quarter'],demand_dataframe_3['prediction_3']))\n",
    "print(\"rmse:\",sqrt(mean_squared_error(demand_dataframe_3['demand_quarter'],demand_dataframe_3['prediction_3'])))\n",
    "print(\"r2 score:\",r2_score(demand_dataframe_3['demand_quarter'],demand_dataframe_3['prediction_3']))\n",
    "print(\"MRE:\",mean_rel_error*100)\n",
    "print(\"MAPE:\",mape(demand_dataframe_3['demand_quarter'],demand_dataframe_3['prediction_3']))"
   ]
  },
  {
   "cell_type": "markdown",
   "id": "5b08ca01",
   "metadata": {},
   "source": [
    "predict_4\n",
    "-------------"
   ]
  },
  {
   "cell_type": "code",
   "execution_count": 35,
   "id": "2df09255",
   "metadata": {},
   "outputs": [
    {
     "name": "stdout",
     "output_type": "stream",
     "text": [
      "mean_absolute_error: 9.202364698470877\n",
      "mean_squared_error: 167.4201184410973\n",
      "rmse: 12.9390926436554\n",
      "r2 score: 0.97259164523458\n",
      "MRE: 6.909778964090846\n",
      "MAPE: 6.909778714179993\n"
     ]
    }
   ],
   "source": [
    "demand_dataframe_4 = demand_dataframe.dropna(subset=['prediction_4'])\n",
    "mean_rel_error = demand_dataframe_4.apply(lambda demand_dataframe_4: rel_error(demand_dataframe_4['demand_quarter'],demand_dataframe_4['prediction_4']), axis=1).sum()/demand_dataframe_4['prediction_4'].count()\n",
    "print(\"mean_absolute_error:\",mean_absolute_error(demand_dataframe_4['demand_quarter'],demand_dataframe_4['prediction_4']))\n",
    "print(\"mean_squared_error:\",mean_squared_error(demand_dataframe_4['demand_quarter'],demand_dataframe_4['prediction_4']))\n",
    "print(\"rmse:\",sqrt(mean_squared_error(demand_dataframe_4['demand_quarter'],demand_dataframe_4['prediction_4'])))\n",
    "print(\"r2 score:\",r2_score(demand_dataframe_4['demand_quarter'],demand_dataframe_4['prediction_4']))\n",
    "print(\"MRE:\",mean_rel_error*100)\n",
    "print(\"MAPE:\",mape(demand_dataframe_4['demand_quarter'],demand_dataframe_4['prediction_4']))"
   ]
  },
  {
   "cell_type": "code",
   "execution_count": null,
   "id": "ecc3c7aa",
   "metadata": {},
   "outputs": [],
   "source": []
  },
  {
   "cell_type": "code",
   "execution_count": null,
   "id": "16d6861b",
   "metadata": {},
   "outputs": [],
   "source": []
  },
  {
   "cell_type": "code",
   "execution_count": null,
   "id": "e6fca248",
   "metadata": {},
   "outputs": [],
   "source": []
  },
  {
   "cell_type": "code",
   "execution_count": null,
   "id": "f741b3dc",
   "metadata": {},
   "outputs": [],
   "source": []
  },
  {
   "cell_type": "markdown",
   "id": "5251f259",
   "metadata": {},
   "source": [
    "平日假日各24小時誤差\n",
    "========="
   ]
  },
  {
   "cell_type": "code",
   "execution_count": 18,
   "id": "f8588ffb",
   "metadata": {},
   "outputs": [],
   "source": [
    "demand_dataframe_5 = demand_dataframe.dropna(subset=['prediction_4'])\n",
    "demand_dataframe_5_weekday =  demand_dataframe_5[demand_dataframe_5['data_weekday'].isin([1, 2, 3, 4, 5])]\n",
    "demand_dataframe_5_holiday =  demand_dataframe_5[demand_dataframe_5['data_weekday'].isin([6, 7])]"
   ]
  },
  {
   "cell_type": "code",
   "execution_count": 19,
   "id": "0c07c35a",
   "metadata": {},
   "outputs": [],
   "source": [
    "mean_rel_error_weekday = demand_dataframe_5_weekday.apply(lambda demand_dataframe_5_weekday: rel_error(demand_dataframe_5_weekday['demand_quarter'],demand_dataframe_5_weekday['prediction_4']), axis=1).sum()/demand_dataframe_5_weekday['prediction_4'].count()"
   ]
  },
  {
   "cell_type": "code",
   "execution_count": 20,
   "id": "66692074",
   "metadata": {},
   "outputs": [],
   "source": [
    "mean_rel_error_holiday = demand_dataframe_5_holiday.apply(lambda demand_dataframe_5_holiday: rel_error(demand_dataframe_5_holiday['demand_quarter'],demand_dataframe_5_holiday['prediction_4']), axis=1).sum()/demand_dataframe_5_holiday['prediction_4'].count()"
   ]
  },
  {
   "cell_type": "code",
   "execution_count": 21,
   "id": "762506c1",
   "metadata": {},
   "outputs": [
    {
     "data": {
      "text/plain": [
       "(0.10826997558141713, 0.17302929238209513)"
      ]
     },
     "execution_count": 21,
     "metadata": {},
     "output_type": "execute_result"
    }
   ],
   "source": [
    "mean_rel_error_weekday, mean_rel_error_holiday"
   ]
  },
  {
   "cell_type": "code",
   "execution_count": 73,
   "id": "aac9b97a",
   "metadata": {},
   "outputs": [],
   "source": [
    "weekday_error = positive_negative_error(demand_dataframe_5_weekday['demand_quarter'].astype('float32'),demand_dataframe_5_weekday['prediction_4'].astype('float32'), demand_dataframe_5_weekday)\n",
    "holiday_error = positive_negative_error(demand_dataframe_5_holiday['demand_quarter'].astype('float32'),demand_dataframe_5_holiday['prediction_4'].astype('float32'), demand_dataframe_5_holiday)\n"
   ]
  },
  {
   "cell_type": "code",
   "execution_count": 74,
   "id": "168bda24",
   "metadata": {},
   "outputs": [],
   "source": [
    "pd.DataFrame(data=weekday_error).to_csv('C:/Users/KDD_179/erica/training-result/平日每小時誤差-4.csv', index=False)\n",
    "pd.DataFrame(data=holiday_error).to_csv('C:/Users/KDD_179/erica/training-result/假日每小時誤差-4.csv', index=False)"
   ]
  },
  {
   "cell_type": "markdown",
   "id": "b181cf5a",
   "metadata": {},
   "source": [
    "平日\n",
    "-------------"
   ]
  },
  {
   "cell_type": "code",
   "execution_count": 80,
   "id": "dfb5fd03",
   "metadata": {},
   "outputs": [
    {
     "name": "stdout",
     "output_type": "stream",
     "text": [
      "mean_absolute_error: 25.989800995024876\n",
      "mean_squared_error: 1331.482372437811\n",
      "rmse: 36.48948303878545\n",
      "r2 score: 0.8281586117325962\n",
      "MRE: 10.826997558141713\n",
      "MAPE: 10.826997458934784\n"
     ]
    }
   ],
   "source": [
    "mean_rel_error = demand_dataframe_5_weekday.apply(lambda demand_dataframe_5_weekday: rel_error(demand_dataframe_5_weekday['demand_quarter'],demand_dataframe_5_weekday['prediction_4']), axis=1).sum()/demand_dataframe_5_weekday['prediction_4'].count()\n",
    "print(\"mean_absolute_error:\",mean_absolute_error(demand_dataframe_5_weekday['demand_quarter'],demand_dataframe_5_weekday['prediction_4']))\n",
    "print(\"mean_squared_error:\",mean_squared_error(demand_dataframe_5_weekday['demand_quarter'],demand_dataframe_5_weekday['prediction_4']))\n",
    "print(\"rmse:\",sqrt(mean_squared_error(demand_dataframe_5_weekday['demand_quarter'],demand_dataframe_5_weekday['prediction_4'])))\n",
    "print(\"r2 score:\",r2_score(demand_dataframe_5_weekday['demand_quarter'],demand_dataframe_5_weekday['prediction_4']))\n",
    "print(\"MRE:\",mean_rel_error*100)\n",
    "print(\"MAPE:\",mape(demand_dataframe_5_weekday['demand_quarter'],demand_dataframe_5_weekday['prediction_4']))"
   ]
  },
  {
   "cell_type": "markdown",
   "id": "d7e7b188",
   "metadata": {},
   "source": [
    "假日\n",
    "-------------"
   ]
  },
  {
   "cell_type": "code",
   "execution_count": 81,
   "id": "e000042a",
   "metadata": {},
   "outputs": [
    {
     "name": "stdout",
     "output_type": "stream",
     "text": [
      "mean_absolute_error: 34.74646875\n",
      "mean_squared_error: 2742.0548634375\n",
      "rmse: 52.36463370861578\n",
      "r2 score: -0.06890699392496513\n",
      "MRE: 17.302929238209515\n",
      "MAPE: 17.302928864955902\n"
     ]
    }
   ],
   "source": [
    "mean_rel_error = demand_dataframe_5_holiday.apply(lambda demand_dataframe_5_holiday: rel_error(demand_dataframe_5_holiday['demand_quarter'],demand_dataframe_5_holiday['prediction_4']), axis=1).sum()/demand_dataframe_5_holiday['prediction_4'].count()\n",
    "print(\"mean_absolute_error:\",mean_absolute_error(demand_dataframe_5_holiday['demand_quarter'],demand_dataframe_5_holiday['prediction_4']))\n",
    "print(\"mean_squared_error:\",mean_squared_error(demand_dataframe_5_holiday['demand_quarter'],demand_dataframe_5_holiday['prediction_4']))\n",
    "print(\"rmse:\",sqrt(mean_squared_error(demand_dataframe_5_holiday['demand_quarter'],demand_dataframe_5_holiday['prediction_4'])))\n",
    "print(\"r2 score:\",r2_score(demand_dataframe_5_holiday['demand_quarter'],demand_dataframe_5_holiday['prediction_4']))\n",
    "print(\"MRE:\",mean_rel_error*100)\n",
    "print(\"MAPE:\",mape(demand_dataframe_5_holiday['demand_quarter'],demand_dataframe_5_holiday['prediction_4']))"
   ]
  },
  {
   "cell_type": "markdown",
   "id": "90547be7",
   "metadata": {},
   "source": [
    "----------------"
   ]
  },
  {
   "cell_type": "code",
   "execution_count": 31,
   "id": "3dfcf34d",
   "metadata": {
    "scrolled": true
   },
   "outputs": [
    {
     "data": {
      "text/html": [
       "<div>\n",
       "<style scoped>\n",
       "    .dataframe tbody tr th:only-of-type {\n",
       "        vertical-align: middle;\n",
       "    }\n",
       "\n",
       "    .dataframe tbody tr th {\n",
       "        vertical-align: top;\n",
       "    }\n",
       "\n",
       "    .dataframe thead th {\n",
       "        text-align: right;\n",
       "    }\n",
       "</style>\n",
       "<table border=\"1\" class=\"dataframe\">\n",
       "  <thead>\n",
       "    <tr style=\"text-align: right;\">\n",
       "      <th></th>\n",
       "      <th>prediction_1</th>\n",
       "      <th>prediction_2</th>\n",
       "      <th>prediction_3</th>\n",
       "      <th>prediction_4</th>\n",
       "      <th>demand_quarter</th>\n",
       "      <th>created_at</th>\n",
       "      <th>data_hour</th>\n",
       "    </tr>\n",
       "  </thead>\n",
       "  <tbody>\n",
       "    <tr>\n",
       "      <th>0</th>\n",
       "      <td>144.80</td>\n",
       "      <td>145.50</td>\n",
       "      <td>145.25</td>\n",
       "      <td>145.25</td>\n",
       "      <td>156.8</td>\n",
       "      <td>2021-05-01 00:00:00</td>\n",
       "      <td>0</td>\n",
       "    </tr>\n",
       "    <tr>\n",
       "      <th>1</th>\n",
       "      <td>143.37</td>\n",
       "      <td>143.12</td>\n",
       "      <td>143.12</td>\n",
       "      <td>146.12</td>\n",
       "      <td>145.2</td>\n",
       "      <td>2021-05-01 00:15:00</td>\n",
       "      <td>0</td>\n",
       "    </tr>\n",
       "    <tr>\n",
       "      <th>2</th>\n",
       "      <td>141.06</td>\n",
       "      <td>141.07</td>\n",
       "      <td>143.39</td>\n",
       "      <td>143.71</td>\n",
       "      <td>157.2</td>\n",
       "      <td>2021-05-01 00:30:00</td>\n",
       "      <td>0</td>\n",
       "    </tr>\n",
       "    <tr>\n",
       "      <th>3</th>\n",
       "      <td>139.09</td>\n",
       "      <td>140.78</td>\n",
       "      <td>141.11</td>\n",
       "      <td>140.77</td>\n",
       "      <td>137.2</td>\n",
       "      <td>2021-05-01 00:45:00</td>\n",
       "      <td>0</td>\n",
       "    </tr>\n",
       "    <tr>\n",
       "      <th>4</th>\n",
       "      <td>137.49</td>\n",
       "      <td>137.79</td>\n",
       "      <td>137.43</td>\n",
       "      <td>138.05</td>\n",
       "      <td>130.4</td>\n",
       "      <td>2021-05-01 01:00:00</td>\n",
       "      <td>1</td>\n",
       "    </tr>\n",
       "    <tr>\n",
       "      <th>...</th>\n",
       "      <td>...</td>\n",
       "      <td>...</td>\n",
       "      <td>...</td>\n",
       "      <td>...</td>\n",
       "      <td>...</td>\n",
       "      <td>...</td>\n",
       "      <td>...</td>\n",
       "    </tr>\n",
       "    <tr>\n",
       "      <th>2965</th>\n",
       "      <td>212.15</td>\n",
       "      <td>211.15</td>\n",
       "      <td>207.32</td>\n",
       "      <td>208.21</td>\n",
       "      <td>203.6</td>\n",
       "      <td>2021-05-31 23:00:00</td>\n",
       "      <td>23</td>\n",
       "    </tr>\n",
       "    <tr>\n",
       "      <th>2966</th>\n",
       "      <td>205.84</td>\n",
       "      <td>201.78</td>\n",
       "      <td>202.80</td>\n",
       "      <td>209.49</td>\n",
       "      <td>195.2</td>\n",
       "      <td>2021-05-31 23:15:00</td>\n",
       "      <td>23</td>\n",
       "    </tr>\n",
       "    <tr>\n",
       "      <th>2967</th>\n",
       "      <td>197.37</td>\n",
       "      <td>198.50</td>\n",
       "      <td>205.08</td>\n",
       "      <td>203.76</td>\n",
       "      <td>195.2</td>\n",
       "      <td>2021-05-31 23:30:00</td>\n",
       "      <td>23</td>\n",
       "    </tr>\n",
       "    <tr>\n",
       "      <th>2968</th>\n",
       "      <td>195.36</td>\n",
       "      <td>201.55</td>\n",
       "      <td>200.35</td>\n",
       "      <td>198.75</td>\n",
       "      <td>196.0</td>\n",
       "      <td>2021-05-31 23:45:00</td>\n",
       "      <td>23</td>\n",
       "    </tr>\n",
       "    <tr>\n",
       "      <th>2969</th>\n",
       "      <td>192.27</td>\n",
       "      <td>190.72</td>\n",
       "      <td>190.91</td>\n",
       "      <td>191.91</td>\n",
       "      <td>184.0</td>\n",
       "      <td>2021-06-01 00:00:00</td>\n",
       "      <td>0</td>\n",
       "    </tr>\n",
       "  </tbody>\n",
       "</table>\n",
       "<p>2970 rows × 7 columns</p>\n",
       "</div>"
      ],
      "text/plain": [
       "     prediction_1 prediction_2 prediction_3 prediction_4  demand_quarter  \\\n",
       "0          144.80       145.50       145.25       145.25           156.8   \n",
       "1          143.37       143.12       143.12       146.12           145.2   \n",
       "2          141.06       141.07       143.39       143.71           157.2   \n",
       "3          139.09       140.78       141.11       140.77           137.2   \n",
       "4          137.49       137.79       137.43       138.05           130.4   \n",
       "...           ...          ...          ...          ...             ...   \n",
       "2965       212.15       211.15       207.32       208.21           203.6   \n",
       "2966       205.84       201.78       202.80       209.49           195.2   \n",
       "2967       197.37       198.50       205.08       203.76           195.2   \n",
       "2968       195.36       201.55       200.35       198.75           196.0   \n",
       "2969       192.27       190.72       190.91       191.91           184.0   \n",
       "\n",
       "              created_at  data_hour  \n",
       "0    2021-05-01 00:00:00          0  \n",
       "1    2021-05-01 00:15:00          0  \n",
       "2    2021-05-01 00:30:00          0  \n",
       "3    2021-05-01 00:45:00          0  \n",
       "4    2021-05-01 01:00:00          1  \n",
       "...                  ...        ...  \n",
       "2965 2021-05-31 23:00:00         23  \n",
       "2966 2021-05-31 23:15:00         23  \n",
       "2967 2021-05-31 23:30:00         23  \n",
       "2968 2021-05-31 23:45:00         23  \n",
       "2969 2021-06-01 00:00:00          0  \n",
       "\n",
       "[2970 rows x 7 columns]"
      ]
     },
     "execution_count": 31,
     "metadata": {},
     "output_type": "execute_result"
    }
   ],
   "source": [
    "demand_dataframe_4"
   ]
  },
  {
   "cell_type": "code",
   "execution_count": null,
   "id": "0a9b913f",
   "metadata": {},
   "outputs": [],
   "source": [
    "c = positive_negative_error(demand_dataframe_4['demand_quarter'].astype('float32'),demand_dataframe_4['prediction_4'].astype('float32'), demand_dataframe_4)"
   ]
  },
  {
   "cell_type": "code",
   "execution_count": 32,
   "id": "7fdce6bd",
   "metadata": {
    "scrolled": true
   },
   "outputs": [
    {
     "ename": "TypeError",
     "evalue": "demand_avg() missing 1 required positional argument: 'dataframe'",
     "output_type": "error",
     "traceback": [
      "\u001b[1;31m---------------------------------------------------------------------------\u001b[0m",
      "\u001b[1;31mTypeError\u001b[0m                                 Traceback (most recent call last)",
      "\u001b[1;32m~\\AppData\\Local\\Temp/ipykernel_24104/3287107116.py\u001b[0m in \u001b[0;36m<module>\u001b[1;34m\u001b[0m\n\u001b[1;32m----> 1\u001b[1;33m \u001b[0mdemand_avg\u001b[0m \u001b[1;33m=\u001b[0m \u001b[0mdemand_avg\u001b[0m\u001b[1;33m(\u001b[0m\u001b[0mdemand_dataframe_4\u001b[0m\u001b[1;33m[\u001b[0m\u001b[1;34m'demand_quarter'\u001b[0m\u001b[1;33m]\u001b[0m\u001b[1;33m.\u001b[0m\u001b[0mastype\u001b[0m\u001b[1;33m(\u001b[0m\u001b[1;34m'float32'\u001b[0m\u001b[1;33m)\u001b[0m\u001b[1;33m,\u001b[0m \u001b[0mdemand_dataframe_4\u001b[0m\u001b[1;33m)\u001b[0m\u001b[1;33m\u001b[0m\u001b[1;33m\u001b[0m\u001b[0m\n\u001b[0m",
      "\u001b[1;31mTypeError\u001b[0m: demand_avg() missing 1 required positional argument: 'dataframe'"
     ]
    }
   ],
   "source": [
    "demand_avg = demand_avg(demand_dataframe_4['demand_quarter'].astype('float32'), demand_dataframe_4)"
   ]
  },
  {
   "cell_type": "code",
   "execution_count": 178,
   "id": "5822f976",
   "metadata": {},
   "outputs": [],
   "source": [
    "pd.DataFrame(data=demand_avg).to_csv('demand-avg.csv', index=False)"
   ]
  },
  {
   "cell_type": "code",
   "execution_count": 196,
   "id": "e726eb0e",
   "metadata": {},
   "outputs": [],
   "source": [
    "a, b = positive_negative_error(demand_dataframe_4['demand_quarter'].astype('float32'),demand_dataframe_4['prediction_4'].astype('float32'), demand_dataframe_4)"
   ]
  },
  {
   "cell_type": "code",
   "execution_count": 206,
   "id": "bf5d5b62",
   "metadata": {
    "scrolled": false
   },
   "outputs": [],
   "source": [
    "pd.DataFrame(data=a).to_csv('positive-error-relative-rate-2.csv', index=False)"
   ]
  },
  {
   "cell_type": "code",
   "execution_count": 207,
   "id": "9de0c95c",
   "metadata": {},
   "outputs": [],
   "source": [
    "pd.DataFrame(data=b).to_csv('negative-error-relative-rate-2.csv', index=False)"
   ]
  },
  {
   "cell_type": "code",
   "execution_count": 233,
   "id": "e9220b0d",
   "metadata": {},
   "outputs": [],
   "source": [
    "a = positive_negative_error_weekday(demand_dataframe_4['demand_quarter'].astype('float32'),demand_dataframe_4['prediction_4'].astype('float32'), demand_dataframe_4)"
   ]
  },
  {
   "cell_type": "code",
   "execution_count": 236,
   "id": "0b843d86",
   "metadata": {},
   "outputs": [],
   "source": [
    "a, b = positive_negative_error(demand_dataframe_4['demand_quarter'].astype('float32'),demand_dataframe_4['prediction_4'].astype('float32'), demand_dataframe_4)"
   ]
  },
  {
   "cell_type": "code",
   "execution_count": 237,
   "id": "6a10f793",
   "metadata": {},
   "outputs": [],
   "source": [
    "pd.DataFrame(data=a).to_csv('WEEKDAY-positive-error-relative-rate-2.csv', index=False)"
   ]
  },
  {
   "cell_type": "code",
   "execution_count": 238,
   "id": "04157e49",
   "metadata": {},
   "outputs": [],
   "source": [
    "pd.DataFrame(data=b).to_csv('WEEKDAY-negative-error-relative-rate-2.csv', index=False)"
   ]
  },
  {
   "cell_type": "code",
   "execution_count": 314,
   "id": "8df29b76",
   "metadata": {},
   "outputs": [],
   "source": [
    "c = positive_negative_error(demand_dataframe_4['demand_quarter'].astype('float32'),demand_dataframe_4['prediction_4'].astype('float32'), demand_dataframe_4)"
   ]
  },
  {
   "cell_type": "code",
   "execution_count": 315,
   "id": "01275b4c",
   "metadata": {},
   "outputs": [],
   "source": [
    "pd.DataFrame(data=c).to_csv('畢業典禮24小時誤差-4.csv', index=False)"
   ]
  },
  {
   "cell_type": "markdown",
   "id": "3a82a980",
   "metadata": {},
   "source": [
    "linear_regression_predict\n",
    "=========="
   ]
  },
  {
   "cell_type": "code",
   "execution_count": 38,
   "id": "49373cad",
   "metadata": {},
   "outputs": [],
   "source": [
    "# 撈取需量資料 [B]\n",
    "try: \n",
    "    conn  =  pymysql.connect ( host = ' ' ,  user = ' ' ,  passwd = \" \" ,  db = ' ' ) \n",
    "    cur  =  conn.cursor() \n",
    "    select_sql = '''SELECT `dp`.`prediction_1`, `dp`.`prediction_2`, `dp`.`prediction_3`, `dp`.`prediction_4`, `dwwd`.`demand_quarter`, `dp`.`created_at` \n",
    "                    FROM  `linear_regression_predict` AS `dp`\n",
    "                    INNER JOIN `demand_with_weather_data` AS `dwwd` ON(`dp`.`created_at` = `dwwd`.`datetime`)\n",
    "                    WHERE `dwwd`.`datetime` >= '{}' AND `dwwd`.`datetime` <= '{}'\n",
    "                    ORDER BY `dp`.`created_at` '''.format(predict_begin_date, predict_end_date)\n",
    "    result_object = cur.execute(select_sql)\n",
    "    results_values_list = cur.fetchall()\n",
    "    result_key_list = [i[0] for i in cur.description]\n",
    "    \n",
    "    demand_dataframe = pd.DataFrame(results_values_list)\n",
    "    demand_dataframe.columns = result_key_list\n",
    "    cur.close () \n",
    "    conn.close()\n",
    "except Exception as e:\n",
    "    print(e)\n",
    "# 撈取需量資料 [E]"
   ]
  },
  {
   "cell_type": "code",
   "execution_count": 39,
   "id": "f3a72afe",
   "metadata": {},
   "outputs": [
    {
     "name": "stdout",
     "output_type": "stream",
     "text": [
      "mean_absolute_error: 45.42954219337206\n",
      "mean_squared_error: 3391.2735227195085\n",
      "rmse: 58.23464194720792\n",
      "r2 score: 0.6018725393989584\n",
      "MRE: 22.22743427258885\n",
      "MAPE: 22.227434813976288\n"
     ]
    }
   ],
   "source": [
    "demand_dataframe_4 = demand_dataframe.dropna(subset=['prediction_4'])\n",
    "mean_rel_error = demand_dataframe_4.apply(lambda demand_dataframe_4: rel_error(demand_dataframe_4['demand_quarter'],demand_dataframe_4['prediction_4']), axis=1).sum()/demand_dataframe_4['prediction_4'].count()\n",
    "print(\"mean_absolute_error:\",mean_absolute_error(demand_dataframe_4['demand_quarter'],demand_dataframe_4['prediction_4']))\n",
    "print(\"mean_squared_error:\",mean_squared_error(demand_dataframe_4['demand_quarter'],demand_dataframe_4['prediction_4']))\n",
    "print(\"rmse:\",sqrt(mean_squared_error(demand_dataframe_4['demand_quarter'],demand_dataframe_4['prediction_4'])))\n",
    "print(\"r2 score:\",r2_score(demand_dataframe_4['demand_quarter'],demand_dataframe_4['prediction_4']))\n",
    "print(\"MRE:\",mean_rel_error*100)\n",
    "print(\"MAPE:\",mape(demand_dataframe_4['demand_quarter'],demand_dataframe_4['prediction_4']))"
   ]
  },
  {
   "cell_type": "markdown",
   "id": "44ee3b09",
   "metadata": {},
   "source": [
    "---------------"
   ]
  },
  {
   "cell_type": "markdown",
   "id": "780d8baa",
   "metadata": {},
   "source": [
    "bidirectional_demand_predict\n",
    "==========\n"
   ]
  },
  {
   "cell_type": "code",
   "execution_count": 10,
   "id": "c9eaf206",
   "metadata": {},
   "outputs": [],
   "source": [
    "# 撈取需量資料 [B]\n",
    "try: \n",
    "    conn  =  pymysql.connect ( host = ' ' ,  user = ' ' ,  passwd = \" \" ,  db = ' ' ) \n",
    "    cur  =  conn.cursor() \n",
    "    select_sql = '''SELECT `dp`.`prediction_1`, `dp`.`prediction_2`, `dp`.`prediction_3`, `dp`.`prediction_4`, `dwwd`.`demand_quarter`, `dp`.`created_at` \n",
    "                    FROM  `bidirectional_demand_predict` AS `dp`\n",
    "                    INNER JOIN `demand_with_weather_data` AS `dwwd` ON(`dp`.`created_at` = `dwwd`.`datetime`)\n",
    "                    WHERE `dwwd`.`datetime` >= '{}' AND `dwwd`.`datetime` <= '{}'\n",
    "                    ORDER BY `dp`.`created_at` '''.format(predict_begin_date, predict_end_date)\n",
    "    result_object = cur.execute(select_sql)\n",
    "    results_values_list = cur.fetchall()\n",
    "    result_key_list = [i[0] for i in cur.description]\n",
    "    \n",
    "    demand_dataframe = pd.DataFrame(results_values_list)\n",
    "    demand_dataframe.columns = result_key_list\n",
    "    cur.close () \n",
    "    conn.close()\n",
    "except Exception as e:\n",
    "    print(e)\n",
    "# 撈取需量資料 [E]"
   ]
  },
  {
   "cell_type": "code",
   "execution_count": 11,
   "id": "a70474de",
   "metadata": {
    "scrolled": false
   },
   "outputs": [
    {
     "data": {
      "text/html": [
       "<div>\n",
       "<style scoped>\n",
       "    .dataframe tbody tr th:only-of-type {\n",
       "        vertical-align: middle;\n",
       "    }\n",
       "\n",
       "    .dataframe tbody tr th {\n",
       "        vertical-align: top;\n",
       "    }\n",
       "\n",
       "    .dataframe thead th {\n",
       "        text-align: right;\n",
       "    }\n",
       "</style>\n",
       "<table border=\"1\" class=\"dataframe\">\n",
       "  <thead>\n",
       "    <tr style=\"text-align: right;\">\n",
       "      <th></th>\n",
       "      <th>prediction_1</th>\n",
       "      <th>prediction_2</th>\n",
       "      <th>prediction_3</th>\n",
       "      <th>prediction_4</th>\n",
       "      <th>demand_quarter</th>\n",
       "      <th>created_at</th>\n",
       "    </tr>\n",
       "  </thead>\n",
       "  <tbody>\n",
       "    <tr>\n",
       "      <th>0</th>\n",
       "      <td>None</td>\n",
       "      <td>None</td>\n",
       "      <td>None</td>\n",
       "      <td>162.10</td>\n",
       "      <td>187.2</td>\n",
       "      <td>2020-06-01 00:15:00</td>\n",
       "    </tr>\n",
       "    <tr>\n",
       "      <th>1</th>\n",
       "      <td>None</td>\n",
       "      <td>None</td>\n",
       "      <td>157.88</td>\n",
       "      <td>149.95</td>\n",
       "      <td>168.4</td>\n",
       "      <td>2020-06-01 00:30:00</td>\n",
       "    </tr>\n",
       "    <tr>\n",
       "      <th>2</th>\n",
       "      <td>None</td>\n",
       "      <td>153.64</td>\n",
       "      <td>146.13</td>\n",
       "      <td>150.90</td>\n",
       "      <td>148.8</td>\n",
       "      <td>2020-06-01 00:45:00</td>\n",
       "    </tr>\n",
       "    <tr>\n",
       "      <th>3</th>\n",
       "      <td>153.64</td>\n",
       "      <td>146.78</td>\n",
       "      <td>151.69</td>\n",
       "      <td>160.55</td>\n",
       "      <td>152.0</td>\n",
       "      <td>2020-06-01 01:00:00</td>\n",
       "    </tr>\n",
       "    <tr>\n",
       "      <th>4</th>\n",
       "      <td>143.11</td>\n",
       "      <td>147.90</td>\n",
       "      <td>156.57</td>\n",
       "      <td>166.81</td>\n",
       "      <td>150.0</td>\n",
       "      <td>2020-06-01 01:15:00</td>\n",
       "    </tr>\n",
       "    <tr>\n",
       "      <th>...</th>\n",
       "      <td>...</td>\n",
       "      <td>...</td>\n",
       "      <td>...</td>\n",
       "      <td>...</td>\n",
       "      <td>...</td>\n",
       "      <td>...</td>\n",
       "    </tr>\n",
       "    <tr>\n",
       "      <th>17556</th>\n",
       "      <td>160.54</td>\n",
       "      <td>159.30</td>\n",
       "      <td>157.61</td>\n",
       "      <td>155.54</td>\n",
       "      <td>125.6</td>\n",
       "      <td>2020-11-30 23:00:00</td>\n",
       "    </tr>\n",
       "    <tr>\n",
       "      <th>17557</th>\n",
       "      <td>157.46</td>\n",
       "      <td>155.77</td>\n",
       "      <td>153.71</td>\n",
       "      <td>149.26</td>\n",
       "      <td>130.0</td>\n",
       "      <td>2020-11-30 23:15:00</td>\n",
       "    </tr>\n",
       "    <tr>\n",
       "      <th>17558</th>\n",
       "      <td>154.04</td>\n",
       "      <td>151.98</td>\n",
       "      <td>147.60</td>\n",
       "      <td>145.08</td>\n",
       "      <td>132.4</td>\n",
       "      <td>2020-11-30 23:30:00</td>\n",
       "    </tr>\n",
       "    <tr>\n",
       "      <th>17559</th>\n",
       "      <td>150.36</td>\n",
       "      <td>146.05</td>\n",
       "      <td>143.53</td>\n",
       "      <td>140.92</td>\n",
       "      <td>126.8</td>\n",
       "      <td>2020-11-30 23:45:00</td>\n",
       "    </tr>\n",
       "    <tr>\n",
       "      <th>17560</th>\n",
       "      <td>98.38</td>\n",
       "      <td>97.88</td>\n",
       "      <td>97.33</td>\n",
       "      <td>96.76</td>\n",
       "      <td>130.0</td>\n",
       "      <td>2020-12-01 00:00:00</td>\n",
       "    </tr>\n",
       "  </tbody>\n",
       "</table>\n",
       "<p>17561 rows × 6 columns</p>\n",
       "</div>"
      ],
      "text/plain": [
       "      prediction_1 prediction_2 prediction_3 prediction_4  demand_quarter  \\\n",
       "0             None         None         None       162.10           187.2   \n",
       "1             None         None       157.88       149.95           168.4   \n",
       "2             None       153.64       146.13       150.90           148.8   \n",
       "3           153.64       146.78       151.69       160.55           152.0   \n",
       "4           143.11       147.90       156.57       166.81           150.0   \n",
       "...            ...          ...          ...          ...             ...   \n",
       "17556       160.54       159.30       157.61       155.54           125.6   \n",
       "17557       157.46       155.77       153.71       149.26           130.0   \n",
       "17558       154.04       151.98       147.60       145.08           132.4   \n",
       "17559       150.36       146.05       143.53       140.92           126.8   \n",
       "17560        98.38        97.88        97.33        96.76           130.0   \n",
       "\n",
       "               created_at  \n",
       "0     2020-06-01 00:15:00  \n",
       "1     2020-06-01 00:30:00  \n",
       "2     2020-06-01 00:45:00  \n",
       "3     2020-06-01 01:00:00  \n",
       "4     2020-06-01 01:15:00  \n",
       "...                   ...  \n",
       "17556 2020-11-30 23:00:00  \n",
       "17557 2020-11-30 23:15:00  \n",
       "17558 2020-11-30 23:30:00  \n",
       "17559 2020-11-30 23:45:00  \n",
       "17560 2020-12-01 00:00:00  \n",
       "\n",
       "[17561 rows x 6 columns]"
      ]
     },
     "execution_count": 11,
     "metadata": {},
     "output_type": "execute_result"
    }
   ],
   "source": [
    "demand_dataframe"
   ]
  },
  {
   "cell_type": "code",
   "execution_count": 4,
   "id": "97439417",
   "metadata": {},
   "outputs": [
    {
     "ename": "NameError",
     "evalue": "name 'demand_dataframe' is not defined",
     "output_type": "error",
     "traceback": [
      "\u001b[1;31m---------------------------------------------------------------------------\u001b[0m",
      "\u001b[1;31mNameError\u001b[0m                                 Traceback (most recent call last)",
      "\u001b[1;32m~\\AppData\\Local\\Temp/ipykernel_20924/2405807457.py\u001b[0m in \u001b[0;36m<module>\u001b[1;34m\u001b[0m\n\u001b[1;32m----> 1\u001b[1;33m \u001b[0mmean_rel_error\u001b[0m \u001b[1;33m=\u001b[0m \u001b[0mdemand_dataframe\u001b[0m\u001b[1;33m.\u001b[0m\u001b[0mapply\u001b[0m\u001b[1;33m(\u001b[0m\u001b[1;32mlambda\u001b[0m \u001b[0mdemand_dataframe\u001b[0m\u001b[1;33m:\u001b[0m \u001b[0mrel_error\u001b[0m\u001b[1;33m(\u001b[0m\u001b[0mdemand_dataframe\u001b[0m\u001b[1;33m[\u001b[0m\u001b[1;34m'demand_quarter'\u001b[0m\u001b[1;33m]\u001b[0m\u001b[1;33m,\u001b[0m\u001b[0mdemand_dataframe\u001b[0m\u001b[1;33m[\u001b[0m\u001b[1;34m'prediction_4'\u001b[0m\u001b[1;33m]\u001b[0m\u001b[1;33m)\u001b[0m\u001b[1;33m,\u001b[0m \u001b[0maxis\u001b[0m\u001b[1;33m=\u001b[0m\u001b[1;36m1\u001b[0m\u001b[1;33m)\u001b[0m\u001b[1;33m.\u001b[0m\u001b[0msum\u001b[0m\u001b[1;33m(\u001b[0m\u001b[1;33m)\u001b[0m\u001b[1;33m/\u001b[0m\u001b[0mdemand_dataframe\u001b[0m\u001b[1;33m[\u001b[0m\u001b[1;34m'prediction_4'\u001b[0m\u001b[1;33m]\u001b[0m\u001b[1;33m.\u001b[0m\u001b[0mcount\u001b[0m\u001b[1;33m(\u001b[0m\u001b[1;33m)\u001b[0m\u001b[1;33m\u001b[0m\u001b[1;33m\u001b[0m\u001b[0m\n\u001b[0m",
      "\u001b[1;31mNameError\u001b[0m: name 'demand_dataframe' is not defined"
     ]
    }
   ],
   "source": [
    "mean_rel_error = demand_dataframe.apply(lambda demand_dataframe: rel_error(demand_dataframe['demand_quarter'],demand_dataframe['prediction_4']), axis=1).sum()/demand_dataframe['prediction_4'].count()"
   ]
  },
  {
   "cell_type": "code",
   "execution_count": 81,
   "id": "23a5a62e",
   "metadata": {
    "scrolled": true
   },
   "outputs": [
    {
     "name": "stdout",
     "output_type": "stream",
     "text": [
      "mean_absolute_error: 40.754336939102565\n",
      "mean_squared_error: 3460.847926181891\n",
      "rmse: 58.82897182665945\n",
      "r2 score: 0.10850199480902212\n",
      "MRE: 17.502481617928346\n",
      "MAPE: 22.147032618522644\n"
     ]
    }
   ],
   "source": [
    "print(\"mean_absolute_error:\",mean_absolute_error(demand_dataframe['demand_quarter'],demand_dataframe['prediction_4']))\n",
    "print(\"mean_squared_error:\",mean_squared_error(demand_dataframe['demand_quarter'],demand_dataframe['prediction_4']))\n",
    "print(\"rmse:\",sqrt(mean_squared_error(demand_dataframe['demand_quarter'],demand_dataframe['prediction_4'])))\n",
    "print(\"r2 score:\",r2_score(demand_dataframe['demand_quarter'],demand_dataframe['prediction_4']))\n",
    "print(\"MRE:\",mean_rel_error*100)\n",
    "print(\"MAPE:\",mape(demand_dataframe['demand_quarter'],demand_dataframe['prediction_4']))"
   ]
  },
  {
   "cell_type": "markdown",
   "id": "cf0b60db",
   "metadata": {},
   "source": [
    "stacked_demand_predict\n",
    "==========\n"
   ]
  },
  {
   "cell_type": "code",
   "execution_count": 155,
   "id": "0e23b69b",
   "metadata": {},
   "outputs": [],
   "source": [
    "# 撈取需量資料 [B]\n",
    "try: \n",
    "    conn  =  pymysql.connect ( host = ' ' ,  user = ' ' ,  passwd = \" \" ,  db = ' ' ) \n",
    "    cur  =  conn.cursor() \n",
    "    select_sql = '''SELECT `dp`.`prediction_1`, `dp`.`prediction_2`, `dp`.`prediction_3`, `dp`.`prediction_4`, `dwwd`.`demand_quarter`, `dp`.`created_at` \n",
    "                    FROM  `stacked_demand_predict` AS `dp`\n",
    "                    INNER JOIN `demand_with_weather_data` AS `dwwd` ON(`dp`.`created_at` = `dwwd`.`datetime`)\n",
    "                    WHERE `dwwd`.`datetime` >= '{}' AND `dwwd`.`datetime` <= '{}'\n",
    "                    ORDER BY `dp`.`created_at` '''.format(predict_begin_date, predict_end_date)\n",
    "    result_object = cur.execute(select_sql)\n",
    "    results_values_list = cur.fetchall()\n",
    "    result_key_list = [i[0] for i in cur.description]\n",
    "    \n",
    "    demand_dataframe = pd.DataFrame(results_values_list)\n",
    "    demand_dataframe.columns = result_key_list\n",
    "    cur.close () \n",
    "    conn.close()\n",
    "except Exception as e:\n",
    "    print(e)\n",
    "# 撈取需量資料 [E]"
   ]
  },
  {
   "cell_type": "code",
   "execution_count": 156,
   "id": "899913c8",
   "metadata": {},
   "outputs": [],
   "source": [
    "mean_rel_error = demand_dataframe.apply(lambda demand_dataframe: rel_error(demand_dataframe['demand_quarter'],demand_dataframe['prediction_4']), axis=1).sum()/demand_dataframe['prediction_4'].count()"
   ]
  },
  {
   "cell_type": "code",
   "execution_count": 157,
   "id": "92da0c89",
   "metadata": {},
   "outputs": [
    {
     "name": "stdout",
     "output_type": "stream",
     "text": [
      "mean_absolute_error: 18.05804159445407\n",
      "mean_squared_error: 619.1829658578856\n",
      "rmse: 24.88338734694064\n",
      "r2 score: 0.6113324302307327\n",
      "MRE: 13.561764560353609\n",
      "MAPE: 13.561764359474182\n"
     ]
    }
   ],
   "source": [
    "print(\"mean_absolute_error:\",mean_absolute_error(demand_dataframe['demand_quarter'],demand_dataframe['prediction_4']))\n",
    "print(\"mean_squared_error:\",mean_squared_error(demand_dataframe['demand_quarter'],demand_dataframe['prediction_4']))\n",
    "print(\"rmse:\",sqrt(mean_squared_error(demand_dataframe['demand_quarter'],demand_dataframe['prediction_4'])))\n",
    "print(\"r2 score:\",r2_score(demand_dataframe['demand_quarter'],demand_dataframe['prediction_4']))\n",
    "print(\"MRE:\",mean_rel_error*100)\n",
    "print(\"MAPE:\",mape(demand_dataframe['demand_quarter'],demand_dataframe['prediction_4']))"
   ]
  },
  {
   "cell_type": "code",
   "execution_count": null,
   "id": "bff18109",
   "metadata": {},
   "outputs": [],
   "source": []
  },
  {
   "cell_type": "code",
   "execution_count": null,
   "id": "f7139488",
   "metadata": {},
   "outputs": [],
   "source": []
  },
  {
   "cell_type": "code",
   "execution_count": null,
   "id": "59aca645",
   "metadata": {},
   "outputs": [],
   "source": []
  }
 ],
 "metadata": {
  "kernelspec": {
   "display_name": "Python 3 (ipykernel)",
   "language": "python",
   "name": "python3"
  },
  "language_info": {
   "codemirror_mode": {
    "name": "ipython",
    "version": 3
   },
   "file_extension": ".py",
   "mimetype": "text/x-python",
   "name": "python",
   "nbconvert_exporter": "python",
   "pygments_lexer": "ipython3",
   "version": "3.9.7"
  }
 },
 "nbformat": 4,
 "nbformat_minor": 5
}
