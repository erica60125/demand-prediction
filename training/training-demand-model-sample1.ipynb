{
 "cells": [
  {
   "cell_type": "markdown",
   "metadata": {},
   "source": [
    "將上一筆需量加入至模型, 使用Sliding Window，\n",
    "========\n",
    "並加入 Self Attention/Attention 架構於LSTM 模型中\n",
    "========"
   ]
  },
  {
   "cell_type": "code",
   "execution_count": 1,
   "metadata": {
    "scrolled": false
   },
   "outputs": [],
   "source": [
    "# Import necessary libraries [B]\n",
    "import numpy as np # linear algebra\n",
    "import pandas as pd # data processing, CSV file I/O (e.g. pd.read_csv)\n",
    "import matplotlib.pyplot as plt   # plotting\n",
    "import seaborn as sns   # plotting heatmap\n",
    "import statsmodels.api as sm  # seasonal trend decomposition\n",
    "import datetime\n",
    "from statsmodels.graphics import tsaplots   # autocorrelation\n",
    "import pymysql\n",
    "from tensorflow.keras.optimizers import Adam #\n",
    "from keras.models import Sequential, load_model\n",
    "from keras.layers import Dense, LSTM, BatchNormalization, TimeDistributed, Flatten, Bidirectional,Dropout, MultiHeadAttention\n",
    "from keras.callbacks import ReduceLROnPlateau, EarlyStopping\n",
    "from keras.regularizers import l2\n",
    "from keras import optimizers\n",
    "from time import time\n",
    "from sklearn import preprocessing, metrics\n",
    "from joblib import dump, load\n",
    "from datetime import datetime, timedelta\n",
    "from scipy.interpolate import lagrange\n",
    "from scipy.sparse import csr_matrix\n",
    "from keras_self_attention import SeqSelfAttention\n",
    "from attention import Attention\n",
    "from tensorflow.keras.utils import plot_model\n",
    "%matplotlib inline\n",
    "# Import necessary libraries [E]"
   ]
  },
  {
   "cell_type": "code",
   "execution_count": 2,
   "metadata": {
    "scrolled": false
   },
   "outputs": [],
   "source": [
    "# 參數定義 [B]\n",
    "today_object = datetime.now()\n",
    "today = today_object.strftime(\"%Y-%m-%d-%H-%M-%S\")\n",
    "temperature_zscore_to_path = './../parameter-storage10/zscore/temperature-zscore-{}.bin'.format(today)\n",
    "pres_zscore_to_path = './../parameter-storage10/zscore/pres-zscore-{}.bin'.format(today)\n",
    "wind_speed_zscore_to_path = './../parameter-storage10/zscore/wind_speed-zscore-{}.bin'.format(today)\n",
    "wind_dir_zscore_to_path = './../parameter-storage10/zscore/wind_dir-zscore-{}.bin'.format(today)\n",
    "max_wind_zscore_to_path = './../parameter-storage10/zscore/max_wind-zscore-{}.bin'.format(today)\n",
    "r24_zscore_to_path = './../parameter-storage10/zscore/r24-zscore-{}.bin'.format(today)\n",
    "huvi_zscore_to_path = './../parameter-storage10/zscore/huvi-zscore-{}.bin'.format(today)\n",
    "apparent_temp_zscore_to_path = './../parameter-storage10/zscore/apparent_temp-zscore-{}.bin'.format(today)\n",
    "\n",
    "T_Min_zscore_to_path = './../parameter-storage10/zscore/T_Min-zscore-{}.bin'.format(today)\n",
    "T_Max_zscore_to_path = './../parameter-storage10/zscore/T_Max-zscore-{}.bin'.format(today)\n",
    "day_of_year_zscore_to_path = './../parameter-storage10/zscore/day_of_year-zscore-{}.bin'.format(today)\n",
    "data_week_zscore_to_path = './../parameter-storage10/zscore/data_week-zscore-{}.bin'.format(today)\n",
    "data_hour_zscore_to_path = './../parameter-storage10/zscore/data_hour-zscore-{}.bin'.format(today)\n",
    "data_minute_zscore_to_path = './../parameter-storage10/zscore/data_minute-zscore-{}.bin'.format(today)\n",
    "minutes_of_the_day_zscore_to_path = './../parameter-storage10/zscore/minutes_of_the_day-zscore-{}.bin'.format(today)\n",
    "demand_zscore_to_path = './../parameter-storage10/zscore/demand-zscore-{}.bin'.format(today)\n",
    "\n",
    "data_weekday_encode_to_path = './../parameter-storage10/zscore/data_weekday-encode-{}.bin'.format(today)\n",
    "period_type_encode_to_path = './../parameter-storage10/zscore/period_type-encode-{}.bin'.format(today)\n",
    "\n",
    "simple_LSTM_modal_y1_save_path = './../parameter-storage10/modal/simple-LSTM-modal-y1-attention-{}.h5'.format(today)\n",
    "simple_LSTM_modal_y2_save_path = './../parameter-storage10/modal/simple-LSTM-modal-y2-attention-{}.h5'.format(today)\n",
    "simple_LSTM_modal_y3_save_path = './../parameter-storage10/modal/simple-LSTM-modal-y3-attention-{}.h5'.format(today)\n",
    "\n",
    "simple_LSTM_modal_4t_save_path = './../parameter-storage10/modal/simple-LSTM-modal-4t-attention-{}.h5'.format(today)\n",
    "simple_LSTM_modal_48t_save_path = './../parameter-storage10/modal/simple-LSTM-modal-48t-attention-{}.h5'.format(today)\n",
    "simple_LSTM_modal_192t_save_path = './../parameter-storage10/modal/simple-LSTM-modal-192t-attention-{}.h5'.format(today)\n",
    "\n",
    "LSTM_modal_selfattention_save_path = './../parameter-storage10/modal/simple-LSTM-modal-self-attention-y2-{}.h5'.format(today)\n",
    "LSTM_modal_selfattention_y1_save_path = './../parameter-storage10/modal/simple-LSTM-modal-self-attention-y1-{}.h5'.format(today)\n",
    "LSTM_modal_selfattention_y3_save_path = './../parameter-storage10/modal/simple-LSTM-modal-self-attention-y3-{}.h5'.format(today)\n",
    "\n",
    "LSTM_modal_selfattention_4t_save_path = './../parameter-storage10/modal/simple-LSTM-modal-self-attention-4t-{}.h5'.format(today)\n",
    "LSTM_modal_selfattention_48t_save_path = './../parameter-storage10/modal/simple-LSTM-modal-self-attention-48t-{}.h5'.format(today)\n",
    "LSTM_modal_selfattention_192t_save_path = './../parameter-storage10/modal/simple-LSTM-modal-self-attention-192t-{}.h5'.format(today)\n",
    "\n",
    "\n",
    "simple_LSTM_modal_save_path = './../parameter-storage10/modal/simple-LSTM-modal-no-attention-{}.h5'.format(today)\n",
    "\n",
    "bi_LSTM_modal_y1_save_path = './../parameter-storage10/modal/bi-LSTM-modal-y1-{}.h5'.format(today)\n",
    "\n",
    "# simple_LSTM_modal_y2_save_path = './../parameter-storage10/modal/simple-LSTM-modal-y2-{}.h5'.format(today)\n",
    "simple_LSTM_modal_no_weather_save_path = ''.format(today)\n",
    "\n",
    "zscore_pid_path = './../parameter-storage10/pid/zscore-pid.pid'\n",
    "encode_pid_path = './../parameter-storage10/pid/encode-pid.pid'\n",
    "modal_pid_path = './../parameter-storage10/pid/modal-pid.pid'\n",
    "stacked_modal_pid_path = './../parameter-storage10/pid/stacked-modal-pid.pid'\n",
    "bidirectional_modal_pid_path = './../parameter-storage10/pid/bidirectional-modal-pid.pid'\n",
    "simple_kmeans_modal_pid_path = './../parameter-storage10/pid/simple-kmeans-modal-pid.pid'\n",
    "stacked_kmeans_modal_pid_path = './../parameter-storage10/pid/stacked-kmeans-modal-pid.pid'\n",
    "bidirectional_kmeans_modal_pid_path = './../parameter-storage10/pid/bidirectional-kmeans-modal-pid.pid'\n",
    "\n",
    "kmeans_pid_path = './../parameter-storage10/pid/kmeans-pid.pid'"
   ]
  },
  {
   "cell_type": "code",
   "execution_count": 3,
   "metadata": {
    "scrolled": false
   },
   "outputs": [],
   "source": [
    "# train_begin_date_y1 = '2020-01-01'\n",
    "# train_end_date_y1 = '2021-01-01'\n",
    "# train_begin_date_y2 = '2019-01-01'\n",
    "# train_end_date_y2 = '2021-01-01'\n",
    "# train_begin_date_y3 = '2018-01-01'\n",
    "# train_end_date_y3 = '2021-01-01'\n",
    "# test_begin_date = '2019-06-08'\n",
    "# test_end_date = '2020-06-07'\n",
    "\n",
    "begin_date = '2017-06-08'\n",
    "end_date = '2022-06-08'\n",
    "train_begin_date_y2 = '2019-01-01'\n",
    "train_end_date_y2 = '2021-01-01'\n",
    "predict_begin_date = '2021-05-01'\n",
    "predict_end_date = '2021-05-31'\n",
    "# 參數定義 [E]"
   ]
  },
  {
   "cell_type": "code",
   "execution_count": 4,
   "metadata": {
    "scrolled": false
   },
   "outputs": [],
   "source": [
    "# 正規化最大最小值 [B]\n",
    "temperature_range = np.array([0, 50])\n",
    "pres_range = np.array([0, 1500])\n",
    "wind_speed_range = np.array([0, 80])\n",
    "wind_dir_range = np.array([0, 360])\n",
    "r24_range = np.array([0, 400])\n",
    "huvi_range = np.array([0, 30])\n",
    "day_of_year_range = np.array([1, 366])\n",
    "week_range = np.array([1, 53])\n",
    "hour_range = np.array([0, 24])\n",
    "minute_range = np.array([0, 60])\n",
    "minutes_of_the_day_range = np.array([0, 86400])\n",
    "demand_range = np.array([0, 700])\n",
    "# 正規化最大最小值 [B]"
   ]
  },
  {
   "cell_type": "code",
   "execution_count": 5,
   "metadata": {
    "scrolled": false
   },
   "outputs": [],
   "source": [
    "# 參數轉成監督式參數 [B]\n",
    "# The function is defined with default parameters so that if you call it with just your data, it will construct a DataFrame with t-1 \n",
    "# as X and t as y\n",
    "\n",
    "def series_to_supervised(data, n_in = 1, n_out = 1, dropnan = True):\n",
    "    n_vars = 1 if type(data) is list else data.shape[1]\n",
    "    \n",
    "    df = pd.DataFrame(data)\n",
    "    df_columns_name = df.columns.values\n",
    "    cols, names = list(), list()\n",
    "    \n",
    "    # input sequence (t-n, ... t-1)\n",
    "    for i in range(n_in, 0, -1):\n",
    "        cols.append(df.shift(i))\n",
    "        names += [('%s(t-%d)' % (df_columns_name[j], i)) for j in range(n_vars)]\n",
    "        \n",
    "    # forecast sequence (t, t+1, ... t+n)\n",
    "    for i in range(0, n_out):\n",
    "        cols.append(df.shift(-i))\n",
    "        if i == 0:\n",
    "            names += [('%s(t)' % (df_columns_name[j])) for j in range(n_vars)]\n",
    "        else:\n",
    "            names += [('%s(t+%d)' % (df_columns_name[j], i)) for j in range(n_vars)]\n",
    "            \n",
    "    # put it all together\n",
    "    agg = pd.concat(cols, axis=1)\n",
    "    agg.columns = names\n",
    "    # drop rows with NaN values\n",
    "    if dropnan:\n",
    "        agg.dropna(inplace=True)\n",
    "        \n",
    "    return agg\n",
    "# 參數轉成監督式參數 [E]"
   ]
  },
  {
   "cell_type": "code",
   "execution_count": 6,
   "metadata": {
    "scrolled": false
   },
   "outputs": [],
   "source": [
    "# 體感溫度計算 [B]\n",
    "def c_feel_like(temperature, wind_speed):\n",
    "    feels_like = int(13.12+(0.615*float(temperature))-(11.37*(float(wind_speed)*3.6)**0.16)+(0.3965*float(temperature))*((float(wind_speed)*3.6)**0.16))\n",
    "    return feels_like\n",
    "# 體感溫度計算 [E]"
   ]
  },
  {
   "cell_type": "code",
   "execution_count": 7,
   "metadata": {},
   "outputs": [],
   "source": [
    "# 將測試集與訓練集分割成想要的 sliding window 大小 [B]\n",
    "def create_dataset(train_features, train_labels, look_back=1):\n",
    "    X_train, y_train = [], []\n",
    "    for i in range(train_labels.shape[0] - (look_back-1)):\n",
    "        X_train.append(train_features.iloc[i:i+look_back].values)\n",
    "        y_train.append(train_labels.iloc[i + (look_back-1)])\n",
    "    X_train, y_train = np.array(X_train), np.array(y_train).reshape(-1,1)\n",
    "    return X_train, y_train\n",
    "# 將測試集與訓練集分割成想要的 sliding window 大小 [E]"
   ]
  },
  {
   "cell_type": "code",
   "execution_count": null,
   "metadata": {
    "scrolled": false
   },
   "outputs": [],
   "source": [
    "# 撈取需量資料 [B]\n",
    "try: \n",
    "    conn  =  pymysql.connect ( host = '　' ,  user = '　' ,  passwd = \"　\" ,  db = 'ncku_demand' ) \n",
    "    cur  =  conn.cursor() \n",
    "    select_sql = '''SELECT `id`, `demand_min`, `demand_quarter`, `Total_value`, `Temperature`, \n",
    "                    `humd`, `pres`, `w_DSD`, `w_DIR`, `h_FX`, `24R`, `h_UVI`, `T_Min`, `T_Max`, \n",
    "                    `day_of_year`, `data_week`, `data_date`, `data_hour`, `data_minute`, `data_weekday`, \n",
    "                    `minutes_of_the_day`, `period_type`, `datetime`\n",
    "                    FROM `demand_with_weather_data` \n",
    "                    WHERE `datetime` >= '{}' AND `datetime` < '{}'\n",
    "                    ORDER BY `datetime` '''.format(begin_date, end_date)\n",
    "    result_object = cur.execute(select_sql)\n",
    "    results_values_list = cur.fetchall()\n",
    "    result_key_list = [i[0] for i in cur.description]\n",
    "    \n",
    "    dataframe = pd.DataFrame(results_values_list)\n",
    "    dataframe.columns = result_key_list\n",
    "    timestamp = pd.to_datetime(dataframe.datetime, infer_datetime_format=True).values.astype(float)\n",
    "    dataframe['timestamp'] = timestamp.tolist()\n",
    "    dataframe = dataframe.set_index('datetime')\n",
    "    cur.close () \n",
    "    conn.close()\n",
    "except Exception as e:\n",
    "    print(e)\n",
    "# 撈取需量資料 [E]"
   ]
  },
  {
   "cell_type": "code",
   "execution_count": null,
   "metadata": {
    "scrolled": false
   },
   "outputs": [],
   "source": [
    "# 補缺失值 [B]\n",
    "dataframe = dataframe.interpolate(method=\"linear\") \n",
    "# 補缺失值 [E]"
   ]
  },
  {
   "cell_type": "code",
   "execution_count": null,
   "metadata": {
    "scrolled": false
   },
   "outputs": [],
   "source": [
    "# 體感溫度計算 [B]\n",
    "dataframe['apparent_temp'] = dataframe.apply(lambda dataframe: c_feel_like(dataframe['Temperature'], dataframe['w_DSD']), axis=1)\n",
    "# 體感溫度計算 [E]"
   ]
  },
  {
   "cell_type": "code",
   "execution_count": 12,
   "metadata": {},
   "outputs": [],
   "source": [
    "# 刪除不需要的欄位 [B]\n",
    "dataframe = dataframe.drop(columns=['timestamp', 'period_type'])\n",
    "# 刪除不需要的欄位 [E]"
   ]
  },
  {
   "cell_type": "code",
   "execution_count": 13,
   "metadata": {
    "scrolled": true
   },
   "outputs": [],
   "source": [
    "# 套函式轉為監督式資料 [B]\n",
    "reframed = series_to_supervised(dataframe, 1, 1)\n",
    "# 套函式轉為監督式資料 [E]"
   ]
  },
  {
   "cell_type": "code",
   "execution_count": 14,
   "metadata": {
    "scrolled": false
   },
   "outputs": [],
   "source": [
    "# 資料正規化 [B]\n",
    "# 宣告實例 [B]\n",
    "temperature_zscore = preprocessing.MinMaxScaler()\n",
    "pres_zscore = preprocessing.MinMaxScaler()\n",
    "wind_speed_zscore = preprocessing.MinMaxScaler()\n",
    "wind_dir_zscore = preprocessing.MinMaxScaler()\n",
    "max_wind_zscore = preprocessing.MinMaxScaler()\n",
    "r24_zscore = preprocessing.MinMaxScaler()\n",
    "huvi_zscore = preprocessing.MinMaxScaler()\n",
    "apparent_temp_zscore = preprocessing.MinMaxScaler()\n",
    "T_Min_zscore = preprocessing.MinMaxScaler()\n",
    "T_Max_zscore = preprocessing.MinMaxScaler() \n",
    "day_of_year_zscore = preprocessing.MinMaxScaler() \n",
    "data_week_zscore = preprocessing.MinMaxScaler() \n",
    "data_hour_zscore = preprocessing.MinMaxScaler() \n",
    "data_minute_zscore = preprocessing.MinMaxScaler() \n",
    "minutes_of_the_day_zscore = preprocessing.MinMaxScaler() \n",
    "demand_zscore = preprocessing.MinMaxScaler()\n",
    "# 宣告實例 [E]\n",
    "# 資料 reshape [B]\n",
    "temperature_reshape_data = reframed['Temperature(t)'].values.reshape(-1, 1)\n",
    "pres_reshape_data = reframed['pres(t)'].values.reshape(-1, 1)\n",
    "wind_speed_reshape_data = reframed['w_DSD(t)'].values.reshape(-1, 1)\n",
    "wind_dir_reshape_data = reframed['w_DIR(t)'].values.reshape(-1, 1)\n",
    "max_wind_reshape_data = reframed['h_FX(t)'].values.reshape(-1, 1)\n",
    "r24_reshape_data = reframed['24R(t)'].values.reshape(-1, 1)\n",
    "huvi_reshape_data = reframed['h_UVI(t)'].values.reshape(-1, 1)\n",
    "apparent_temp_reshape_data = reframed['apparent_temp(t)'].values.reshape(-1, 1)\n",
    "T_Min_reshape_data = reframed['T_Min(t)'].values.reshape(-1, 1)\n",
    "T_Max_reshape_data = reframed['T_Max(t)'].values.reshape(-1, 1)\n",
    "day_of_year_reshape_data = reframed['day_of_year(t)'].values.reshape(-1, 1)\n",
    "data_week_reshape_data = reframed['data_week(t)'].values.reshape(-1, 1)\n",
    "data_hour_reshape_data = reframed['data_hour(t)'].values.reshape(-1, 1)\n",
    "data_minute_reshape_data = reframed['data_minute(t)'].values.reshape(-1, 1)\n",
    "minutes_of_the_day_reshape_data = reframed['minutes_of_the_day(t)'].values.reshape(-1, 1)\n",
    "last_demand_reshape_data = reframed['demand_quarter(t-1)'].values.reshape(-1, 1)\n",
    "demand_reshape_data = reframed['demand_quarter(t)'].values.reshape(-1, 1)\n",
    "# 資料 reshape [E]\n",
    "# 部分計算 [B]\n",
    "temperature_zscore.partial_fit(temperature_range.reshape(-1, 1))\n",
    "pres_zscore.partial_fit(pres_range.reshape(-1, 1))\n",
    "wind_speed_zscore.partial_fit(wind_speed_range.reshape(-1, 1))\n",
    "wind_dir_zscore.partial_fit(wind_dir_range.reshape(-1, 1))\n",
    "max_wind_zscore.partial_fit(wind_speed_range.reshape(-1, 1))\n",
    "r24_zscore.partial_fit(r24_range.reshape(-1, 1))\n",
    "huvi_zscore.partial_fit(huvi_range.reshape(-1, 1))\n",
    "apparent_temp_zscore.partial_fit(temperature_range.reshape(-1, 1))\n",
    "T_Min_zscore.partial_fit(temperature_range.reshape(-1, 1))\n",
    "T_Max_zscore.partial_fit(temperature_range.reshape(-1, 1))\n",
    "day_of_year_zscore.partial_fit(day_of_year_range.reshape(-1, 1))\n",
    "data_week_zscore.partial_fit(week_range.reshape(-1, 1))\n",
    "data_hour_zscore.partial_fit(hour_range.reshape(-1, 1))\n",
    "data_minute_zscore.partial_fit(minute_range.reshape(-1, 1))\n",
    "minutes_of_the_day_zscore.partial_fit(minutes_of_the_day_range.reshape(-1, 1))\n",
    "demand_zscore.partial_fit(demand_range.reshape(-1, 1))\n",
    "# 部分計算 [E]\n",
    "# 將部分計算得結果先做正規化 [B]\n",
    "reframed['Temperature(t)'] = temperature_zscore.transform(temperature_reshape_data)\n",
    "reframed['pres(t)'] = pres_zscore.transform(pres_reshape_data)\n",
    "reframed['w_DSD(t)'] = wind_speed_zscore.transform(wind_speed_reshape_data)\n",
    "reframed['w_DIR(t)'] = wind_dir_zscore.transform(wind_dir_reshape_data)\n",
    "reframed['h_FX(t)'] = max_wind_zscore.transform(max_wind_reshape_data)\n",
    "reframed['24R(t)'] = r24_zscore.transform(r24_reshape_data)\n",
    "reframed['h_UVI(t)'] = huvi_zscore.transform(huvi_reshape_data)\n",
    "reframed['apparent_temp(t)'] = apparent_temp_zscore.transform(apparent_temp_reshape_data)\n",
    "reframed['T_Min(t)'] = T_Min_zscore.transform(T_Min_reshape_data)\n",
    "reframed['T_Max(t)'] = T_Max_zscore.transform(T_Max_reshape_data)\n",
    "reframed['day_of_year(t)'] = day_of_year_zscore.transform(day_of_year_reshape_data)\n",
    "reframed['data_week(t)'] = data_week_zscore.transform(data_week_reshape_data)\n",
    "reframed['data_hour(t)'] = data_hour_zscore.transform(data_hour_reshape_data)\n",
    "reframed['data_minute(t)'] = data_minute_zscore.transform(data_minute_reshape_data)\n",
    "reframed['minutes_of_the_day(t)'] = minutes_of_the_day_zscore.transform(minutes_of_the_day_reshape_data)\n",
    "reframed['demand_quarter(t-1)'] = demand_zscore.transform(last_demand_reshape_data)\n",
    "reframed['demand_quarter_normalization'] = demand_zscore.transform(demand_reshape_data)\n",
    "# 將部分計算得結果先做正規化 [E]\n",
    "# 資料正規化 [E]"
   ]
  },
  {
   "cell_type": "code",
   "execution_count": 14,
   "metadata": {
    "scrolled": false
   },
   "outputs": [
    {
     "data": {
      "text/plain": [
       "['./../parameter-storage10/zscore/minutes_of_the_day-zscore-2022-07-29-13-35-36.bin']"
      ]
     },
     "execution_count": 14,
     "metadata": {},
     "output_type": "execute_result"
    }
   ],
   "source": [
    "# 儲存正規化模型 [B]\n",
    "dump(temperature_zscore, temperature_zscore_to_path, compress=True)\n",
    "dump(pres_zscore, pres_zscore_to_path, compress=True)\n",
    "dump(wind_speed_zscore, wind_speed_zscore_to_path, compress=True)\n",
    "dump(wind_dir_zscore,wind_dir_zscore_to_path, compress=True)\n",
    "dump(max_wind_zscore,max_wind_zscore_to_path, compress=True)\n",
    "dump(r24_zscore,r24_zscore_to_path, compress=True)\n",
    "dump(huvi_zscore,huvi_zscore_to_path, compress=True)\n",
    "dump(apparent_temp_zscore, apparent_temp_zscore_to_path, compress=True)\n",
    "dump(T_Min_zscore, T_Min_zscore_to_path, compress=True) #儲存參數\n",
    "dump(T_Max_zscore, T_Max_zscore_to_path, compress=True) #儲存參數\n",
    "dump(day_of_year_zscore, day_of_year_zscore_to_path, compress=True) #儲存參數\n",
    "dump(data_week_zscore, data_week_zscore_to_path, compress=True) #儲存參數\n",
    "dump(data_hour_zscore, data_hour_zscore_to_path, compress=True) #儲存參數\n",
    "dump(data_minute_zscore, data_minute_zscore_to_path, compress=True) #儲存參數\n",
    "dump(demand_zscore, demand_zscore_to_path, compress=True) #儲存參數\n",
    "dump(minutes_of_the_day_zscore, minutes_of_the_day_zscore_to_path, compress=True) #儲存參數\n",
    "# 儲存正規化模型 [E]"
   ]
  },
  {
   "cell_type": "code",
   "execution_count": 15,
   "metadata": {
    "scrolled": true
   },
   "outputs": [
    {
     "name": "stdout",
     "output_type": "stream",
     "text": [
      "2022-07-29-13-35-36\n"
     ]
    }
   ],
   "source": [
    "# 儲存檔案最後更新檔案日期 [B]\n",
    "zscore_pid_write = open(zscore_pid_path, 'w', encoding='utf-8')\n",
    "zscore_pid_write.write(today)\n",
    "print(today)\n",
    "# 儲存檔案最後更新檔案日期 [E]"
   ]
  },
  {
   "cell_type": "code",
   "execution_count": 15,
   "metadata": {
    "scrolled": false
   },
   "outputs": [],
   "source": [
    "# 將分類資料轉為 one hot encoding [B]\n",
    "data_weekday_encoder = preprocessing.OneHotEncoder(sparse=False)\n",
    "# period_type_encoder = preprocessing.OneHotEncoder(sparse=False)\n",
    "\n",
    "data_weekday_values = reframed['data_weekday(t)'].values.reshape(len(reframed['data_weekday(t)']), 1)\n",
    "# period_type_values = dataframe['period_type'].values.reshape(len(dataframe['period_type']), 1)\n",
    "\n",
    "data_weekday_values = data_weekday_encoder.fit_transform(data_weekday_values)\n",
    "# period_type_values = period_type_encoder.fit_transform(period_type_values)\n",
    "\n",
    "data_weekday_encode_dataframe= pd.DataFrame(data_weekday_values)\n",
    "# period_type_encode_dataframe= pd.DataFrame(period_type_values)\n",
    "\n",
    "for i in data_weekday_encode_dataframe:\n",
    "    reframed['data_weekday_{}(t)'.format(i)] = data_weekday_encode_dataframe[i].values\n",
    "# for i in period_type_encode_dataframe:\n",
    "#     dataframe['period_type_{}'.format(i)] = period_type_encode_dataframe[i].values\n",
    "# 將分類資料轉為 one hot encoding [E]"
   ]
  },
  {
   "cell_type": "code",
   "execution_count": 17,
   "metadata": {
    "scrolled": false
   },
   "outputs": [
    {
     "data": {
      "text/plain": [
       "['./../parameter-storage10/zscore/data_weekday-encode-2022-07-29-13-35-36.bin']"
      ]
     },
     "execution_count": 17,
     "metadata": {},
     "output_type": "execute_result"
    }
   ],
   "source": [
    "# 儲存 one hot encodeing模型 [B]\n",
    "dump(data_weekday_encoder, data_weekday_encode_to_path, compress=True)\n",
    "# dump(period_type_encoder, period_type_encode_to_path, compress=True)\n",
    "\n",
    "# 儲存 one hot encodeing模型 [E]"
   ]
  },
  {
   "cell_type": "code",
   "execution_count": 18,
   "metadata": {
    "scrolled": true
   },
   "outputs": [
    {
     "name": "stdout",
     "output_type": "stream",
     "text": [
      "2022-07-29-13-35-36\n"
     ]
    }
   ],
   "source": [
    "# 儲存檔案最後更新檔案日期 [B]\n",
    "encode_pid_write = open(encode_pid_path, 'w', encoding='utf-8')\n",
    "encode_pid_write.write(today)\n",
    "print(today)\n",
    "# 儲存檔案最後更新檔案日期 [E]"
   ]
  },
  {
   "cell_type": "code",
   "execution_count": 16,
   "metadata": {
    "scrolled": false
   },
   "outputs": [],
   "source": [
    "# 設定要選取的欄位，此參數用意在確保所有所需要的欄位與欄位的順序一致 [B]\n",
    "selected_column = ['Temperature(t)', 'humd(t)', 'pres(t)', 'w_DSD(t)', 'w_DIR(t)', 'h_FX(t)', '24R(t)', 'h_UVI(t)',\n",
    "                   'T_Min(t)', 'T_Max(t)', 'day_of_year(t)', 'data_week(t)', 'data_hour(t)',\n",
    "                   'data_minute(t)', 'minutes_of_the_day(t)', 'apparent_temp(t)', 'demand_quarter(t-1)', 'data_weekday_0(t)',\n",
    "                   'data_weekday_1(t)', 'data_weekday_2(t)', 'data_weekday_3(t)', 'data_weekday_4(t)',\n",
    "                   'data_weekday_5(t)', 'data_weekday_6(t)']\n",
    "# 設定要選取的欄位，此參數用意在確保所有所需要的欄位與欄位的順序一致 [E]\n",
    "# 將資料拆分成訓練集語測式集 [B]\n",
    "all_train_features_y2 = reframed.loc[train_begin_date_y2:train_end_date_y2, selected_column]\n",
    "all_train_labels_y2 = reframed.loc[train_begin_date_y2:train_end_date_y2, 'demand_quarter_normalization']\n",
    "\n",
    "all_predict_features = reframed.loc[predict_begin_date:predict_end_date, selected_column]\n",
    "all_predict_labels = reframed.loc[predict_begin_date:predict_end_date, 'demand_quarter_normalization']\n",
    "# 將資料拆分成訓練集語測式集 [E]"
   ]
  },
  {
   "cell_type": "code",
   "execution_count": 17,
   "metadata": {},
   "outputs": [
    {
     "data": {
      "text/html": [
       "<div>\n",
       "<style scoped>\n",
       "    .dataframe tbody tr th:only-of-type {\n",
       "        vertical-align: middle;\n",
       "    }\n",
       "\n",
       "    .dataframe tbody tr th {\n",
       "        vertical-align: top;\n",
       "    }\n",
       "\n",
       "    .dataframe thead th {\n",
       "        text-align: right;\n",
       "    }\n",
       "</style>\n",
       "<table border=\"1\" class=\"dataframe\">\n",
       "  <thead>\n",
       "    <tr style=\"text-align: right;\">\n",
       "      <th></th>\n",
       "      <th>Temperature(t)</th>\n",
       "      <th>humd(t)</th>\n",
       "      <th>pres(t)</th>\n",
       "      <th>w_DSD(t)</th>\n",
       "      <th>w_DIR(t)</th>\n",
       "      <th>h_FX(t)</th>\n",
       "      <th>24R(t)</th>\n",
       "      <th>h_UVI(t)</th>\n",
       "      <th>T_Min(t)</th>\n",
       "      <th>T_Max(t)</th>\n",
       "      <th>...</th>\n",
       "      <th>minutes_of_the_day(t)</th>\n",
       "      <th>apparent_temp(t)</th>\n",
       "      <th>demand_quarter(t-1)</th>\n",
       "      <th>data_weekday_0(t)</th>\n",
       "      <th>data_weekday_1(t)</th>\n",
       "      <th>data_weekday_2(t)</th>\n",
       "      <th>data_weekday_3(t)</th>\n",
       "      <th>data_weekday_4(t)</th>\n",
       "      <th>data_weekday_5(t)</th>\n",
       "      <th>data_weekday_6(t)</th>\n",
       "    </tr>\n",
       "    <tr>\n",
       "      <th>datetime</th>\n",
       "      <th></th>\n",
       "      <th></th>\n",
       "      <th></th>\n",
       "      <th></th>\n",
       "      <th></th>\n",
       "      <th></th>\n",
       "      <th></th>\n",
       "      <th></th>\n",
       "      <th></th>\n",
       "      <th></th>\n",
       "      <th></th>\n",
       "      <th></th>\n",
       "      <th></th>\n",
       "      <th></th>\n",
       "      <th></th>\n",
       "      <th></th>\n",
       "      <th></th>\n",
       "      <th></th>\n",
       "      <th></th>\n",
       "      <th></th>\n",
       "      <th></th>\n",
       "    </tr>\n",
       "  </thead>\n",
       "  <tbody>\n",
       "    <tr>\n",
       "      <th>2019-01-01 00:00:00</th>\n",
       "      <td>0.34</td>\n",
       "      <td>0.81</td>\n",
       "      <td>0.680667</td>\n",
       "      <td>0.0350</td>\n",
       "      <td>0.972222</td>\n",
       "      <td>0.0750</td>\n",
       "      <td>0.0</td>\n",
       "      <td>0.0</td>\n",
       "      <td>0.48</td>\n",
       "      <td>0.32</td>\n",
       "      <td>...</td>\n",
       "      <td>0.000000</td>\n",
       "      <td>0.32</td>\n",
       "      <td>0.131429</td>\n",
       "      <td>0.0</td>\n",
       "      <td>1.0</td>\n",
       "      <td>0.0</td>\n",
       "      <td>0.0</td>\n",
       "      <td>0.0</td>\n",
       "      <td>0.0</td>\n",
       "      <td>0.0</td>\n",
       "    </tr>\n",
       "    <tr>\n",
       "      <th>2019-01-01 00:15:00</th>\n",
       "      <td>0.34</td>\n",
       "      <td>0.81</td>\n",
       "      <td>0.680667</td>\n",
       "      <td>0.0350</td>\n",
       "      <td>0.972222</td>\n",
       "      <td>0.0750</td>\n",
       "      <td>0.0</td>\n",
       "      <td>0.0</td>\n",
       "      <td>0.48</td>\n",
       "      <td>0.32</td>\n",
       "      <td>...</td>\n",
       "      <td>0.000174</td>\n",
       "      <td>0.32</td>\n",
       "      <td>0.130857</td>\n",
       "      <td>0.0</td>\n",
       "      <td>1.0</td>\n",
       "      <td>0.0</td>\n",
       "      <td>0.0</td>\n",
       "      <td>0.0</td>\n",
       "      <td>0.0</td>\n",
       "      <td>0.0</td>\n",
       "    </tr>\n",
       "    <tr>\n",
       "      <th>2019-01-01 00:30:00</th>\n",
       "      <td>0.34</td>\n",
       "      <td>0.81</td>\n",
       "      <td>0.680667</td>\n",
       "      <td>0.0350</td>\n",
       "      <td>0.972222</td>\n",
       "      <td>0.0750</td>\n",
       "      <td>0.0</td>\n",
       "      <td>0.0</td>\n",
       "      <td>0.48</td>\n",
       "      <td>0.32</td>\n",
       "      <td>...</td>\n",
       "      <td>0.000347</td>\n",
       "      <td>0.32</td>\n",
       "      <td>0.134286</td>\n",
       "      <td>0.0</td>\n",
       "      <td>1.0</td>\n",
       "      <td>0.0</td>\n",
       "      <td>0.0</td>\n",
       "      <td>0.0</td>\n",
       "      <td>0.0</td>\n",
       "      <td>0.0</td>\n",
       "    </tr>\n",
       "    <tr>\n",
       "      <th>2019-01-01 00:45:00</th>\n",
       "      <td>0.34</td>\n",
       "      <td>0.81</td>\n",
       "      <td>0.680667</td>\n",
       "      <td>0.0350</td>\n",
       "      <td>0.972222</td>\n",
       "      <td>0.0750</td>\n",
       "      <td>0.0</td>\n",
       "      <td>0.0</td>\n",
       "      <td>0.48</td>\n",
       "      <td>0.32</td>\n",
       "      <td>...</td>\n",
       "      <td>0.000521</td>\n",
       "      <td>0.32</td>\n",
       "      <td>0.134857</td>\n",
       "      <td>0.0</td>\n",
       "      <td>1.0</td>\n",
       "      <td>0.0</td>\n",
       "      <td>0.0</td>\n",
       "      <td>0.0</td>\n",
       "      <td>0.0</td>\n",
       "      <td>0.0</td>\n",
       "    </tr>\n",
       "    <tr>\n",
       "      <th>2019-01-01 01:00:00</th>\n",
       "      <td>0.34</td>\n",
       "      <td>0.82</td>\n",
       "      <td>0.680000</td>\n",
       "      <td>0.0475</td>\n",
       "      <td>0.944444</td>\n",
       "      <td>0.0875</td>\n",
       "      <td>0.0</td>\n",
       "      <td>0.0</td>\n",
       "      <td>0.48</td>\n",
       "      <td>0.32</td>\n",
       "      <td>...</td>\n",
       "      <td>0.000694</td>\n",
       "      <td>0.32</td>\n",
       "      <td>0.129714</td>\n",
       "      <td>0.0</td>\n",
       "      <td>1.0</td>\n",
       "      <td>0.0</td>\n",
       "      <td>0.0</td>\n",
       "      <td>0.0</td>\n",
       "      <td>0.0</td>\n",
       "      <td>0.0</td>\n",
       "    </tr>\n",
       "    <tr>\n",
       "      <th>...</th>\n",
       "      <td>...</td>\n",
       "      <td>...</td>\n",
       "      <td>...</td>\n",
       "      <td>...</td>\n",
       "      <td>...</td>\n",
       "      <td>...</td>\n",
       "      <td>...</td>\n",
       "      <td>...</td>\n",
       "      <td>...</td>\n",
       "      <td>...</td>\n",
       "      <td>...</td>\n",
       "      <td>...</td>\n",
       "      <td>...</td>\n",
       "      <td>...</td>\n",
       "      <td>...</td>\n",
       "      <td>...</td>\n",
       "      <td>...</td>\n",
       "      <td>...</td>\n",
       "      <td>...</td>\n",
       "      <td>...</td>\n",
       "      <td>...</td>\n",
       "    </tr>\n",
       "    <tr>\n",
       "      <th>2021-01-01 22:45:00</th>\n",
       "      <td>0.26</td>\n",
       "      <td>0.75</td>\n",
       "      <td>0.680000</td>\n",
       "      <td>0.0425</td>\n",
       "      <td>1.000000</td>\n",
       "      <td>0.1125</td>\n",
       "      <td>0.0</td>\n",
       "      <td>0.0</td>\n",
       "      <td>0.40</td>\n",
       "      <td>0.22</td>\n",
       "      <td>...</td>\n",
       "      <td>0.015799</td>\n",
       "      <td>0.22</td>\n",
       "      <td>0.118857</td>\n",
       "      <td>0.0</td>\n",
       "      <td>0.0</td>\n",
       "      <td>0.0</td>\n",
       "      <td>0.0</td>\n",
       "      <td>1.0</td>\n",
       "      <td>0.0</td>\n",
       "      <td>0.0</td>\n",
       "    </tr>\n",
       "    <tr>\n",
       "      <th>2021-01-01 23:00:00</th>\n",
       "      <td>0.26</td>\n",
       "      <td>0.73</td>\n",
       "      <td>0.680000</td>\n",
       "      <td>0.0450</td>\n",
       "      <td>0.055556</td>\n",
       "      <td>0.1000</td>\n",
       "      <td>0.0</td>\n",
       "      <td>0.0</td>\n",
       "      <td>0.40</td>\n",
       "      <td>0.22</td>\n",
       "      <td>...</td>\n",
       "      <td>0.015972</td>\n",
       "      <td>0.22</td>\n",
       "      <td>0.117143</td>\n",
       "      <td>0.0</td>\n",
       "      <td>0.0</td>\n",
       "      <td>0.0</td>\n",
       "      <td>0.0</td>\n",
       "      <td>1.0</td>\n",
       "      <td>0.0</td>\n",
       "      <td>0.0</td>\n",
       "    </tr>\n",
       "    <tr>\n",
       "      <th>2021-01-01 23:15:00</th>\n",
       "      <td>0.26</td>\n",
       "      <td>0.73</td>\n",
       "      <td>0.680000</td>\n",
       "      <td>0.0450</td>\n",
       "      <td>0.055556</td>\n",
       "      <td>0.1000</td>\n",
       "      <td>0.0</td>\n",
       "      <td>0.0</td>\n",
       "      <td>0.40</td>\n",
       "      <td>0.22</td>\n",
       "      <td>...</td>\n",
       "      <td>0.016146</td>\n",
       "      <td>0.22</td>\n",
       "      <td>0.123429</td>\n",
       "      <td>0.0</td>\n",
       "      <td>0.0</td>\n",
       "      <td>0.0</td>\n",
       "      <td>0.0</td>\n",
       "      <td>1.0</td>\n",
       "      <td>0.0</td>\n",
       "      <td>0.0</td>\n",
       "    </tr>\n",
       "    <tr>\n",
       "      <th>2021-01-01 23:30:00</th>\n",
       "      <td>0.26</td>\n",
       "      <td>0.73</td>\n",
       "      <td>0.680000</td>\n",
       "      <td>0.0450</td>\n",
       "      <td>0.055556</td>\n",
       "      <td>0.1000</td>\n",
       "      <td>0.0</td>\n",
       "      <td>0.0</td>\n",
       "      <td>0.40</td>\n",
       "      <td>0.22</td>\n",
       "      <td>...</td>\n",
       "      <td>0.016319</td>\n",
       "      <td>0.22</td>\n",
       "      <td>0.120571</td>\n",
       "      <td>0.0</td>\n",
       "      <td>0.0</td>\n",
       "      <td>0.0</td>\n",
       "      <td>0.0</td>\n",
       "      <td>1.0</td>\n",
       "      <td>0.0</td>\n",
       "      <td>0.0</td>\n",
       "    </tr>\n",
       "    <tr>\n",
       "      <th>2021-01-01 23:45:00</th>\n",
       "      <td>0.26</td>\n",
       "      <td>0.73</td>\n",
       "      <td>0.680000</td>\n",
       "      <td>0.0450</td>\n",
       "      <td>0.055556</td>\n",
       "      <td>0.1000</td>\n",
       "      <td>0.0</td>\n",
       "      <td>0.0</td>\n",
       "      <td>0.40</td>\n",
       "      <td>0.22</td>\n",
       "      <td>...</td>\n",
       "      <td>0.016493</td>\n",
       "      <td>0.22</td>\n",
       "      <td>0.109143</td>\n",
       "      <td>0.0</td>\n",
       "      <td>0.0</td>\n",
       "      <td>0.0</td>\n",
       "      <td>0.0</td>\n",
       "      <td>1.0</td>\n",
       "      <td>0.0</td>\n",
       "      <td>0.0</td>\n",
       "    </tr>\n",
       "  </tbody>\n",
       "</table>\n",
       "<p>67708 rows × 24 columns</p>\n",
       "</div>"
      ],
      "text/plain": [
       "                     Temperature(t)  humd(t)   pres(t)  w_DSD(t)  w_DIR(t)  \\\n",
       "datetime                                                                     \n",
       "2019-01-01 00:00:00            0.34     0.81  0.680667    0.0350  0.972222   \n",
       "2019-01-01 00:15:00            0.34     0.81  0.680667    0.0350  0.972222   \n",
       "2019-01-01 00:30:00            0.34     0.81  0.680667    0.0350  0.972222   \n",
       "2019-01-01 00:45:00            0.34     0.81  0.680667    0.0350  0.972222   \n",
       "2019-01-01 01:00:00            0.34     0.82  0.680000    0.0475  0.944444   \n",
       "...                             ...      ...       ...       ...       ...   \n",
       "2021-01-01 22:45:00            0.26     0.75  0.680000    0.0425  1.000000   \n",
       "2021-01-01 23:00:00            0.26     0.73  0.680000    0.0450  0.055556   \n",
       "2021-01-01 23:15:00            0.26     0.73  0.680000    0.0450  0.055556   \n",
       "2021-01-01 23:30:00            0.26     0.73  0.680000    0.0450  0.055556   \n",
       "2021-01-01 23:45:00            0.26     0.73  0.680000    0.0450  0.055556   \n",
       "\n",
       "                     h_FX(t)  24R(t)  h_UVI(t)  T_Min(t)  T_Max(t)  ...  \\\n",
       "datetime                                                            ...   \n",
       "2019-01-01 00:00:00   0.0750     0.0       0.0      0.48      0.32  ...   \n",
       "2019-01-01 00:15:00   0.0750     0.0       0.0      0.48      0.32  ...   \n",
       "2019-01-01 00:30:00   0.0750     0.0       0.0      0.48      0.32  ...   \n",
       "2019-01-01 00:45:00   0.0750     0.0       0.0      0.48      0.32  ...   \n",
       "2019-01-01 01:00:00   0.0875     0.0       0.0      0.48      0.32  ...   \n",
       "...                      ...     ...       ...       ...       ...  ...   \n",
       "2021-01-01 22:45:00   0.1125     0.0       0.0      0.40      0.22  ...   \n",
       "2021-01-01 23:00:00   0.1000     0.0       0.0      0.40      0.22  ...   \n",
       "2021-01-01 23:15:00   0.1000     0.0       0.0      0.40      0.22  ...   \n",
       "2021-01-01 23:30:00   0.1000     0.0       0.0      0.40      0.22  ...   \n",
       "2021-01-01 23:45:00   0.1000     0.0       0.0      0.40      0.22  ...   \n",
       "\n",
       "                     minutes_of_the_day(t)  apparent_temp(t)  \\\n",
       "datetime                                                       \n",
       "2019-01-01 00:00:00               0.000000              0.32   \n",
       "2019-01-01 00:15:00               0.000174              0.32   \n",
       "2019-01-01 00:30:00               0.000347              0.32   \n",
       "2019-01-01 00:45:00               0.000521              0.32   \n",
       "2019-01-01 01:00:00               0.000694              0.32   \n",
       "...                                    ...               ...   \n",
       "2021-01-01 22:45:00               0.015799              0.22   \n",
       "2021-01-01 23:00:00               0.015972              0.22   \n",
       "2021-01-01 23:15:00               0.016146              0.22   \n",
       "2021-01-01 23:30:00               0.016319              0.22   \n",
       "2021-01-01 23:45:00               0.016493              0.22   \n",
       "\n",
       "                     demand_quarter(t-1)  data_weekday_0(t)  \\\n",
       "datetime                                                      \n",
       "2019-01-01 00:00:00             0.131429                0.0   \n",
       "2019-01-01 00:15:00             0.130857                0.0   \n",
       "2019-01-01 00:30:00             0.134286                0.0   \n",
       "2019-01-01 00:45:00             0.134857                0.0   \n",
       "2019-01-01 01:00:00             0.129714                0.0   \n",
       "...                                  ...                ...   \n",
       "2021-01-01 22:45:00             0.118857                0.0   \n",
       "2021-01-01 23:00:00             0.117143                0.0   \n",
       "2021-01-01 23:15:00             0.123429                0.0   \n",
       "2021-01-01 23:30:00             0.120571                0.0   \n",
       "2021-01-01 23:45:00             0.109143                0.0   \n",
       "\n",
       "                     data_weekday_1(t)  data_weekday_2(t)  data_weekday_3(t)  \\\n",
       "datetime                                                                       \n",
       "2019-01-01 00:00:00                1.0                0.0                0.0   \n",
       "2019-01-01 00:15:00                1.0                0.0                0.0   \n",
       "2019-01-01 00:30:00                1.0                0.0                0.0   \n",
       "2019-01-01 00:45:00                1.0                0.0                0.0   \n",
       "2019-01-01 01:00:00                1.0                0.0                0.0   \n",
       "...                                ...                ...                ...   \n",
       "2021-01-01 22:45:00                0.0                0.0                0.0   \n",
       "2021-01-01 23:00:00                0.0                0.0                0.0   \n",
       "2021-01-01 23:15:00                0.0                0.0                0.0   \n",
       "2021-01-01 23:30:00                0.0                0.0                0.0   \n",
       "2021-01-01 23:45:00                0.0                0.0                0.0   \n",
       "\n",
       "                     data_weekday_4(t)  data_weekday_5(t)  data_weekday_6(t)  \n",
       "datetime                                                                      \n",
       "2019-01-01 00:00:00                0.0                0.0                0.0  \n",
       "2019-01-01 00:15:00                0.0                0.0                0.0  \n",
       "2019-01-01 00:30:00                0.0                0.0                0.0  \n",
       "2019-01-01 00:45:00                0.0                0.0                0.0  \n",
       "2019-01-01 01:00:00                0.0                0.0                0.0  \n",
       "...                                ...                ...                ...  \n",
       "2021-01-01 22:45:00                1.0                0.0                0.0  \n",
       "2021-01-01 23:00:00                1.0                0.0                0.0  \n",
       "2021-01-01 23:15:00                1.0                0.0                0.0  \n",
       "2021-01-01 23:30:00                1.0                0.0                0.0  \n",
       "2021-01-01 23:45:00                1.0                0.0                0.0  \n",
       "\n",
       "[67708 rows x 24 columns]"
      ]
     },
     "execution_count": 17,
     "metadata": {},
     "output_type": "execute_result"
    }
   ],
   "source": [
    "all_train_features_y2"
   ]
  },
  {
   "cell_type": "code",
   "execution_count": 19,
   "metadata": {
    "scrolled": true
   },
   "outputs": [],
   "source": [
    "# 將資料分割成 Sliding Window [B]\n",
    "look_back = 96\n",
    "trainX, trainY = create_dataset(all_train_features_y2, all_train_labels_y2, look_back)\n",
    "predictX, predictY = create_dataset(all_predict_features, all_predict_labels, look_back)\n",
    "\n",
    "# 將資料分割成 Sliding Window [E]"
   ]
  },
  {
   "cell_type": "markdown",
   "metadata": {},
   "source": [
    "--------------"
   ]
  },
  {
   "cell_type": "markdown",
   "metadata": {},
   "source": [
    "# 情況 1: 使用 Vanilla LSTM (many to one) + Self Attention 來訓練模型 "
   ]
  },
  {
   "cell_type": "code",
   "execution_count": 20,
   "metadata": {
    "scrolled": false
   },
   "outputs": [
    {
     "name": "stdout",
     "output_type": "stream",
     "text": [
      "Model: \"sequential\"\n",
      "_________________________________________________________________\n",
      " Layer (type)                Output Shape              Param #   \n",
      "=================================================================\n",
      " lstm (LSTM)                 (None, 96, 50)            15000     \n",
      "                                                                 \n",
      " seq_self_attention (SeqSelf  (None, 96, 50)           3265      \n",
      " Attention)                                                      \n",
      "                                                                 \n",
      " flatten (Flatten)           (None, 4800)              0         \n",
      "                                                                 \n",
      " dense (Dense)               (None, 1)                 4801      \n",
      "                                                                 \n",
      "=================================================================\n",
      "Total params: 23,066\n",
      "Trainable params: 23,066\n",
      "Non-trainable params: 0\n",
      "_________________________________________________________________\n",
      "You must install pydot (`pip install pydot`) and install graphviz (see instructions at https://graphviz.gitlab.io/download/) for plot_model/model_to_dot to work.\n"
     ]
    }
   ],
   "source": [
    "''' 使用 Vanilla LSTM (many to one) + Self Attention 來訓練模型 [B]'''\n",
    "# 定義模型架構 [B]\n",
    "vanilla_model = Sequential()\n",
    "vanilla_model.add(LSTM(50, input_shape=(look_back,trainX.shape[2]), return_sequences=True)) #X_train.shape[1],X_train.shape[2]\n",
    "vanilla_model.add(SeqSelfAttention(attention_activation='softmax'))\n",
    "vanilla_model.add(Flatten())\n",
    "vanilla_model.add(Dense(1))\n",
    "vanilla_model.compile(loss='mse', optimizer='Adam') \n",
    "vanilla_model.summary()\n",
    "# plot_model(vanilla_model, to_file='Vanilla_LSTM_graph_20220824.png')\n",
    "# 定義模型架構 [E]\n",
    "# 開始訓練 [B]\n",
    "history = vanilla_model.fit(trainX, trainY, epochs=600, batch_size=60, shuffle=False) #(50,72)\n",
    "# 開始訓練 [E]\n",
    "# 評估模型 [B]\n",
    "scores = vanilla_model.evaluate(trainX, trainY)\n",
    "# 評估模型 [E]\n",
    "''' 使用 Vanilla LSTM (many to one) + Self Attention 來訓練模型 [E]'''"
   ]
  },
  {
   "cell_type": "code",
   "execution_count": 28,
   "metadata": {
    "scrolled": true
   },
   "outputs": [
    {
     "name": "stdout",
     "output_type": "stream",
     "text": [
      "87/87 [==============================] - 16s 174ms/step\n"
     ]
    }
   ],
   "source": [
    "# 用訓練好的模型來預測 [B]\n",
    "testPredict1 = vanilla_model.predict(predictX)\n",
    "# 用訓練好的模型來預測 [E]"
   ]
  },
  {
   "cell_type": "code",
   "execution_count": 29,
   "metadata": {
    "scrolled": false
   },
   "outputs": [],
   "source": [
    "# 將預測值與實際值 inverse 正規化 [B]\n",
    "testPredict1 = demand_zscore.inverse_transform(testPredict1.reshape(1, -1))\n",
    "y_test_true = demand_zscore.inverse_transform(predictY.reshape(1, -1))\n",
    "# 將預測值與實際值 inverse 正規化 [E]"
   ]
  },
  {
   "cell_type": "code",
   "execution_count": 31,
   "metadata": {
    "scrolled": false
   },
   "outputs": [
    {
     "data": {
      "image/png": "[encoded data removed]",
      "text/plain": [
       "<Figure size 1080x432 with 1 Axes>"
      ]
     },
     "metadata": {
      "needs_background": "light"
     },
     "output_type": "display_data"
    }
   ],
   "source": [
    "# 將預測值與實際值做圖表 [B]\n",
    "from matplotlib import pyplot as plt\n",
    "\n",
    "plt.figure(figsize=(15,6))\n",
    "plt.xlim([100,650])\n",
    "plt.ylabel(\"demand\")\n",
    "plt.xlabel(\"minutes\")\n",
    "plt.plot(y_test_true[0], c = \"g\", alpha = 0.90, linewidth = 2.5)\n",
    "plt.plot(testPredict1[0], c = \"darkblue\", alpha = 0.75)\n",
    "plt.title(\"Testing(Validation) data\")\n",
    "plt.show()\n",
    "# 將預測值與實際值做圖表 [E]"
   ]
  },
  {
   "cell_type": "code",
   "execution_count": 32,
   "metadata": {},
   "outputs": [
    {
     "data": {
      "text/plain": [
       "15.605103085039328"
      ]
     },
     "execution_count": 32,
     "metadata": {},
     "output_type": "execute_result"
    }
   ],
   "source": [
    "# 評估模型好壞 [B]\n",
    "metrics.mean_absolute_error(y_test_true[0],testPredict1[0])\n",
    "# 評估模型好壞 [E]"
   ]
  },
  {
   "cell_type": "code",
   "execution_count": 38,
   "metadata": {
    "scrolled": false
   },
   "outputs": [],
   "source": [
    "# 儲存模型 [B]\n",
    "vanilla_model.save(LSTM_modal_selfattention_192t_save_path)  # creates a HDF5 file 'my_model.h5'\n",
    "# 儲存模型 [E]"
   ]
  },
  {
   "cell_type": "markdown",
   "metadata": {},
   "source": [
    "------------------------------------"
   ]
  },
  {
   "cell_type": "markdown",
   "metadata": {},
   "source": [
    "# 情況 2: 使用 Vanilla LSTM (many to one) + Attention 來訓練模型 "
   ]
  },
  {
   "cell_type": "code",
   "execution_count": null,
   "metadata": {},
   "outputs": [],
   "source": [
    "''' 使用 Vanilla LSTM (many to one) + Attention 來訓練模型 [B]'''\n",
    "# 定義模型架構 [B]\n",
    "vanilla_model = Sequential()\n",
    "vanilla_model.add(LSTM(50, input_shape=(look_back,trainX.shape[2]), return_sequences=True)) #X_train.shape[1],X_train.shape[2]\n",
    "vanilla_model.add(Attention(50))\n",
    "vanilla_model.add(Flatten())\n",
    "vanilla_model.add(Dense(1))\n",
    "vanilla_model.compile(loss='mse', optimizer='Adam') \n",
    "vanilla_model.summary()\n",
    "# plot_model(vanilla_model, to_file='Vanilla_LSTM_graph_20220824.png')\n",
    "# 定義模型架構 [E]\n",
    "# 開始訓練 [B]\n",
    "history = vanilla_model.fit(trainX, trainY, epochs=100, batch_size=60, shuffle=False) #(50,72)\n",
    "# 開始訓練 [E]\n",
    "# 評估模型 [B]\n",
    "scores = vanilla_model.evaluate(trainX, trainY)\n",
    "# 評估模型 [E]\n",
    "''' 使用 Vanilla LSTM (many to one) + Self Attention 來訓練模型 [E]'''"
   ]
  },
  {
   "cell_type": "code",
   "execution_count": 81,
   "metadata": {},
   "outputs": [
    {
     "name": "stdout",
     "output_type": "stream",
     "text": [
      "90/90 [==============================] - 1s 11ms/step\n"
     ]
    }
   ],
   "source": [
    "testPredict1 = vanilla_model.predict(predictX)\n"
   ]
  },
  {
   "cell_type": "code",
   "execution_count": 82,
   "metadata": {},
   "outputs": [],
   "source": [
    "testPredict1 = demand_zscore.inverse_transform(testPredict1.reshape(1, -1))\n",
    "y_test_true = demand_zscore.inverse_transform(predictY.reshape(1, -1))"
   ]
  },
  {
   "cell_type": "code",
   "execution_count": 83,
   "metadata": {},
   "outputs": [
    {
     "data": {
      "image/png": "[encoded data removed]",
      "text/plain": [
       "<Figure size 1080x432 with 1 Axes>"
      ]
     },
     "metadata": {
      "needs_background": "light"
     },
     "output_type": "display_data"
    }
   ],
   "source": [
    "from matplotlib import pyplot as plt\n",
    "\n",
    "plt.figure(figsize=(15,6))\n",
    "plt.xlim([250,450])\n",
    "plt.ylabel(\"demand\")\n",
    "plt.xlabel(\"minutes\")\n",
    "plt.plot(y_test_true[0], c = \"g\", alpha = 0.90, linewidth = 2.5)\n",
    "plt.plot(testPredict1[0], c = \"darkblue\", alpha = 0.75)\n",
    "plt.title(\"Testing(Validation) data\")\n",
    "plt.show()"
   ]
  },
  {
   "cell_type": "code",
   "execution_count": 84,
   "metadata": {},
   "outputs": [
    {
     "data": {
      "text/plain": [
       "8.698540929530175"
      ]
     },
     "execution_count": 84,
     "metadata": {},
     "output_type": "execute_result"
    }
   ],
   "source": [
    "#評估模型好壞\n",
    "#載入迴歸常見的評估指標\n",
    "metrics.mean_absolute_error(y_test_true[0],testPredict1[0])"
   ]
  },
  {
   "cell_type": "code",
   "execution_count": 85,
   "metadata": {},
   "outputs": [],
   "source": [
    "vanilla_model.save(simple_LSTM_modal_y1_save_path)  # creates a HDF5 file 'my_model.h5'"
   ]
  },
  {
   "cell_type": "markdown",
   "metadata": {},
   "source": [
    "----------"
   ]
  },
  {
   "cell_type": "code",
   "execution_count": 150,
   "metadata": {
    "scrolled": true
   },
   "outputs": [
    {
     "name": "stdout",
     "output_type": "stream",
     "text": [
      "2022-07-29-10-53-04\n"
     ]
    }
   ],
   "source": [
    "# 儲存檔案最後更新檔案日期 [B]\n",
    "vanilla_modal_pid_write = open(modal_pid_path, 'w', encoding='utf-8')\n",
    "vanilla_modal_pid_write.write(today)\n",
    "# stacked_modal_pid_write = open(stacked_modal_pid_path, 'w', encoding='utf-8')\n",
    "# stacked_modal_pid_write.write(today)\n",
    "# bidirectional_model_pid_write = open(bidirectional_modal_pid_path, 'w', encoding='utf-8')\n",
    "# bidirectional_model_pid_write.write(today)\n",
    "# simple_kmeans_modal_pid_write = open(simple_kmeans_modal_pid_path, 'w', encoding='utf-8')\n",
    "# simple_kmeans_modal_pid_write.write(today)\n",
    "# stacked_kmeans_modal_pid_write = open(stacked_kmeans_modal_pid_path, 'w', encoding='utf-8')\n",
    "# stacked_kmeans_modal_pid_write.write(today)\n",
    "# bidirectional_kmeans_model_pid_write = open(bidirectional_kmeans_modal_pid_path, 'w', encoding='utf-8')\n",
    "# bidirectional_kmeans_model_pid_write.write(today)\n",
    "print(today)\n",
    "# 儲存檔案最後更新檔案日期 [E]"
   ]
  },
  {
   "cell_type": "code",
   "execution_count": null,
   "metadata": {
    "scrolled": true
   },
   "outputs": [],
   "source": []
  }
 ],
 "metadata": {
  "kernelspec": {
   "display_name": "Python 3 (ipykernel)",
   "language": "python",
   "name": "python3"
  },
  "language_info": {
   "codemirror_mode": {
    "name": "ipython",
    "version": 3
   },
   "file_extension": ".py",
   "mimetype": "text/x-python",
   "name": "python",
   "nbconvert_exporter": "python",
   "pygments_lexer": "ipython3",
   "version": "3.9.7"
  }
 },
 "nbformat": 4,
 "nbformat_minor": 4
}
