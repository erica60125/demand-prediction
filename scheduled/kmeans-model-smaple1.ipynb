{
 "cells": [
  {
   "cell_type": "code",
   "execution_count": 1,
   "metadata": {},
   "outputs": [],
   "source": [
    "# Import necessary libraries [B]\n",
    "%matplotlib inline\n",
    "import time\n",
    "import matplotlib.pyplot as plt\n",
    "import matplotlib.ticker as mticker\n",
    "import matplotlib.dates as mdates\n",
    "import numpy as np # Use numpy to convert to arrays\n",
    "import pandas as pd # 引用套件並縮寫為 pd  \n",
    "import pymysql\n",
    "import pickle\n",
    "from sklearn.cluster import KMeans\n",
    "from sklearn.preprocessing import MinMaxScaler\n",
    "from sklearn.metrics import silhouette_score\n",
    "from datetime import datetime, timedelta\n",
    "# Import necessary libraries [E]"
   ]
  },
  {
   "cell_type": "code",
   "execution_count": 27,
   "metadata": {},
   "outputs": [],
   "source": [
    "# 參數定義 [B]\n",
    "today_object = datetime.now()\n",
    "today = today_object.strftime(\"%Y-%m-%d-%H-%M-%S\")\n",
    "today_midnight_object = datetime.strptime(today_object.strftime(\"%Y-%m-%d 00:00:00\"), \"%Y-%m-%d %H:%M:%S\")\n",
    "yesterday_object = today_midnight_object - timedelta(days=1)\n",
    "yesterday = yesterday_object.strftime(\"%Y-%m-%d %H:%M:%S\")\n",
    "kmeans_pid_path = './../parameter-storage/pid/kmeans-pid.pid'\n",
    "# 參數定義 [E]"
   ]
  },
  {
   "cell_type": "code",
   "execution_count": 5,
   "metadata": {},
   "outputs": [
    {
     "name": "stdout",
     "output_type": "stream",
     "text": [
      "2022-03-19-16-17-41\n"
     ]
    }
   ],
   "source": [
    "# 讀取最後一個 kmeans 檔案的日期 [B]\n",
    "with open(kmeans_pid_path) as f:\n",
    "    kmeans_file_date = f.read()\n",
    "    f.close()\n",
    "print(kmeans_file_date)\n",
    "# 讀取最後一個 kmeans 檔案的日期 [E]"
   ]
  },
  {
   "cell_type": "code",
   "execution_count": 6,
   "metadata": {},
   "outputs": [],
   "source": [
    "# 要儲存的新的 kmeans 檔案名稱 [B]\n",
    "kmeans_modal_save_path = './../parameter-storage/kmeans/kmeans-modal-{}.pkl'.format(kmeans_file_date)\n",
    "# 要儲存的新的 kmeans 檔案名稱 [E]"
   ]
  },
  {
   "cell_type": "code",
   "execution_count": 21,
   "metadata": {},
   "outputs": [],
   "source": [
    "# 撈取需量資料 [B]\n",
    "def getDemandData(begin_date, end_date): \n",
    "    try: \n",
    "        conn  =  pymysql.connect ( host = '　' ,  user = '　' ,  passwd = \"　\" ,  db = 'ncku_demand' ) \n",
    "        cur  =  conn.cursor() \n",
    "        select_sql = '''SELECT `id`, `demand_min`, `demand_quarter`, `Total_value`, `Temperature`, \n",
    "                        `T_Min`, `T_Max`, `day_of_year`, `data_week`, `data_hour`, \n",
    "                        `data_minute`, `data_weekday`, `minutes_of_the_day`, `data_date`, `datetime`\n",
    "                        FROM `demand_with_weather_data` \n",
    "                        WHERE `datetime` > '{}' AND `datetime` <= '{}'\n",
    "                        ORDER BY `datetime` '''.format(begin_date, end_date)\n",
    "        result_object = cur.execute(select_sql)\n",
    "        results_values_list = cur.fetchall()\n",
    "        result_key_list = [i[0] for i in cur.description]\n",
    "        print(select_sql)\n",
    "\n",
    "        demand_dataframe = pd.DataFrame(results_values_list)\n",
    "        demand_dataframe.columns = result_key_list\n",
    "        timestamp = pd.to_datetime(demand_dataframe.datetime, infer_datetime_format=True).values.astype(float)\n",
    "        demand_dataframe['timestamp'] = timestamp.tolist()\n",
    "        demand_dataframe = demand_dataframe.set_index('datetime')\n",
    "        cur.close () \n",
    "        conn.close()\n",
    "        return demand_dataframe\n",
    "    except Exception as e:\n",
    "        print(e)\n",
    "# 撈取需量資料 [E]"
   ]
  },
  {
   "cell_type": "code",
   "execution_count": 8,
   "metadata": {},
   "outputs": [],
   "source": [
    "# 訓練模型並做儲存 [B]\n",
    "def clusterTrainDemandData(n_clusters, demand_dataframe):\n",
    "    X = demand_dataframe[['demand_quarter', 'minutes_of_the_day']]\n",
    "    # 開始分類, 分離峰尖峰 [B]\n",
    "    k_means_modal = KMeans(n_clusters).fit(X)\n",
    "    # 儲存 k-means 模型\n",
    "    pickle.dump(k_means_modal, open(kmeans_modal_save_path, \"wb\"))\n",
    "    # 儲存檔案最後更新檔案日期 [B]\n",
    "    kmeans_pid_write = open(kmeans_pid_path, 'w', encoding='utf-8')\n",
    "    kmeans_pid_write.write(today)\n",
    "    # 儲存檔案最後更新檔案日期 [E]\n",
    "    return k_means_modal\n",
    "# 訓練模型並做儲存 [E]"
   ]
  },
  {
   "cell_type": "code",
   "execution_count": 9,
   "metadata": {},
   "outputs": [],
   "source": [
    "# 用已訓練好的模型做分類 [B]\n",
    "def clusterDemandData(k_means_modal, demand_dataframe):\n",
    "    X = demand_dataframe[['demand_quarter', 'minutes_of_the_day']]\n",
    "    cluster_found = k_means_modal.predict(X)\n",
    "    cluster_result = pd.Series(cluster_found, name='cluster')\n",
    "    return cluster_result\n",
    "# 用已訓練好的模型做分類 [E]"
   ]
  },
  {
   "cell_type": "code",
   "execution_count": 10,
   "metadata": {},
   "outputs": [],
   "source": [
    "# 匯出分類結果於csv檔案 [B]\n",
    "def exportClusterResult(demand_dataframe, cluster_result, title_name):\n",
    "    demand_dataframe = demand_dataframe.assign(cluster=cluster_result.values) # assign(name=value)\n",
    "    y_pred_pd = pd.DataFrame(data = demand_dataframe)\n",
    "    y_pred_pd.to_csv('electricity-each-k-means-3-clusters-export-{}-20220319.csv'.format(title_name))\n",
    "# 匯出分類結果於csv檔案 [E]"
   ]
  },
  {
   "cell_type": "code",
   "execution_count": 11,
   "metadata": {},
   "outputs": [],
   "source": [
    "# 匯出分類結果於資料庫 [B]\n",
    "def updateToDatabase(demand_dataframe, cluster_result):\n",
    "    conn  =  pymysql.connect ( host = '　' ,  user = '　' ,  passwd = \"　\" ,  db = 'ncku_demand' ) \n",
    "    cur  =  conn.cursor() \n",
    "    demand_dataframe = demand_dataframe.assign(cluster=cluster_result.values) # assign(name=value)\n",
    "    y_pred_pd = pd.DataFrame(data = demand_dataframe)\n",
    "    for index, row in y_pred_pd.iterrows():\n",
    "        update_sql = \"UPDATE `demand_with_weather_data` SET `period_type`= {} WHERE `id`= {}\".format( row['cluster'], row['id'])\n",
    "        cur.execute(update_sql)\n",
    "        conn.commit()\n",
    "    cur.close () \n",
    "    conn.close()\n",
    "# 匯出分類結果於資料庫 [E]"
   ]
  },
  {
   "cell_type": "code",
   "execution_count": 12,
   "metadata": {},
   "outputs": [],
   "source": [
    "# 讀取 kmeans 模型 [B]\n",
    "def loadKmeansModel(kmeans_modal_save_path):\n",
    "    model = pickle.load(open(kmeans_modal_save_path, \"rb\"))\n",
    "    return model\n",
    "# 讀取 kmeans 模型 [E]"
   ]
  },
  {
   "cell_type": "code",
   "execution_count": null,
   "metadata": {},
   "outputs": [],
   "source": [
    "# 讀取模型並預測 [B]\n",
    "demand_dataframe = getDemandData(yesterday, today_midnight_object)\n",
    "k_means_modal = loadKmeansModel(kmeans_modal_save_path)\n",
    "cluster_result = clusterDemandData(k_means_modal, demand_dataframe)\n",
    "updateToDatabase(demand_dataframe, cluster_result)\n",
    "# 讀取模型並預測 [B]"
   ]
  }
 ],
 "metadata": {
  "kernelspec": {
   "display_name": "Python 3 (ipykernel)",
   "language": "python",
   "name": "python3"
  },
  "language_info": {
   "codemirror_mode": {
    "name": "ipython",
    "version": 3
   },
   "file_extension": ".py",
   "mimetype": "text/x-python",
   "name": "python",
   "nbconvert_exporter": "python",
   "pygments_lexer": "ipython3",
   "version": "3.9.7"
  }
 },
 "nbformat": 4,
 "nbformat_minor": 4
}
