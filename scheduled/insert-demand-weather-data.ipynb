{
 "cells": [
  {
   "cell_type": "markdown",
   "metadata": {},
   "source": [
    "每 10 分鐘抓取需量資料與天氣資料寫入資料庫中\n",
    "============"
   ]
  },
  {
   "cell_type": "code",
   "execution_count": 1,
   "metadata": {},
   "outputs": [],
   "source": [
    "# 匯入需要的模組 [B]\n",
    "%matplotlib inline\n",
    "import requests\n",
    "from datetime import datetime, timedelta\n",
    "import time\n",
    "import matplotlib.pyplot as plt\n",
    "import numpy as np # Use numpy to convert to arrays\n",
    "import pandas as pd # 引用套件並縮寫為 pd  \n",
    "import seaborn as sns\n",
    "import pymysql\n",
    "# 匯入需要的模組 [E]"
   ]
  },
  {
   "cell_type": "code",
   "execution_count": 2,
   "metadata": {},
   "outputs": [
    {
     "data": {
      "text/plain": [
       "'2022-05-15 10:09:00'"
      ]
     },
     "execution_count": 2,
     "metadata": {},
     "output_type": "execute_result"
    }
   ],
   "source": [
    "# 參數設定 [B]\n",
    "now = datetime.now()\n",
    "now_hourly_string = now.strftime(\"%Y-%m-%d %H:%M:00\")\n",
    "back_hour_string = (datetime.strptime(now_hourly_string,  \"%Y-%m-%d %H:%M:%S\") + timedelta(minutes=-10)).strftime(\"%Y-%m-%d %H:%M:00\")\n",
    "now_hourly = datetime.strptime(now_hourly_string,  \"%Y-%m-%d %H:%M:%S\")\n",
    "# 參數設定 [E]"
   ]
  },
  {
   "cell_type": "code",
   "execution_count": 3,
   "metadata": {},
   "outputs": [],
   "source": [
    "#抓取天氣資料 [B]\n",
    "try: \n",
    "    request_weather_data = requests.get('https://opendata.cwb.gov.tw/api/v1/rest/datastore/O-A0003-001?Authorization=CWB-61B968D9-68B1-44CD-87D6-3B39404E4A3F&locationName=%E5%8D%97%E5%8D%80%E4%B8%AD%E5%BF%83')\n",
    "    weather_data_result = request_weather_data.json()\n",
    "    weather_data_list = weather_data_result['records']['location'][0]\n",
    "    observe_time = datetime.strptime(weather_data_list['time']['obsTime'], \"%Y-%m-%d %H:%M:%S\")\n",
    "    weather_keys_list = []\n",
    "    weather_value_list = []\n",
    "    weather_dataframe = []\n",
    "    # if (observe_time >= now_hourly): # 代表是這個時段的天氣資料\n",
    "    for i in weather_data_list['weatherElement']:\n",
    "        weather_keys_list.append(i['elementName'])\n",
    "        weather_value_list.append(i['elementValue'])\n",
    "    weather_dataframe = pd.DataFrame(data=[weather_value_list], columns=weather_keys_list)\n",
    "except Exception as e:\n",
    "    print(e)\n",
    "#抓取天氣資料 [E]"
   ]
  },
  {
   "cell_type": "code",
   "execution_count": 4,
   "metadata": {
    "scrolled": true
   },
   "outputs": [
    {
     "data": {
      "text/html": [
       "<div>\n",
       "<style scoped>\n",
       "    .dataframe tbody tr th:only-of-type {\n",
       "        vertical-align: middle;\n",
       "    }\n",
       "\n",
       "    .dataframe tbody tr th {\n",
       "        vertical-align: top;\n",
       "    }\n",
       "\n",
       "    .dataframe thead th {\n",
       "        text-align: right;\n",
       "    }\n",
       "</style>\n",
       "<table border=\"1\" class=\"dataframe\">\n",
       "  <thead>\n",
       "    <tr style=\"text-align: right;\">\n",
       "      <th></th>\n",
       "      <th>ELEV</th>\n",
       "      <th>WDIR</th>\n",
       "      <th>WDSD</th>\n",
       "      <th>TEMP</th>\n",
       "      <th>HUMD</th>\n",
       "      <th>PRES</th>\n",
       "      <th>24R</th>\n",
       "      <th>H_FX</th>\n",
       "      <th>H_XD</th>\n",
       "      <th>H_FXT</th>\n",
       "      <th>...</th>\n",
       "      <th>H_10D</th>\n",
       "      <th>H_F10T</th>\n",
       "      <th>H_UVI</th>\n",
       "      <th>D_TX</th>\n",
       "      <th>D_TXT</th>\n",
       "      <th>D_TN</th>\n",
       "      <th>D_TNT</th>\n",
       "      <th>D_TS</th>\n",
       "      <th>VIS</th>\n",
       "      <th>Weather</th>\n",
       "    </tr>\n",
       "  </thead>\n",
       "  <tbody>\n",
       "    <tr>\n",
       "      <th>0</th>\n",
       "      <td>13.80</td>\n",
       "      <td>20</td>\n",
       "      <td>2.60</td>\n",
       "      <td>23.70</td>\n",
       "      <td>0.93</td>\n",
       "      <td>1008.90</td>\n",
       "      <td>11.50</td>\n",
       "      <td>5.60</td>\n",
       "      <td>350</td>\n",
       "      <td>0906</td>\n",
       "      <td>...</td>\n",
       "      <td>10</td>\n",
       "      <td>0901</td>\n",
       "      <td>2.78</td>\n",
       "      <td>24.40</td>\n",
       "      <td>0020</td>\n",
       "      <td>22.40</td>\n",
       "      <td>0618</td>\n",
       "      <td>0</td>\n",
       "      <td>11-15</td>\n",
       "      <td>陰</td>\n",
       "    </tr>\n",
       "  </tbody>\n",
       "</table>\n",
       "<p>1 rows × 21 columns</p>\n",
       "</div>"
      ],
      "text/plain": [
       "    ELEV WDIR  WDSD   TEMP  HUMD     PRES    24R  H_FX H_XD H_FXT  ... H_10D  \\\n",
       "0  13.80   20  2.60  23.70  0.93  1008.90  11.50  5.60  350  0906  ...    10   \n",
       "\n",
       "  H_F10T H_UVI   D_TX D_TXT   D_TN D_TNT D_TS    VIS Weather  \n",
       "0   0901  2.78  24.40  0020  22.40  0618    0  11-15       陰  \n",
       "\n",
       "[1 rows x 21 columns]"
      ]
     },
     "execution_count": 4,
     "metadata": {},
     "output_type": "execute_result"
    }
   ],
   "source": [
    "weather_dataframe\n"
   ]
  },
  {
   "cell_type": "code",
   "execution_count": 5,
   "metadata": {},
   "outputs": [
    {
     "data": {
      "text/plain": [
       "0    23.70\n",
       "Name: TEMP, dtype: object"
      ]
     },
     "execution_count": 5,
     "metadata": {},
     "output_type": "execute_result"
    }
   ],
   "source": [
    "weather_dataframe['TEMP']"
   ]
  },
  {
   "cell_type": "code",
   "execution_count": 6,
   "metadata": {},
   "outputs": [],
   "source": [
    "# 撈取需量資料 [B]\n",
    "try: \n",
    "    conn  =  pymysql.connect ( host = ' ' ,  user = ' ' ,  passwd = \" \" ,  db = 'ESmeter' ) \n",
    "    cur  =  conn.cursor() \n",
    "    select_sql = '''SELECT * FROM `demand` \n",
    "                    WHERE (`datetime` LIKE \\'%:15:00\\' \n",
    "                            OR `datetime` LIKE \\'%:30:00\\' \n",
    "                            OR `datetime` LIKE \\'%:45:00\\' \n",
    "                            OR `datetime` LIKE \\'%:00:00\\') \n",
    "                            AND `model` = \\'DEM600-4\\' \n",
    "                            AND `datetime` >= '{}'\n",
    "                            AND `datetime` < '{}'\n",
    "                    ORDER BY `datetime` '''.format(back_hour_string, now_hourly_string)\n",
    "    result_object = cur.execute(select_sql)\n",
    "    results_values_list = cur.fetchall()\n",
    "    if len(results_values_list) > 0:\n",
    "        result_key_list = [i[0] for i in cur.description]\n",
    "        demand_dataframe = pd.DataFrame(results_values_list)\n",
    "        demand_dataframe.columns = result_key_list\n",
    "    cur.close () \n",
    "    conn.close()\n",
    "except Exception as e:\n",
    "    print(e)\n",
    "# 撈取需量資料 [E]"
   ]
  },
  {
   "cell_type": "code",
   "execution_count": 7,
   "metadata": {
    "scrolled": false
   },
   "outputs": [
    {
     "data": {
      "text/html": [
       "<div>\n",
       "<style scoped>\n",
       "    .dataframe tbody tr th:only-of-type {\n",
       "        vertical-align: middle;\n",
       "    }\n",
       "\n",
       "    .dataframe tbody tr th {\n",
       "        vertical-align: top;\n",
       "    }\n",
       "\n",
       "    .dataframe thead th {\n",
       "        text-align: right;\n",
       "    }\n",
       "</style>\n",
       "<table border=\"1\" class=\"dataframe\">\n",
       "  <thead>\n",
       "    <tr style=\"text-align: right;\">\n",
       "      <th></th>\n",
       "      <th>id</th>\n",
       "      <th>address</th>\n",
       "      <th>channel</th>\n",
       "      <th>model</th>\n",
       "      <th>datetime</th>\n",
       "      <th>demand_min</th>\n",
       "      <th>demand_quarter</th>\n",
       "      <th>Total_value</th>\n",
       "    </tr>\n",
       "  </thead>\n",
       "  <tbody>\n",
       "    <tr>\n",
       "      <th>0</th>\n",
       "      <td>14750186</td>\n",
       "      <td>15</td>\n",
       "      <td>15</td>\n",
       "      <td>DEM600-4</td>\n",
       "      <td>2022-05-15 10:15:00</td>\n",
       "      <td>84.0</td>\n",
       "      <td>84.0</td>\n",
       "      <td>83.0</td>\n",
       "    </tr>\n",
       "  </tbody>\n",
       "</table>\n",
       "</div>"
      ],
      "text/plain": [
       "         id address  channel     model            datetime  demand_min  \\\n",
       "0  14750186      15       15  DEM600-4 2022-05-15 10:15:00        84.0   \n",
       "\n",
       "   demand_quarter  Total_value  \n",
       "0            84.0         83.0  "
      ]
     },
     "execution_count": 7,
     "metadata": {},
     "output_type": "execute_result"
    }
   ],
   "source": [
    "demand_dataframe"
   ]
  },
  {
   "cell_type": "code",
   "execution_count": 8,
   "metadata": {},
   "outputs": [],
   "source": [
    "#儲存需量與天氣資料[B]\n",
    "if len(results_values_list) > 0 :\n",
    "    conn2  =  pymysql.connect ( host = ' ' ,  user = ' ' ,  passwd = \" \" ,  db = 'ncku_demand' )\n",
    "    cur2  =  conn2.cursor()\n",
    "    insert_demand_weather_sql = \"INSERT INTO `demand_with_weather_data`(`demand_min`, `demand_quarter`, `Total_value`, `Temperature`, `humd`, `pres`, `w_DSD`, `w_DIR`, `h_FX`, `24R`, `h_UVI`, `T_Min`, `T_Max`, `day_of_year`, `data_week`, `data_date`, `data_hour`, `data_minute`, `data_weekday`, `minutes_of_the_day`, `datetime`) VALUES\"\n",
    "    innser_sql = ''\n",
    "    for index, demand_info in demand_dataframe.iterrows():\n",
    "    #     this_data_datetime = datetime.strptime(demand_info['datetime'], \"%Y-%m-%d %H:%M:%S\")\n",
    "        this_data_datetime = demand_info['datetime']\n",
    "        data_day_of_year = this_data_datetime.timetuple().tm_yday # 一天的第幾天;\n",
    "        data_week = this_data_datetime.isocalendar()[1] # 一年當中的第幾周\n",
    "        data_date = this_data_datetime.date().strftime(\"%Y-%m-%d\")\n",
    "        data_hour = this_data_datetime.hour\n",
    "        data_minute = this_data_datetime.minute\n",
    "        data_weekday = this_data_datetime.isoweekday()\n",
    "        minutes_of_the_day = (data_hour*60 + data_minute)\n",
    "        T_min = weather_dataframe['D_TN'][0] if float(weather_dataframe['D_TN'][0]) > 0 else 0\n",
    "        innser_sql += ', ' if len(innser_sql) > 0 else ''\n",
    "        innser_sql += \" ('{}', '{}', '{}', '{}', '{}', '{}', '{}', '{}', '{}', '{}', '{}', '{}', '{}', '{}', '{}', '{}', '{}', '{}', '{}', '{}', '{}')\".format(\n",
    "        demand_info['demand_min'], demand_info['demand_quarter'], demand_info['Total_value'], weather_dataframe['TEMP'][0], weather_dataframe['HUMD'][0], weather_dataframe['PRES'][0], weather_dataframe['WDSD'][0], weather_dataframe['WDIR'][0], weather_dataframe['H_FX'][0], weather_dataframe['24R'][0], weather_dataframe['H_UVI'][0], T_min, weather_dataframe['D_TX'][0], data_day_of_year, data_week, data_date, data_hour, data_minute, data_weekday, minutes_of_the_day, demand_info['datetime'])\n",
    "    insert_demand_weather_sql += innser_sql\n",
    "    cur2.execute(insert_demand_weather_sql)\n",
    "    conn2.commit()\n",
    "\n",
    "#儲存需量與天氣資料[E]"
   ]
  },
  {
   "cell_type": "code",
   "execution_count": 9,
   "metadata": {},
   "outputs": [],
   "source": [
    "# 儲存天氣資料 [B]\n",
    "insert_weather_sql = \"INSERT INTO `weather_data_cwb`(`ELEV`, `WDIR`, `WDSD`, `TEMP`, `HUMD`, `PRES`, `24R`, `H_FX`, `H_XD`, `H_FXT`, `H_F10`, `H_10D`, `H_F10T`, `H_UVI`, `D_TX`, `D_TXT`, `D_TN`, `D_TNT`, `D_TS`, `VIS`, `Weather`, `observe_time`) VALUES \"\n",
    "insert_weather_sql += \"('{}', '{}', '{}', '{}', '{}', '{}', '{}', '{}', '{}', '{}', '{}', '{}', '{}', '{}', '{}', '{}', '{}', '{}', '{}', '{}', '{}', '{}')\".format(\n",
    "    weather_dataframe['ELEV'][0], weather_dataframe['WDIR'][0], weather_dataframe['WDSD'][0], weather_dataframe['TEMP'][0], weather_dataframe['HUMD'][0], weather_dataframe['PRES'][0], weather_dataframe['24R'][0],  weather_dataframe['H_FX'][0],  weather_dataframe['H_XD'][0],  weather_dataframe['H_FXT'][0],  weather_dataframe['H_F10'][0], \n",
    "    weather_dataframe['H_10D'][0],  weather_dataframe['H_UVI'][0],  weather_dataframe['H_F10'][0],  weather_dataframe['D_TX'][0],  weather_dataframe['D_TXT'][0],  weather_dataframe['D_TN'][0],  weather_dataframe['D_TNT'][0],  weather_dataframe['D_TS'][0],  weather_dataframe['VIS'][0],  weather_dataframe['Weather'][0], observe_time\n",
    ")\n",
    "cur2.execute(insert_weather_sql)\n",
    "conn2.commit()\n",
    "# 儲存天氣資料 [E]"
   ]
  },
  {
   "cell_type": "code",
   "execution_count": 17,
   "metadata": {},
   "outputs": [],
   "source": [
    "cur2.close () \n",
    "conn2.close()"
   ]
  },
  {
   "cell_type": "markdown",
   "metadata": {},
   "source": [
    "==========="
   ]
  },
  {
   "cell_type": "code",
   "execution_count": null,
   "metadata": {},
   "outputs": [],
   "source": []
  },
  {
   "cell_type": "code",
   "execution_count": null,
   "metadata": {},
   "outputs": [],
   "source": []
  }
 ],
 "metadata": {
  "kernelspec": {
   "display_name": "Python 3 (ipykernel)",
   "language": "python",
   "name": "python3"
  },
  "language_info": {
   "codemirror_mode": {
    "name": "ipython",
    "version": 3
   },
   "file_extension": ".py",
   "mimetype": "text/x-python",
   "name": "python",
   "nbconvert_exporter": "python",
   "pygments_lexer": "ipython3",
   "version": "3.9.7"
  }
 },
 "nbformat": 4,
 "nbformat_minor": 4
}
