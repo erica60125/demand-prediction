{
 "cells": [
  {
   "cell_type": "markdown",
   "metadata": {},
   "source": [
    "每 1 分鐘抓取需量資料與天氣資料寫入資料庫中\n",
    "============"
   ]
  },
  {
   "cell_type": "code",
   "execution_count": 1,
   "metadata": {},
   "outputs": [],
   "source": [
    "# 匯入需要的模組 [B]\n",
    "%matplotlib inline\n",
    "import requests\n",
    "from datetime import datetime, timedelta\n",
    "import time\n",
    "import matplotlib.pyplot as plt\n",
    "import numpy as np # Use numpy to convert to arrays\n",
    "import pandas as pd # 引用套件並縮寫為 pd  \n",
    "import seaborn as sns\n",
    "import pymysql\n",
    "# 匯入需要的模組 [E]"
   ]
  },
  {
   "cell_type": "code",
   "execution_count": 5,
   "metadata": {},
   "outputs": [],
   "source": [
    "# 參數設定 [B]\n",
    "now = datetime.now()\n",
    "now_hourly_string = now.strftime(\"%Y-%m-%d %H:%M:00\")\n",
    "back_hour_string = (datetime.strptime(now_hourly_string,  \"%Y-%m-%d %H:%M:%S\") + timedelta(minutes=-1)).strftime(\"%Y-%m-%d %H:%M:00\")\n",
    "now_hourly = datetime.strptime(now_hourly_string,  \"%Y-%m-%d %H:%M:%S\")\n",
    "# 參數設定 [E]"
   ]
  },
  {
   "cell_type": "code",
   "execution_count": 13,
   "metadata": {},
   "outputs": [],
   "source": [
    "#抓取天氣資料 [B]\n",
    "try: \n",
    "    request_weather_data = requests.get('https://opendata.cwb.gov.tw/api/v1/rest/datastore/O-A0003-001?Authorization=CWB-61B968D9-68B1-44CD-87D6-3B39404E4A3F&locationName=%E8%87%BA%E5%8D%97')\n",
    "    weather_data_result = request_weather_data.json()\n",
    "    weather_data_list = weather_data_result['records']['location'][0]\n",
    "    observe_time = datetime.strptime(weather_data_list['time']['obsTime'], \"%Y-%m-%d %H:%M:%S\")\n",
    "    weather_keys_list = []\n",
    "    weather_value_list = []\n",
    "    weather_dataframe = []\n",
    "    # if (observe_time >= now_hourly): # 代表是這個時段的天氣資料\n",
    "    for i in weather_data_list['weatherElement']:\n",
    "        weather_keys_list.append(i['elementName'])\n",
    "        weather_value_list.append(i['elementValue'])\n",
    "    weather_dataframe = pd.DataFrame(data=[weather_value_list], columns=weather_keys_list)\n",
    "except Exception as e:\n",
    "    print(e)\n",
    "#抓取天氣資料 [E]"
   ]
  },
  {
   "cell_type": "code",
   "execution_count": 14,
   "metadata": {},
   "outputs": [
    {
     "data": {
      "text/plain": [
       "{'success': 'true',\n",
       " 'result': {'resource_id': 'O-A0003-001',\n",
       "  'fields': [{'id': 'lat', 'type': 'Double'},\n",
       "   {'id': 'lon', 'type': 'Double'},\n",
       "   {'id': 'locationName', 'type': 'String'},\n",
       "   {'id': 'stationId', 'type': 'String'},\n",
       "   {'id': 'obsTime', 'type': 'Timestamp'},\n",
       "   {'id': 'elementName', 'type': 'String'},\n",
       "   {'id': 'elementValue', 'type': 'String'},\n",
       "   {'id': 'parameterName', 'type': 'String'},\n",
       "   {'id': 'parameterValue', 'type': 'String'}]},\n",
       " 'records': {'location': [{'lat': '22.994974',\n",
       "    'lon': '120.196676',\n",
       "    'locationName': '臺南',\n",
       "    'stationId': '467410',\n",
       "    'time': {'obsTime': '2022-11-29 09:20:00'},\n",
       "    'weatherElement': [{'elementName': 'ELEV', 'elementValue': '40.8'},\n",
       "     {'elementName': 'WDIR', 'elementValue': '100'},\n",
       "     {'elementName': 'WDSD', 'elementValue': '0.9'},\n",
       "     {'elementName': 'TEMP', 'elementValue': '27.9'},\n",
       "     {'elementName': 'HUMD', 'elementValue': '0.75'},\n",
       "     {'elementName': 'PRES', 'elementValue': '1012.3'},\n",
       "     {'elementName': '24R', 'elementValue': '0.0'},\n",
       "     {'elementName': 'H_FX', 'elementValue': '2.6'},\n",
       "     {'elementName': 'H_XD', 'elementValue': '80'},\n",
       "     {'elementName': 'H_FXT', 'elementValue': '0821'},\n",
       "     {'elementName': 'H_F10', 'elementValue': '1.7'},\n",
       "     {'elementName': 'H_10D', 'elementValue': '100'},\n",
       "     {'elementName': 'H_F10T', 'elementValue': '0821'},\n",
       "     {'elementName': 'H_UVI', 'elementValue': '3.20'},\n",
       "     {'elementName': 'D_TX', 'elementValue': '28.2'},\n",
       "     {'elementName': 'D_TXT', 'elementValue': '0908'},\n",
       "     {'elementName': 'D_TN', 'elementValue': '24.9'},\n",
       "     {'elementName': 'D_TNT', 'elementValue': '0626'},\n",
       "     {'elementName': 'D_TS', 'elementValue': '2.5'},\n",
       "     {'elementName': 'VIS', 'elementValue': '21-30'},\n",
       "     {'elementName': 'Weather', 'elementValue': '晴'}],\n",
       "    'parameter': [{'parameterName': 'CITY', 'parameterValue': '臺南市'},\n",
       "     {'parameterName': 'CITY_SN', 'parameterValue': '04'},\n",
       "     {'parameterName': 'TOWN', 'parameterValue': '中西區'},\n",
       "     {'parameterName': 'TOWN_SN', 'parameterValue': '275'}]}]}}"
      ]
     },
     "execution_count": 14,
     "metadata": {},
     "output_type": "execute_result"
    }
   ],
   "source": [
    "weather_data_result"
   ]
  },
  {
   "cell_type": "code",
   "execution_count": 15,
   "metadata": {
    "scrolled": true
   },
   "outputs": [
    {
     "data": {
      "text/html": [
       "<div>\n",
       "<style scoped>\n",
       "    .dataframe tbody tr th:only-of-type {\n",
       "        vertical-align: middle;\n",
       "    }\n",
       "\n",
       "    .dataframe tbody tr th {\n",
       "        vertical-align: top;\n",
       "    }\n",
       "\n",
       "    .dataframe thead th {\n",
       "        text-align: right;\n",
       "    }\n",
       "</style>\n",
       "<table border=\"1\" class=\"dataframe\">\n",
       "  <thead>\n",
       "    <tr style=\"text-align: right;\">\n",
       "      <th></th>\n",
       "      <th>ELEV</th>\n",
       "      <th>WDIR</th>\n",
       "      <th>WDSD</th>\n",
       "      <th>TEMP</th>\n",
       "      <th>HUMD</th>\n",
       "      <th>PRES</th>\n",
       "      <th>24R</th>\n",
       "      <th>H_FX</th>\n",
       "      <th>H_XD</th>\n",
       "      <th>H_FXT</th>\n",
       "      <th>...</th>\n",
       "      <th>H_10D</th>\n",
       "      <th>H_F10T</th>\n",
       "      <th>H_UVI</th>\n",
       "      <th>D_TX</th>\n",
       "      <th>D_TXT</th>\n",
       "      <th>D_TN</th>\n",
       "      <th>D_TNT</th>\n",
       "      <th>D_TS</th>\n",
       "      <th>VIS</th>\n",
       "      <th>Weather</th>\n",
       "    </tr>\n",
       "  </thead>\n",
       "  <tbody>\n",
       "    <tr>\n",
       "      <th>0</th>\n",
       "      <td>40.8</td>\n",
       "      <td>100</td>\n",
       "      <td>0.9</td>\n",
       "      <td>27.9</td>\n",
       "      <td>0.75</td>\n",
       "      <td>1012.3</td>\n",
       "      <td>0.0</td>\n",
       "      <td>2.6</td>\n",
       "      <td>80</td>\n",
       "      <td>0821</td>\n",
       "      <td>...</td>\n",
       "      <td>100</td>\n",
       "      <td>0821</td>\n",
       "      <td>3.20</td>\n",
       "      <td>28.2</td>\n",
       "      <td>0908</td>\n",
       "      <td>24.9</td>\n",
       "      <td>0626</td>\n",
       "      <td>2.5</td>\n",
       "      <td>21-30</td>\n",
       "      <td>晴</td>\n",
       "    </tr>\n",
       "  </tbody>\n",
       "</table>\n",
       "<p>1 rows × 21 columns</p>\n",
       "</div>"
      ],
      "text/plain": [
       "   ELEV WDIR WDSD  TEMP  HUMD    PRES  24R H_FX H_XD H_FXT  ... H_10D H_F10T  \\\n",
       "0  40.8  100  0.9  27.9  0.75  1012.3  0.0  2.6   80  0821  ...   100   0821   \n",
       "\n",
       "  H_UVI  D_TX D_TXT  D_TN D_TNT D_TS    VIS Weather  \n",
       "0  3.20  28.2  0908  24.9  0626  2.5  21-30       晴  \n",
       "\n",
       "[1 rows x 21 columns]"
      ]
     },
     "execution_count": 15,
     "metadata": {},
     "output_type": "execute_result"
    }
   ],
   "source": [
    "weather_dataframe\n"
   ]
  },
  {
   "cell_type": "code",
   "execution_count": 16,
   "metadata": {},
   "outputs": [
    {
     "data": {
      "text/plain": [
       "0    27.9\n",
       "Name: TEMP, dtype: object"
      ]
     },
     "execution_count": 16,
     "metadata": {},
     "output_type": "execute_result"
    }
   ],
   "source": [
    "weather_dataframe['TEMP']"
   ]
  },
  {
   "cell_type": "code",
   "execution_count": 18,
   "metadata": {},
   "outputs": [],
   "source": [
    "# 撈取需量資料 [B]\n",
    "try: \n",
    "    conn  =  pymysql.connect ( host = ' ' ,  user = ' ' ,  passwd = \" \" ,  db = 'ESmeter' )  \n",
    "    cur  =  conn.cursor() \n",
    "    select_sql = '''SELECT * FROM `demand` \n",
    "                        WHERE `datetime` LIKE \\'%:%:00\\'\n",
    "                                AND `model` = \\'DEM600-4\\'  \n",
    "                                AND `datetime` >= '{}'\n",
    "                                AND `datetime` < '{}'\n",
    "                        ORDER BY `datetime` '''.format(back_hour_string, now_hourly_string)\n",
    "    result_object = cur.execute(select_sql)\n",
    "    results_values_list = cur.fetchall()\n",
    "    if len(results_values_list) > 0:\n",
    "        result_key_list = [i[0] for i in cur.description]\n",
    "        demand_dataframe = pd.DataFrame(results_values_list)\n",
    "        demand_dataframe.columns = result_key_list\n",
    "    cur.close () \n",
    "    conn.close()\n",
    "except Exception as e:\n",
    "    print(e)\n",
    "# 撈取需量資料 [E]"
   ]
  },
  {
   "cell_type": "code",
   "execution_count": 19,
   "metadata": {
    "scrolled": false
   },
   "outputs": [
    {
     "data": {
      "text/html": [
       "<div>\n",
       "<style scoped>\n",
       "    .dataframe tbody tr th:only-of-type {\n",
       "        vertical-align: middle;\n",
       "    }\n",
       "\n",
       "    .dataframe tbody tr th {\n",
       "        vertical-align: top;\n",
       "    }\n",
       "\n",
       "    .dataframe thead th {\n",
       "        text-align: right;\n",
       "    }\n",
       "</style>\n",
       "<table border=\"1\" class=\"dataframe\">\n",
       "  <thead>\n",
       "    <tr style=\"text-align: right;\">\n",
       "      <th></th>\n",
       "      <th>id</th>\n",
       "      <th>address</th>\n",
       "      <th>channel</th>\n",
       "      <th>model</th>\n",
       "      <th>datetime</th>\n",
       "      <th>demand_min</th>\n",
       "      <th>demand_quarter</th>\n",
       "      <th>Total_value</th>\n",
       "    </tr>\n",
       "  </thead>\n",
       "  <tbody>\n",
       "    <tr>\n",
       "      <th>0</th>\n",
       "      <td>16308900</td>\n",
       "      <td>15</td>\n",
       "      <td>15</td>\n",
       "      <td>DEM600-4</td>\n",
       "      <td>2022-11-29 09:18:00</td>\n",
       "      <td>126.0</td>\n",
       "      <td>139.2</td>\n",
       "      <td>133.0</td>\n",
       "    </tr>\n",
       "  </tbody>\n",
       "</table>\n",
       "</div>"
      ],
      "text/plain": [
       "         id address  channel     model            datetime  demand_min  \\\n",
       "0  16308900      15       15  DEM600-4 2022-11-29 09:18:00       126.0   \n",
       "\n",
       "   demand_quarter  Total_value  \n",
       "0           139.2        133.0  "
      ]
     },
     "execution_count": 19,
     "metadata": {},
     "output_type": "execute_result"
    }
   ],
   "source": [
    "demand_dataframe"
   ]
  },
  {
   "cell_type": "code",
   "execution_count": 8,
   "metadata": {},
   "outputs": [],
   "source": [
    "#儲存需量與天氣資料[B]\n",
    "if len(results_values_list) > 0 :\n",
    "    conn2  =  pymysql.connect ( host = ' ' ,  user = ' ' ,  passwd = \" \" ,  db = 'ncku_demand_minutes' )\n",
    "    cur2  =  conn2.cursor()\n",
    "    insert_demand_weather_sql = \"INSERT INTO `demand_with_weather_data`(`demand_min`, `demand_quarter`, `Total_value`, `Temperature`, `humd`, `pres`, `w_DSD`, `w_DIR`, `h_FX`, `24R`, `h_UVI`, `T_Min`, `T_Max`, `day_of_year`, `data_week`, `data_date`, `data_hour`, `data_minute`, `data_weekday`, `minutes_of_the_day`, `datetime`) VALUES\"\n",
    "    innser_sql = ''\n",
    "    for index, demand_info in demand_dataframe.iterrows():\n",
    "    #     this_data_datetime = datetime.strptime(demand_info['datetime'], \"%Y-%m-%d %H:%M:%S\")\n",
    "        this_data_datetime = demand_info['datetime']\n",
    "        data_day_of_year = this_data_datetime.timetuple().tm_yday # 一天的第幾天;\n",
    "        data_week = this_data_datetime.isocalendar()[1] # 一年當中的第幾周\n",
    "        data_date = this_data_datetime.date().strftime(\"%Y-%m-%d\")\n",
    "        data_hour = this_data_datetime.hour\n",
    "        data_minute = this_data_datetime.minute\n",
    "        data_weekday = this_data_datetime.isoweekday()\n",
    "        minutes_of_the_day = (data_hour*60 + data_minute)\n",
    "        rain_24h = 0 if float(weather_dataframe['24R'][0]) < 0 else weather_dataframe['24R'][0]\n",
    "        T_min = weather_dataframe['D_TN'][0] if float(weather_dataframe['D_TN'][0]) > 0 else 0\n",
    "        innser_sql += ', ' if len(innser_sql) > 0 else ''\n",
    "        innser_sql += \" ('{}', '{}', '{}', '{}', '{}', '{}', '{}', '{}', '{}', '{}', '{}', '{}', '{}', '{}', '{}', '{}', '{}', '{}', '{}', '{}', '{}')\".format(\n",
    "        demand_info['demand_min'], demand_info['demand_quarter'], demand_info['Total_value'], weather_dataframe['TEMP'][0], weather_dataframe['HUMD'][0], weather_dataframe['PRES'][0], weather_dataframe['WDSD'][0], weather_dataframe['WDIR'][0], weather_dataframe['H_FX'][0], weather_dataframe['24R'][0], weather_dataframe['H_UVI'][0], T_min, weather_dataframe['D_TX'][0], data_day_of_year, data_week, data_date, data_hour, data_minute, data_weekday, minutes_of_the_day, demand_info['datetime'])\n",
    "    insert_demand_weather_sql += innser_sql\n",
    "    cur2.execute(insert_demand_weather_sql)\n",
    "    conn2.commit()\n",
    "\n",
    "#儲存需量與天氣資料[E]"
   ]
  },
  {
   "cell_type": "code",
   "execution_count": 9,
   "metadata": {},
   "outputs": [],
   "source": [
    "# 儲存天氣資料 [B]\n",
    "conn2  =  pymysql.connect ( host = ' ' ,  user = ' ' ,  passwd = \" \" ,  db = 'ncku_demand' )\n",
    "cur2  =  conn2.cursor()\n",
    "rain_24h = 0 if float(weather_dataframe['24R'][0]) < 0 else weather_dataframe['24R'][0]\n",
    "insert_weather_sql = \"INSERT INTO `weather_data_cwb`(`ELEV`, `WDIR`, `WDSD`, `TEMP`, `HUMD`, `PRES`, `24R`, `H_FX`, `H_XD`, `H_FXT`, `H_F10`, `H_10D`, `H_F10T`, `H_UVI`, `D_TX`, `D_TXT`, `D_TN`, `D_TNT`, `D_TS`, `VIS`, `Weather`, `observe_time`) VALUES \"\n",
    "insert_weather_sql += \"('{}', '{}', '{}', '{}', '{}', '{}', '{}', '{}', '{}', '{}', '{}', '{}', '{}', '{}', '{}', '{}', '{}', '{}', '{}', '{}', '{}', '{}')\".format(\n",
    "    weather_dataframe['ELEV'][0], weather_dataframe['WDIR'][0], weather_dataframe['WDSD'][0], weather_dataframe['TEMP'][0], weather_dataframe['HUMD'][0], weather_dataframe['PRES'][0], rain_24h,  weather_dataframe['H_FX'][0],  weather_dataframe['H_XD'][0],  weather_dataframe['H_FXT'][0],  weather_dataframe['H_F10'][0], \n",
    "    weather_dataframe['H_10D'][0],  weather_dataframe['H_UVI'][0],  weather_dataframe['H_F10'][0],  weather_dataframe['D_TX'][0],  weather_dataframe['D_TXT'][0],  weather_dataframe['D_TN'][0],  weather_dataframe['D_TNT'][0],  weather_dataframe['D_TS'][0],  weather_dataframe['VIS'][0],  weather_dataframe['Weather'][0], observe_time\n",
    ")\n",
    "cur2.execute(insert_weather_sql)\n",
    "conn2.commit()\n",
    "# 儲存天氣資料 [E]"
   ]
  },
  {
   "cell_type": "code",
   "execution_count": 17,
   "metadata": {},
   "outputs": [],
   "source": [
    "cur2.close () \n",
    "conn2.close()"
   ]
  }
 ],
 "metadata": {
  "kernelspec": {
   "display_name": "Python 3 (ipykernel)",
   "language": "python",
   "name": "python3"
  },
  "language_info": {
   "codemirror_mode": {
    "name": "ipython",
    "version": 3
   },
   "file_extension": ".py",
   "mimetype": "text/x-python",
   "name": "python",
   "nbconvert_exporter": "python",
   "pygments_lexer": "ipython3",
   "version": "3.9.7"
  }
 },
 "nbformat": 4,
 "nbformat_minor": 4
}
